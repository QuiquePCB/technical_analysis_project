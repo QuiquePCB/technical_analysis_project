{
 "cells": [
  {
   "cell_type": "code",
   "execution_count": null,
   "id": "f40e9c78",
   "metadata": {},
   "outputs": [],
   "source": [
    "# Descargamos datos y preparamos datasets\n",
    "from tech_analysis.train_test_split import TrainTestSets"
   ]
  },
  {
   "cell_type": "code",
   "execution_count": null,
   "id": "aa317625",
   "metadata": {},
   "outputs": [
    {
     "name": "stderr",
     "output_type": "stream",
     "text": [
      "c:\\Users\\QuiquePCB\\Documents\\GitHub\\technical_analysis_project\\tech_analysis\\train_test_split.py:28: FutureWarning: YF.download() has changed argument auto_adjust default to True\n",
      "  data = yf.download(tickers = ticker, start=start, end=end, interval=interval)\n",
      "[*********************100%***********************]  1 of 1 completed\n",
      "c:\\Users\\QuiquePCB\\Documents\\GitHub\\technical_analysis_project\\tech_analysis\\train_test_split.py:28: FutureWarning: YF.download() has changed argument auto_adjust default to True\n",
      "  data = yf.download(tickers = ticker, start=start, end=end, interval=interval)\n",
      "[*********************100%***********************]  1 of 1 completed\n"
     ]
    },
    {
     "data": {
      "text/plain": [
       "dict_keys(['4h_train', '4h_test', '1d_train', '1d_test'])"
      ]
     },
     "execution_count": 3,
     "metadata": {},
     "output_type": "execute_result"
    }
   ],
   "source": [
    "tts = TrainTestSets()\n",
    "ticker = 'BTC-USD'\n",
    "intervals = [\"1m\", \"2m\", \"5m\", \"15m\", \"30m\", \"60m\", \"90m\", \"1h\", \"4h\", \"1d\", \"5d\", \"1wk\"]\n",
    "# Este es un diccionario\n",
    "data = tts.interval_train_test_split(ticker, intervals)\n",
    "data.keys()"
   ]
  },
  {
   "cell_type": "code",
   "execution_count": null,
   "id": "9ac39155",
   "metadata": {},
   "outputs": [
    {
     "name": "stderr",
     "output_type": "stream",
     "text": [
      "c:\\Users\\QuiquePCB\\AppData\\Local\\Programs\\Python\\Python313\\Lib\\site-packages\\backtesting\\_plotting.py:55: UserWarning: Jupyter Notebook detected. Setting Bokeh output to notebook. This may not work in Jupyter clients without JavaScript support, such as old IDEs. Reset with `backtesting.set_bokeh_output(notebook=False)`.\n",
      "  warnings.warn('Jupyter Notebook detected. '\n"
     ]
    },
    {
     "data": {
      "text/html": [
       "    <style>\n",
       "        .bk-notebook-logo {\n",
       "            display: block;\n",
       "            width: 20px;\n",
       "            height: 20px;\n",
       "            background-image: url(data:image/png;base64,iVBORw0KGgoAAAANSUhEUgAAABQAAAAUCAYAAACNiR0NAAAABHNCSVQICAgIfAhkiAAAAAlwSFlzAAALEgAACxIB0t1+/AAAABx0RVh0U29mdHdhcmUAQWRvYmUgRmlyZXdvcmtzIENTNui8sowAAAOkSURBVDiNjZRtaJVlGMd/1/08zzln5zjP1LWcU9N0NkN8m2CYjpgQYQXqSs0I84OLIC0hkEKoPtiH3gmKoiJDU7QpLgoLjLIQCpEsNJ1vqUOdO7ppbuec5+V+rj4ctwzd8IIbbi6u+8f1539dt3A78eXC7QizUF7gyV1fD1Yqg4JWz84yffhm0qkFqBogB9rM8tZdtwVsPUhWhGcFJngGeWrPzHm5oaMmkfEg1usvLFyc8jLRqDOMru7AyC8saQr7GG7f5fvDeH7Ej8CM66nIF+8yngt6HWaKh7k49Soy9nXurCi1o3qUbS3zWfrYeQDTB/Qj6kX6Ybhw4B+bOYoLKCC9H3Nu/leUTZ1JdRWkkn2ldcCamzrcf47KKXdAJllSlxAOkRgyHsGC/zRday5Qld9DyoM4/q/rUoy/CXh3jzOu3bHUVZeU+DEn8FInkPBFlu3+nW3Nw0mk6vCDiWg8CeJaxEwuHS3+z5RgY+YBR6V1Z1nxSOfoaPa4LASWxxdNp+VWTk7+4vzaou8v8PN+xo+KY2xsw6une2frhw05CTYOmQvsEhjhWjn0bmXPjpE1+kplmmkP3suftwTubK9Vq22qKmrBhpY4jvd5afdRA3wGjFAgcnTK2s4hY0/GPNIb0nErGMCRxWOOX64Z8RAC4oCXdklmEvcL8o0BfkNK4lUg9HTl+oPlQxdNo3Mg4Nv175e/1LDGzZen30MEjRUtmXSfiTVu1kK8W4txyV6BMKlbgk3lMwYCiusNy9fVfvvwMxv8Ynl6vxoByANLTWplvuj/nF9m2+PDtt1eiHPBr1oIfhCChQMBw6Aw0UulqTKZdfVvfG7VcfIqLG9bcldL/+pdWTLxLUy8Qq38heUIjh4XlzZxzQm19lLFlr8vdQ97rjZVOLf8nclzckbcD4wxXMidpX30sFd37Fv/GtwwhzhxGVAprjbg0gCAEeIgwCZyTV2Z1REEW8O4py0wsjeloKoMr6iCY6dP92H6Vw/oTyICIthibxjm/DfN9lVz8IqtqKYLUXfoKVMVQVVJOElGjrnnUt9T9wbgp8AyYKaGlqingHZU/uG2NTZSVqwHQTWkx9hxjkpWDaCg6Ckj5qebgBVbT3V3NNXMSiWSDdGV3hrtzla7J+duwPOToIg42ChPQOQjspnSlp1V+Gjdged7+8UN5CRAV7a5EdFNwCjEaBR27b3W890TE7g24NAP/mMDXRWrGoFPQI9ls/MWO2dWFAar/xcOIImbbpA3zgAAAABJRU5ErkJggg==);\n",
       "        }\n",
       "    </style>\n",
       "    <div>\n",
       "        <a href=\"https://bokeh.org\" target=\"_blank\" class=\"bk-notebook-logo\"></a>\n",
       "        <span id=\"d2a84908-fbb6-4930-951c-208f96fbc75e\">Loading BokehJS ...</span>\n",
       "    </div>\n"
      ]
     },
     "metadata": {},
     "output_type": "display_data"
    },
    {
     "data": {
      "application/javascript": "'use strict';\n(function(root) {\n  function now() {\n    return new Date();\n  }\n\n  const force = true;\n\n  if (typeof root._bokeh_onload_callbacks === \"undefined\" || force === true) {\n    root._bokeh_onload_callbacks = [];\n    root._bokeh_is_loading = undefined;\n  }\n\nconst JS_MIME_TYPE = 'application/javascript';\n  const HTML_MIME_TYPE = 'text/html';\n  const EXEC_MIME_TYPE = 'application/vnd.bokehjs_exec.v0+json';\n  const CLASS_NAME = 'output_bokeh rendered_html';\n\n  /**\n   * Render data to the DOM node\n   */\n  function render(props, node) {\n    const script = document.createElement(\"script\");\n    node.appendChild(script);\n  }\n\n  /**\n   * Handle when an output is cleared or removed\n   */\n  function handleClearOutput(event, handle) {\n    function drop(id) {\n      const view = Bokeh.index.get_by_id(id)\n      if (view != null) {\n        view.model.document.clear()\n        Bokeh.index.delete(view)\n      }\n    }\n\n    const cell = handle.cell;\n\n    const id = cell.output_area._bokeh_element_id;\n    const server_id = cell.output_area._bokeh_server_id;\n\n    // Clean up Bokeh references\n    if (id != null) {\n      drop(id)\n    }\n\n    if (server_id !== undefined) {\n      // Clean up Bokeh references\n      const cmd_clean = \"from bokeh.io.state import curstate; print(curstate().uuid_to_server['\" + server_id + \"'].get_sessions()[0].document.roots[0]._id)\";\n      cell.notebook.kernel.execute(cmd_clean, {\n        iopub: {\n          output: function(msg) {\n            const id = msg.content.text.trim()\n            drop(id)\n          }\n        }\n      });\n      // Destroy server and session\n      const cmd_destroy = \"import bokeh.io.notebook as ion; ion.destroy_server('\" + server_id + \"')\";\n      cell.notebook.kernel.execute(cmd_destroy);\n    }\n  }\n\n  /**\n   * Handle when a new output is added\n   */\n  function handleAddOutput(event, handle) {\n    const output_area = handle.output_area;\n    const output = handle.output;\n\n    // limit handleAddOutput to display_data with EXEC_MIME_TYPE content only\n    if ((output.output_type != \"display_data\") || (!Object.prototype.hasOwnProperty.call(output.data, EXEC_MIME_TYPE))) {\n      return\n    }\n\n    const toinsert = output_area.element.find(\".\" + CLASS_NAME.split(' ')[0]);\n\n    if (output.metadata[EXEC_MIME_TYPE][\"id\"] !== undefined) {\n      toinsert[toinsert.length - 1].firstChild.textContent = output.data[JS_MIME_TYPE];\n      // store reference to embed id on output_area\n      output_area._bokeh_element_id = output.metadata[EXEC_MIME_TYPE][\"id\"];\n    }\n    if (output.metadata[EXEC_MIME_TYPE][\"server_id\"] !== undefined) {\n      const bk_div = document.createElement(\"div\");\n      bk_div.innerHTML = output.data[HTML_MIME_TYPE];\n      const script_attrs = bk_div.children[0].attributes;\n      for (let i = 0; i < script_attrs.length; i++) {\n        toinsert[toinsert.length - 1].firstChild.setAttribute(script_attrs[i].name, script_attrs[i].value);\n        toinsert[toinsert.length - 1].firstChild.textContent = bk_div.children[0].textContent\n      }\n      // store reference to server id on output_area\n      output_area._bokeh_server_id = output.metadata[EXEC_MIME_TYPE][\"server_id\"];\n    }\n  }\n\n  function register_renderer(events, OutputArea) {\n\n    function append_mime(data, metadata, element) {\n      // create a DOM node to render to\n      const toinsert = this.create_output_subarea(\n        metadata,\n        CLASS_NAME,\n        EXEC_MIME_TYPE\n      );\n      this.keyboard_manager.register_events(toinsert);\n      // Render to node\n      const props = {data: data, metadata: metadata[EXEC_MIME_TYPE]};\n      render(props, toinsert[toinsert.length - 1]);\n      element.append(toinsert);\n      return toinsert\n    }\n\n    /* Handle when an output is cleared or removed */\n    events.on('clear_output.CodeCell', handleClearOutput);\n    events.on('delete.Cell', handleClearOutput);\n\n    /* Handle when a new output is added */\n    events.on('output_added.OutputArea', handleAddOutput);\n\n    /**\n     * Register the mime type and append_mime function with output_area\n     */\n    OutputArea.prototype.register_mime_type(EXEC_MIME_TYPE, append_mime, {\n      /* Is output safe? */\n      safe: true,\n      /* Index of renderer in `output_area.display_order` */\n      index: 0\n    });\n  }\n\n  // register the mime type if in Jupyter Notebook environment and previously unregistered\n  if (root.Jupyter !== undefined) {\n    const events = require('base/js/events');\n    const OutputArea = require('notebook/js/outputarea').OutputArea;\n\n    if (OutputArea.prototype.mime_types().indexOf(EXEC_MIME_TYPE) == -1) {\n      register_renderer(events, OutputArea);\n    }\n  }\n  if (typeof (root._bokeh_timeout) === \"undefined\" || force === true) {\n    root._bokeh_timeout = Date.now() + 5000;\n    root._bokeh_failed_load = false;\n  }\n\n  const NB_LOAD_WARNING = {'data': {'text/html':\n     \"<div style='background-color: #fdd'>\\n\"+\n     \"<p>\\n\"+\n     \"BokehJS does not appear to have successfully loaded. If loading BokehJS from CDN, this \\n\"+\n     \"may be due to a slow or bad network connection. Possible fixes:\\n\"+\n     \"</p>\\n\"+\n     \"<ul>\\n\"+\n     \"<li>re-rerun `output_notebook()` to attempt to load from CDN again, or</li>\\n\"+\n     \"<li>use INLINE resources instead, as so:</li>\\n\"+\n     \"</ul>\\n\"+\n     \"<code>\\n\"+\n     \"from bokeh.resources import INLINE\\n\"+\n     \"output_notebook(resources=INLINE)\\n\"+\n     \"</code>\\n\"+\n     \"</div>\"}};\n\n  function display_loaded(error = null) {\n    const el = document.getElementById(\"d2a84908-fbb6-4930-951c-208f96fbc75e\");\n    if (el != null) {\n      const html = (() => {\n        if (typeof root.Bokeh === \"undefined\") {\n          if (error == null) {\n            return \"BokehJS is loading ...\";\n          } else {\n            return \"BokehJS failed to load.\";\n          }\n        } else {\n          const prefix = `BokehJS ${root.Bokeh.version}`;\n          if (error == null) {\n            return `${prefix} successfully loaded.`;\n          } else {\n            return `${prefix} <b>encountered errors</b> while loading and may not function as expected.`;\n          }\n        }\n      })();\n      el.innerHTML = html;\n\n      if (error != null) {\n        const wrapper = document.createElement(\"div\");\n        wrapper.style.overflow = \"auto\";\n        wrapper.style.height = \"5em\";\n        wrapper.style.resize = \"vertical\";\n        const content = document.createElement(\"div\");\n        content.style.fontFamily = \"monospace\";\n        content.style.whiteSpace = \"pre-wrap\";\n        content.style.backgroundColor = \"rgb(255, 221, 221)\";\n        content.textContent = error.stack ?? error.toString();\n        wrapper.append(content);\n        el.append(wrapper);\n      }\n    } else if (Date.now() < root._bokeh_timeout) {\n      setTimeout(() => display_loaded(error), 100);\n    }\n  }\n\n  function run_callbacks() {\n    try {\n      root._bokeh_onload_callbacks.forEach(function(callback) {\n        if (callback != null)\n          callback();\n      });\n    } finally {\n      delete root._bokeh_onload_callbacks\n    }\n    console.debug(\"Bokeh: all callbacks have finished\");\n  }\n\n  function load_libs(css_urls, js_urls, callback) {\n    if (css_urls == null) css_urls = [];\n    if (js_urls == null) js_urls = [];\n\n    root._bokeh_onload_callbacks.push(callback);\n    if (root._bokeh_is_loading > 0) {\n      console.debug(\"Bokeh: BokehJS is being loaded, scheduling callback at\", now());\n      return null;\n    }\n    if (js_urls == null || js_urls.length === 0) {\n      run_callbacks();\n      return null;\n    }\n    console.debug(\"Bokeh: BokehJS not loaded, scheduling load and callback at\", now());\n    root._bokeh_is_loading = css_urls.length + js_urls.length;\n\n    function on_load() {\n      root._bokeh_is_loading--;\n      if (root._bokeh_is_loading === 0) {\n        console.debug(\"Bokeh: all BokehJS libraries/stylesheets loaded\");\n        run_callbacks()\n      }\n    }\n\n    function on_error(url) {\n      console.error(\"failed to load \" + url);\n    }\n\n    for (let i = 0; i < css_urls.length; i++) {\n      const url = css_urls[i];\n      const element = document.createElement(\"link\");\n      element.onload = on_load;\n      element.onerror = on_error.bind(null, url);\n      element.rel = \"stylesheet\";\n      element.type = \"text/css\";\n      element.href = url;\n      console.debug(\"Bokeh: injecting link tag for BokehJS stylesheet: \", url);\n      document.body.appendChild(element);\n    }\n\n    for (let i = 0; i < js_urls.length; i++) {\n      const url = js_urls[i];\n      const element = document.createElement('script');\n      element.onload = on_load;\n      element.onerror = on_error.bind(null, url);\n      element.async = false;\n      element.src = url;\n      console.debug(\"Bokeh: injecting script tag for BokehJS library: \", url);\n      document.head.appendChild(element);\n    }\n  };\n\n  function inject_raw_css(css) {\n    const element = document.createElement(\"style\");\n    element.appendChild(document.createTextNode(css));\n    document.body.appendChild(element);\n  }\n\n  const js_urls = [\"https://cdn.bokeh.org/bokeh/release/bokeh-3.7.3.min.js\", \"https://cdn.bokeh.org/bokeh/release/bokeh-gl-3.7.3.min.js\", \"https://cdn.bokeh.org/bokeh/release/bokeh-widgets-3.7.3.min.js\", \"https://cdn.bokeh.org/bokeh/release/bokeh-tables-3.7.3.min.js\", \"https://cdn.bokeh.org/bokeh/release/bokeh-mathjax-3.7.3.min.js\"];\n  const css_urls = [];\n\n  const inline_js = [    function(Bokeh) {\n      Bokeh.set_log_level(\"info\");\n    },\nfunction(Bokeh) {\n    }\n  ];\n\n  function run_inline_js() {\n    if (root.Bokeh !== undefined || force === true) {\n      try {\n            for (let i = 0; i < inline_js.length; i++) {\n      inline_js[i].call(root, root.Bokeh);\n    }\n\n      } catch (error) {display_loaded(error);throw error;\n      }if (force === true) {\n        display_loaded();\n      }} else if (Date.now() < root._bokeh_timeout) {\n      setTimeout(run_inline_js, 100);\n    } else if (!root._bokeh_failed_load) {\n      console.log(\"Bokeh: BokehJS failed to load within specified timeout.\");\n      root._bokeh_failed_load = true;\n    } else if (force !== true) {\n      const cell = $(document.getElementById(\"d2a84908-fbb6-4930-951c-208f96fbc75e\")).parents('.cell').data().cell;\n      cell.output_area.append_execute_result(NB_LOAD_WARNING)\n    }\n  }\n\n  if (root._bokeh_is_loading === 0) {\n    console.debug(\"Bokeh: BokehJS loaded, going straight to plotting\");\n    run_inline_js();\n  } else {\n    load_libs(css_urls, js_urls, function() {\n      console.debug(\"Bokeh: BokehJS plotting callback run at\", now());\n      run_inline_js();\n    });\n  }\n}(window));",
      "application/vnd.bokehjs_load.v0+json": ""
     },
     "metadata": {},
     "output_type": "display_data"
    }
   ],
   "source": [
    "# Importamos estrategias\n",
    "from tech_analysis.strategies import SmaCross, EWMA, BollingerBands"
   ]
  },
  {
   "cell_type": "code",
   "execution_count": null,
   "id": "eb49269a",
   "metadata": {},
   "outputs": [],
   "source": [
    "# Optimizamos\n",
    "from tech_analysis.optimization import SMAOptTechAnalysis, EWMAOptTechAnalysis, BollingerBandsOptTechAnalysis"
   ]
  },
  {
   "cell_type": "markdown",
   "id": "965df3a8",
   "metadata": {},
   "source": [
    "## SMA"
   ]
  },
  {
   "cell_type": "code",
   "execution_count": null,
   "id": "52f5d751",
   "metadata": {},
   "outputs": [
    {
     "data": {
      "text/html": [
       "<div>\n",
       "<style scoped>\n",
       "    .dataframe tbody tr th:only-of-type {\n",
       "        vertical-align: middle;\n",
       "    }\n",
       "\n",
       "    .dataframe tbody tr th {\n",
       "        vertical-align: top;\n",
       "    }\n",
       "\n",
       "    .dataframe thead th {\n",
       "        text-align: right;\n",
       "    }\n",
       "</style>\n",
       "<table border=\"1\" class=\"dataframe\">\n",
       "  <thead>\n",
       "    <tr style=\"text-align: right;\">\n",
       "      <th></th>\n",
       "      <th>interval</th>\n",
       "      <th>n1</th>\n",
       "      <th>n2</th>\n",
       "      <th>Return [%]</th>\n",
       "      <th>No. of Trades</th>\n",
       "    </tr>\n",
       "  </thead>\n",
       "  <tbody>\n",
       "    <tr>\n",
       "      <th>1</th>\n",
       "      <td>1d_train</td>\n",
       "      <td>19</td>\n",
       "      <td>57</td>\n",
       "      <td>55.379807</td>\n",
       "      <td>1</td>\n",
       "    </tr>\n",
       "    <tr>\n",
       "      <th>0</th>\n",
       "      <td>4h_train</td>\n",
       "      <td>12</td>\n",
       "      <td>20</td>\n",
       "      <td>41.221234</td>\n",
       "      <td>42</td>\n",
       "    </tr>\n",
       "  </tbody>\n",
       "</table>\n",
       "</div>"
      ],
      "text/plain": [
       "   interval  n1  n2  Return [%]  No. of Trades\n",
       "1  1d_train  19  57   55.379807              1\n",
       "0  4h_train  12  20   41.221234             42"
      ]
     },
     "execution_count": 6,
     "metadata": {},
     "output_type": "execute_result"
    }
   ],
   "source": [
    "n1_SMA = range(5,20)\n",
    "n2_SMA = range(20,60)\n",
    "optimizer_SMA = SMAOptTechAnalysis(SmaCross)\n",
    "optimizer_SMA.sma_strategy_optimization(all_data=data, n1=n1_SMA, n2=n2_SMA)"
   ]
  },
  {
   "cell_type": "markdown",
   "id": "71201e2e",
   "metadata": {},
   "source": [
    "Esta es la mejor estrategia"
   ]
  },
  {
   "cell_type": "code",
   "execution_count": null,
   "id": "645df805",
   "metadata": {},
   "outputs": [],
   "source": [
    "# Probamos la mejor estrategia con el dataset de test\n",
    "from backtesting import Backtest\n",
    "\n",
    "test_best_strategy_SMA = Backtest(data['1d_test'], SmaCross, cash=10_000_000, commission=0.002)"
   ]
  },
  {
   "cell_type": "code",
   "execution_count": null,
   "id": "ccdc71c1",
   "metadata": {},
   "outputs": [],
   "source": [
    "stats_SMA = test_best_strategy_SMA.run(n1=19, n2=57)"
   ]
  },
  {
   "cell_type": "code",
   "execution_count": null,
   "id": "ec31e320",
   "metadata": {},
   "outputs": [
    {
     "data": {
      "text/plain": [
       "Start                     2025-02-16 00:00:00\n",
       "End                       2025-06-05 00:00:00\n",
       "Duration                    109 days 00:00:00\n",
       "Exposure Time [%]                         0.0\n",
       "Equity Final [$]               10700546.91602\n",
       "Equity Peak [$]                11760766.36914\n",
       "Return [%]                            7.00547\n",
       "Buy & Hold Return [%]                21.37896\n",
       "Return (Ann.) [%]                    25.19136\n",
       "Volatility (Ann.) [%]                25.79006\n",
       "CAGR [%]                             25.44968\n",
       "Sharpe Ratio                          0.97679\n",
       "Sortino Ratio                         2.14906\n",
       "Calmar Ratio                          2.79442\n",
       "Alpha [%]                             3.79957\n",
       "Beta                                  0.14996\n",
       "Max. Drawdown [%]                    -9.01488\n",
       "Avg. Drawdown [%]                    -2.36279\n",
       "Max. Drawdown Duration       14 days 00:00:00\n",
       "Avg. Drawdown Duration        6 days 00:00:00\n",
       "# Trades                                    0\n",
       "Win Rate [%]                              NaN\n",
       "Best Trade [%]                            NaN\n",
       "Worst Trade [%]                           NaN\n",
       "Avg. Trade [%]                            NaN\n",
       "Max. Trade Duration                       NaN\n",
       "Avg. Trade Duration                       NaN\n",
       "Profit Factor                             NaN\n",
       "Expectancy [%]                            NaN\n",
       "SQN                                       NaN\n",
       "Kelly Criterion                           NaN\n",
       "_strategy                 SmaCross(n1=19,n...\n",
       "_equity_curve                             ...\n",
       "_trades                   Empty DataFrame\n",
       "...\n",
       "dtype: object"
      ]
     },
     "execution_count": 9,
     "metadata": {},
     "output_type": "execute_result"
    }
   ],
   "source": [
    "stats_SMA"
   ]
  },
  {
   "cell_type": "code",
   "execution_count": null,
   "id": "2806ffbc",
   "metadata": {},
   "outputs": [
    {
     "data": {
      "text/html": [
       "\n",
       "  <div id=\"bb2339b8-6e24-44b0-ba69-7546bbdf8041\" data-root-id=\"p1218\" style=\"display: contents;\"></div>\n"
      ]
     },
     "metadata": {},
     "output_type": "display_data"
    },
    {
     "data": {
      "application/javascript": "(function(root) {\n  function embed_document(root) {\n  const docs_json = {\"634f4142-933e-4f98-9dd5-ab44df18251a\":{\"version\":\"3.7.3\",\"title\":\"Bokeh Application\",\"roots\":[{\"type\":\"object\",\"name\":\"GridPlot\",\"id\":\"p1218\",\"attributes\":{\"rows\":null,\"cols\":null,\"sizing_mode\":\"stretch_width\",\"toolbar\":{\"type\":\"object\",\"name\":\"Toolbar\",\"id\":\"p1217\",\"attributes\":{\"tools\":[{\"type\":\"object\",\"name\":\"ToolProxy\",\"id\":\"p1205\",\"attributes\":{\"tools\":[{\"type\":\"object\",\"name\":\"PanTool\",\"id\":\"p1026\",\"attributes\":{\"dimensions\":\"width\"}},{\"type\":\"object\",\"name\":\"PanTool\",\"id\":\"p1073\",\"attributes\":{\"dimensions\":\"width\"}},{\"type\":\"object\",\"name\":\"PanTool\",\"id\":\"p1172\",\"attributes\":{\"dimensions\":\"width\"}}]}},{\"type\":\"object\",\"name\":\"ToolProxy\",\"id\":\"p1206\",\"attributes\":{\"tools\":[{\"type\":\"object\",\"name\":\"WheelZoomTool\",\"id\":\"p1027\",\"attributes\":{\"dimensions\":\"width\",\"renderers\":\"auto\",\"maintain_focus\":false}},{\"type\":\"object\",\"name\":\"WheelZoomTool\",\"id\":\"p1074\",\"attributes\":{\"dimensions\":\"width\",\"renderers\":\"auto\",\"maintain_focus\":false}},{\"type\":\"object\",\"name\":\"WheelZoomTool\",\"id\":\"p1173\",\"attributes\":{\"dimensions\":\"width\",\"renderers\":\"auto\",\"maintain_focus\":false}}]}},{\"type\":\"object\",\"name\":\"ToolProxy\",\"id\":\"p1207\",\"attributes\":{\"tools\":[{\"type\":\"object\",\"name\":\"WheelPanTool\",\"id\":\"p1028\"},{\"type\":\"object\",\"name\":\"WheelPanTool\",\"id\":\"p1075\"},{\"type\":\"object\",\"name\":\"WheelPanTool\",\"id\":\"p1174\"}]}},{\"type\":\"object\",\"name\":\"ToolProxy\",\"id\":\"p1208\",\"attributes\":{\"tools\":[{\"type\":\"object\",\"name\":\"BoxZoomTool\",\"id\":\"p1029\",\"attributes\":{\"dimensions\":\"both\",\"overlay\":{\"type\":\"object\",\"name\":\"BoxAnnotation\",\"id\":\"p1030\",\"attributes\":{\"syncable\":false,\"line_color\":\"black\",\"line_alpha\":1.0,\"line_width\":2,\"line_dash\":[4,4],\"fill_color\":\"lightgrey\",\"fill_alpha\":0.5,\"level\":\"overlay\",\"visible\":false,\"left\":{\"type\":\"number\",\"value\":\"nan\"},\"right\":{\"type\":\"number\",\"value\":\"nan\"},\"top\":{\"type\":\"number\",\"value\":\"nan\"},\"bottom\":{\"type\":\"number\",\"value\":\"nan\"},\"left_units\":\"canvas\",\"right_units\":\"canvas\",\"top_units\":\"canvas\",\"bottom_units\":\"canvas\",\"handles\":{\"type\":\"object\",\"name\":\"BoxInteractionHandles\",\"id\":\"p1036\",\"attributes\":{\"all\":{\"type\":\"object\",\"name\":\"AreaVisuals\",\"id\":\"p1035\",\"attributes\":{\"fill_color\":\"white\",\"hover_fill_color\":\"lightgray\"}}}}}}}},{\"type\":\"object\",\"name\":\"BoxZoomTool\",\"id\":\"p1076\",\"attributes\":{\"dimensions\":\"both\",\"overlay\":{\"type\":\"object\",\"name\":\"BoxAnnotation\",\"id\":\"p1077\",\"attributes\":{\"syncable\":false,\"line_color\":\"black\",\"line_alpha\":1.0,\"line_width\":2,\"line_dash\":[4,4],\"fill_color\":\"lightgrey\",\"fill_alpha\":0.5,\"level\":\"overlay\",\"visible\":false,\"left\":{\"type\":\"number\",\"value\":\"nan\"},\"right\":{\"type\":\"number\",\"value\":\"nan\"},\"top\":{\"type\":\"number\",\"value\":\"nan\"},\"bottom\":{\"type\":\"number\",\"value\":\"nan\"},\"left_units\":\"canvas\",\"right_units\":\"canvas\",\"top_units\":\"canvas\",\"bottom_units\":\"canvas\",\"handles\":{\"type\":\"object\",\"name\":\"BoxInteractionHandles\",\"id\":\"p1083\",\"attributes\":{\"all\":{\"type\":\"object\",\"name\":\"AreaVisuals\",\"id\":\"p1082\",\"attributes\":{\"fill_color\":\"white\",\"hover_fill_color\":\"lightgray\"}}}}}}}},{\"type\":\"object\",\"name\":\"BoxZoomTool\",\"id\":\"p1175\",\"attributes\":{\"dimensions\":\"both\",\"overlay\":{\"type\":\"object\",\"name\":\"BoxAnnotation\",\"id\":\"p1176\",\"attributes\":{\"syncable\":false,\"line_color\":\"black\",\"line_alpha\":1.0,\"line_width\":2,\"line_dash\":[4,4],\"fill_color\":\"lightgrey\",\"fill_alpha\":0.5,\"level\":\"overlay\",\"visible\":false,\"left\":{\"type\":\"number\",\"value\":\"nan\"},\"right\":{\"type\":\"number\",\"value\":\"nan\"},\"top\":{\"type\":\"number\",\"value\":\"nan\"},\"bottom\":{\"type\":\"number\",\"value\":\"nan\"},\"left_units\":\"canvas\",\"right_units\":\"canvas\",\"top_units\":\"canvas\",\"bottom_units\":\"canvas\",\"handles\":{\"type\":\"object\",\"name\":\"BoxInteractionHandles\",\"id\":\"p1182\",\"attributes\":{\"all\":{\"type\":\"object\",\"name\":\"AreaVisuals\",\"id\":\"p1181\",\"attributes\":{\"fill_color\":\"white\",\"hover_fill_color\":\"lightgray\"}}}}}}}}]}},{\"type\":\"object\",\"name\":\"ToolProxy\",\"id\":\"p1209\",\"attributes\":{\"tools\":[{\"type\":\"object\",\"name\":\"UndoTool\",\"id\":\"p1037\"},{\"type\":\"object\",\"name\":\"UndoTool\",\"id\":\"p1084\"},{\"type\":\"object\",\"name\":\"UndoTool\",\"id\":\"p1183\"}]}},{\"type\":\"object\",\"name\":\"ToolProxy\",\"id\":\"p1210\",\"attributes\":{\"tools\":[{\"type\":\"object\",\"name\":\"RedoTool\",\"id\":\"p1038\"},{\"type\":\"object\",\"name\":\"RedoTool\",\"id\":\"p1085\"},{\"type\":\"object\",\"name\":\"RedoTool\",\"id\":\"p1184\"}]}},{\"type\":\"object\",\"name\":\"ToolProxy\",\"id\":\"p1211\",\"attributes\":{\"tools\":[{\"type\":\"object\",\"name\":\"ResetTool\",\"id\":\"p1039\"},{\"type\":\"object\",\"name\":\"ResetTool\",\"id\":\"p1086\"},{\"type\":\"object\",\"name\":\"ResetTool\",\"id\":\"p1185\"}]}},{\"type\":\"object\",\"name\":\"SaveTool\",\"id\":\"p1212\"},{\"type\":\"object\",\"name\":\"ToolProxy\",\"id\":\"p1213\",\"attributes\":{\"tools\":[{\"type\":\"object\",\"name\":\"HoverTool\",\"id\":\"p1200\",\"attributes\":{\"renderers\":[{\"type\":\"object\",\"name\":\"GlyphRenderer\",\"id\":\"p1138\",\"attributes\":{\"data_source\":{\"type\":\"object\",\"name\":\"ColumnDataSource\",\"id\":\"p1041\",\"attributes\":{\"selected\":{\"type\":\"object\",\"name\":\"Selection\",\"id\":\"p1042\",\"attributes\":{\"indices\":[],\"line_indices\":[]}},\"selection_policy\":{\"type\":\"object\",\"name\":\"UnionRenderers\",\"id\":\"p1043\"},\"data\":{\"type\":\"map\",\"entries\":[[\"index\",{\"type\":\"ndarray\",\"array\":{\"type\":\"bytes\",\"data\":\"AAAAAAEAAAACAAAAAwAAAAQAAAAFAAAABgAAAAcAAAAIAAAACQAAAAoAAAALAAAADAAAAA0AAAAOAAAADwAAABAAAAARAAAAEgAAABMAAAAUAAAAFQAAABYAAAAXAAAAGAAAABkAAAAaAAAAGwAAABwAAAAdAAAAHgAAAB8AAAAgAAAAIQAAACIAAAAjAAAAJAAAACUAAAAmAAAAJwAAACgAAAApAAAAKgAAACsAAAAsAAAALQAAAC4AAAAvAAAAMAAAADEAAAAyAAAAMwAAADQAAAA1AAAANgAAADcAAAA4AAAAOQAAADoAAAA7AAAAPAAAAD0AAAA+AAAAPwAAAEAAAABBAAAAQgAAAEMAAABEAAAARQAAAEYAAABHAAAASAAAAEkAAABKAAAASwAAAEwAAABNAAAATgAAAE8AAABQAAAAUQAAAFIAAABTAAAAVAAAAFUAAABWAAAAVwAAAFgAAABZAAAAWgAAAFsAAABcAAAAXQAAAF4AAABfAAAAYAAAAGEAAABiAAAAYwAAAGQAAABlAAAAZgAAAGcAAABoAAAAaQAAAGoAAABrAAAAbAAAAG0AAAA=\"},\"shape\":[110],\"dtype\":\"int32\",\"order\":\"little\"}],[\"Open\",{\"type\":\"ndarray\",\"array\":{\"type\":\"bytes\",\"data\":\"AAAA4MfS90AAAAAgMHv3QAAAAADdYfdAAAAAgMhS90AAAADgipf3QAAAAMBKAvhAAAAAQGN490AAAADgHJT3QAAAAGBfgfdAAAAA4NFS9kAAAABA7qP1QAAAAMDNhvRAAAAAABqu9EAAAADgXZn0QAAAACBEAfVAAAAAwIYC90AAAAAgAQP1QAAAAEBvS/VAAAAAwOUf9kAAAACAtPb1QAAAAIBqLfVAAAAA4KQI9UAAAABgUq3zQAAAAAC+K/NAAAAAAJY69EAAAADAznD0QAAAAOCvyvNAAAAAgAaA9EAAAAAg1Zb0QAAAAGAFKfRAAAAAgLuG9EAAAADg7DH0QAAAAECPNfVAAAAAoEiM9EAAAAAg5IT0QAAAAGB+d/RAAAAA4G4D9UAAAAAgjV31QAAAAMBDWvVAAAAAIAQ39UAAAADAE0n1QAAAACABmPRAAAAAwE8q9EAAAAAAARr0QAAAAMB+J/RAAAAAwMnL9EAAAACgdyP0QAAAAADESfRAAAAAQEt49EAAAAAgCGP0QAAAAGDVGPNAAAAAoCdX80AAAAAAGZ/yQAAAAKBfKPRAAAAAwJBw80AAAABAyFz0QAAAAID30fRAAAAAYOhu9EAAAAAgu6P0QAAAACCobfRAAAAAwOqD9EAAAAAAQ7r0QAAAAOAtnvRAAAAAIKHE9EAAAACgOMv0QAAAAAAeXvVAAAAAYDnP9kAAAABgxt/2QAAAAAAk8PZAAAAAYKof90AAAACAThz3QAAAAOC04/ZAAAAAwF0w90AAAACA5wT3QAAAAMBNAPdAAAAAgO+O90AAAAAgiqj3QAAAAABTaPdAAAAAAPkG90AAAAAgxiH3QAAAACADovdAAAAAAKSw90AAAAAAcjT5QAAAAGDbI/lAAAAAINGP+UAAAABgr2r5QAAAAODHGflAAAAAQHVu+UAAAABALUf5QAAAAIB6U/lAAAAAoBRE+UAAAABALzH5QAAAAIDo+/lAAAAAgFbI+UAAAAAAdRL6QAAAAOCXxvpAAAAAwPVD+0AAAAAg6DD6QAAAAGCkUfpAAAAAgPyd+kAAAACABrj6QAAAAMACnPpAAAAAIDlR+kAAAABg48r5QAAAAICrY/lAAAAAwNSL+UAAAAAAHcv5QAAAAKAH2vlAAAAA4KW9+UAAAACA7JL5QA==\"},\"shape\":[110],\"dtype\":\"float64\",\"order\":\"little\"}],[\"High\",{\"type\":\"ndarray\",\"array\":{\"type\":\"bytes\",\"data\":\"AAAAgNnb90AAAADAg7D3QAAAAAB2m/dAAAAAgHml90AAAAAg8xz4QAAAAICfSvhAAAAAgGKr90AAAAAA/pn3QAAAAEB3j/dAAAAAQPGV9kAAAAAAZMz1QAAAAICMPfVAAAAAIMXC9EAAAADgpB/1QAAAAAA3NPdAAAAAANwN90AAAABg9LT1QAAAAOBjN/ZAAAAAAE+o9kAAAADAcEP2QAAAAED0M/VAAAAAIHIc9UAAAADgPn/0QAAAACCcZ/RAAAAAQGmY9EAAAAAg25T0QAAAAKD00PRAAAAAwAqs9EAAAACgucP0QAAAAEBVr/RAAAAAgLuG9EAAAAAA0z71QAAAAEA0WfVAAAAAYOSy9EAAAAAAHqL0QAAAAIDsBPVAAAAAoGur9UAAAABg5p31QAAAAIBCjvVAAAAAoKtu9UAAAADAHVz1QAAAAGB1pfRAAAAAABBj9EAAAAAA4nn0QAAAAOD13vRAAAAAQC+Z9UAAAADAVHz0QAAAAGCCrfRAAAAAQPCO9EAAAACAi2/0QAAAAADxzfNAAAAAQH6780AAAAAAUGX0QAAAAODOMPRAAAAAoHeR9EAAAAAAA/b0QAAAAADz//RAAAAAAJDx9EAAAACg1Rn1QAAAAIBE2/RAAAAAIJHc9EAAAADAcMb0QAAAAEDb5fRAAAAAIKbT9EAAAACAwZj1QAAAACCW5/ZAAAAAwHsU90AAAAAgA/T2QAAAAECGYfdAAAAAwDVB90AAAABAU0T3QAAAAODnVvdAAAAAoNZP90AAAAAgFUH3QAAAAGDfyfdAAAAAYB7n90AAAAAg/qr3QAAAAMDug/dAAAAAAJM990AAAADgkqf3QAAAAOCc1fdAAAAAoBhi+UAAAADgl3b5QAAAAEAcoPlAAAAA4J+e+UAAAABAN9H5QAAAAMBWovlAAAAAAPl2+UAAAADgmW35QAAAAMBXhflAAAAAIE9S+UAAAADAUgb6QAAAAIDLI/pAAAAA4LEy+kAAAABgRwj7QAAAAMAiVvtAAAAAgG5L+0AAAABg6Lj6QAAAAOAUsPpAAAAAII7y+kAAAABggwn7QAAAAKAkr/pAAAAAwOCW+kAAAAAgT/T5QAAAAKDxnflAAAAAwMjZ+UAAAAAAZd75QAAAAEDZE/pAAAAAINvg+UAAAAAAC935QA==\"},\"shape\":[110],\"dtype\":\"float64\",\"order\":\"little\"}],[\"Low\",{\"type\":\"ndarray\",\"array\":{\"type\":\"bytes\",\"data\":\"AAAAoM9z90AAAADAuED3QAAAAGDNzPZAAAAAgD8y90AAAADAqov3QAAAAGBPKPdAAAAAgFVh90AAAABAZ0L3QAAAAOC7TvZAAAAAwIP/9EAAAABgPg30QAAAAGCPTPRAAAAAoI4a80AAAADAI3X0QAAAAGADw/RAAAAA4JTF9EAAAADgk+fzQAAAAGC8FvVAAAAAQMJy9UAAAADg2q70QAAAAMD3z/RAAAAAwEeL80AAAACAyebyQAAAAAAEtfJAAAAAALSv80AAAACgvYPzQAAAAADZufNAAAAAgHlr9EAAAACAHgb0QAAAAIDCI/RAAAAA4L/R80AAAACgmyj0QAAAACDza/RAAAAAIDFO9EAAAACArG30QAAAAKAudfRAAAAAIFPi9EAAAABAoRT1QAAAAEBX9vRAAAAAAN/09EAAAABAWmb0QAAAAEAi7vNAAAAAAFTq80AAAABA3tjzQAAAAMDVH/RAAAAAoHga9EAAAACgIdjzQAAAAABs8PNAAAAAwJsc9EAAAADgm9LyQAAAAOBKLPJAAAAAYGCa8kAAAADA2jXyQAAAACCCJ/NAAAAAIIVF80AAAAAAFjX0QAAAACAwRfRAAAAAQKpu9EAAAAAg7Wj0QAAAAODJSfRAAAAAAFxy9EAAAAAgrpT0QAAAAGAXmPRAAAAAgI2A9EAAAABgfcn0QAAAAIDIQvVAAAAAYK9z9kAAAABgC2P2QAAAAIAprvZAAAAAAHTu9kAAAABgFt72QAAAAODMq/ZAAAAAIErm9kAAAABAOrP2QAAAACCa/PZAAAAAIH+H90AAAACg1GT3QAAAAODW/fZAAAAAQOTX9kAAAADAfc32QAAAAGBVZfdAAAAAAB6p90AAAACAcfz4QAAAAMDnGvlAAAAA4Es8+UAAAACA5pz4QAAAAICxyPhAAAAAwKQN+UAAAAAADcT4QAAAAKAXLvlAAAAA4DIQ+UAAAACgaS75QAAAAAAL7vhAAAAAQOhw+UAAAADA8+j5QAAAACBRrvpAAAAA4JQV+kAAAACg9Bj6QAAAAAC2C/pAAAAAQPqL+kAAAADgmEX6QAAAAODOE/pAAAAAYOa5+UAAAACgXFD5QAAAAOABLvlAAAAAQC9Z+UAAAADA+FL5QAAAAICNnflAAAAAQIty+UAAAAAgToX4QA==\"},\"shape\":[110],\"dtype\":\"float64\",\"order\":\"little\"}],[\"Close\",{\"type\":\"ndarray\",\"array\":{\"type\":\"bytes\",\"data\":\"AAAAgPB690AAAAAg1mH3QAAAAMA4U/dAAAAAwLmX90AAAAAA3wH4QAAAAMDYd/dAAAAAIByU90AAAADAHoH3QAAAAMCiUfZAAAAAwAKq9UAAAABgsJf0QAAAAKADrvRAAAAAIFCZ9EAAAACg/gD1QAAAAKCFAvdAAAAAwBoD9UAAAAAgY0v1QAAAAAD5H/ZAAAAAoJv29UAAAADAai31QAAAAICpCPVAAAAAoJCt80AAAAAAQCzzQAAAAGDjOvRAAAAAwKVw9EAAAABAq8rzQAAAAKARgPRAAAAAwHGX9EAAAAAAOyn0QAAAAAC7hvRAAAAAAOgx9EAAAACgYzT1QAAAACBzjPRAAAAA4LOE9EAAAADAh3f0QAAAAABmAvVAAAAAoK5c9UAAAABA+1r1QAAAACBON/VAAAAAoJFI9UAAAABgEpj0QAAAAGBZKvRAAAAAYOgZ9EAAAACgTif0QAAAAMASy/RAAAAAYFsj9EAAAABA7Un0QAAAAOA8ePRAAAAAwAxj9EAAAADAZxjzQAAAAGA1WPNAAAAAQP+e8kAAAABA3yj0QAAAAECicPNAAAAAYM1c9EAAAADAcdL0QAAAAKBPbvRAAAAAQOaj9EAAAADgT230QAAAAOAdhPRAAAAAAPy59EAAAADgLJ70QAAAAKB2xPRAAAAA4GTL9EAAAACA7l31QAAAAEAe0PZAAAAAwDHg9kAAAADAfO/2QAAAAAAIIPdAAAAA4G4b90AAAACAreP2QAAAAAAsMPdAAAAAoMwE90AAAAAA9f/2QAAAAGDFjvdAAAAAIOGo90AAAADAPGn3QAAAAKC/BvdAAAAA4MAh90AAAACgJ6L3QAAAACCFsPdAAAAAYJc0+UAAAACgrSP5QAAAAECFj/lAAAAAwKVq+UAAAABAzxn5QAAAAACdbvlAAAAAoDZH+UAAAABAClT5QAAAAKAURPlAAAAAYHEx+UAAAAAg4Pz5QAAAAOBiyPlAAAAAYHES+kAAAABA4cb6QAAAAICUQ/tAAAAAwHwx+kAAAACA8lD6QAAAAEC2nvpAAAAA4AW4+kAAAABAKpz6QAAAAEClUfpAAAAAIJzK+UAAAAAg6WP5QAAAAIDhi/lAAAAAoEHL+UAAAACAmNn5QAAAAICHvflAAAAAwL+R+UAAAABAf8z4QA==\"},\"shape\":[110],\"dtype\":\"float64\",\"order\":\"little\"}],[\"Volume\",{\"type\":\"ndarray\",\"array\":[16536755396,27336550690,37325720482,28990872862,31668022771,49608706470,18353824477,16999478976,44046480529,92139104128,64597492134,52659591954,83610570576,29190628396,58398341092,70072228536,68095241474,50498988027,47749810486,65945677657,18206118081,30899345977,54061099422,54702837196,40353484454,31412940153,29588112414,13650491277,21330270174,25092785558,24095774594,34931960257,29028988961,19030452299,9863214091,12594615537,34582604933,30005840049,26704046038,24413471941,34198619509,16969396135,14763760943,29004228247,28175650319,47584398470,36852112080,45157640207,14380803631,36294853736,91262424987,48314590749,84213627038,44718000633,41656778779,24258059104,28796984817,34090769777,28040322885,29617804112,21276866029,12728372364,15259300427,14664050812,41396190190,55899038456,41719568821,31483175315,40915232364,17612825123,18090367764,32363449569,25806129921,28344679831,32875889623,26421924677,15775154889,18198688416,25816260327,26551275827,76983822462,69895404397,58198593958,42276713994,46285517406,63250475404,52608876410,45956071155,50408241840,44386499364,37898552742,49887082058,61761126647,36515726122,78086364051,70157575642,67548133399,45903627163,47518041841,45950461571,57450176272,49155377493,56022752042,57655287183,38997843858,37397056873,45819706290,46196508367,44544857105,57479298400],\"shape\":[110],\"dtype\":\"object\",\"order\":\"little\"}],[\"datetime\",{\"type\":\"ndarray\",\"array\":{\"type\":\"bytes\",\"data\":\"AABA4MBQeUIAAABGE1F5QgAAwKtlUXlCAACAEbhReUIAAEB3ClJ5QgAAAN1cUnlCAADAQq9SeUIAAICoAVN5QgAAQA5UU3lCAAAAdKZTeUIAAMDZ+FN5QgAAgD9LVHlCAABApZ1UeUIAAAAL8FR5QgAAwHBCVXlCAACA1pRVeUIAAEA851V5QgAAAKI5VnlCAADAB4xWeUIAAIBt3lZ5QgAAQNMwV3lCAAAAOYNXeUIAAMCe1Vd5QgAAgAQoWHlCAABAanpYeUIAAADQzFh5QgAAwDUfWXlCAACAm3FZeUIAAEABxFl5QgAAAGcWWnlCAADAzGhaeUIAAIAyu1p5QgAAQJgNW3lCAAAA/l9beUIAAMBjslt5QgAAgMkEXHlCAABAL1dceUIAAACVqVx5QgAAwPr7XHlCAACAYE5deUIAAEDGoF15QgAAACzzXXlCAADAkUVeeUIAAID3l155QgAAQF3qXnlCAAAAwzxfeUIAAMAoj195QgAAgI7hX3lCAABA9DNgeUIAAABahmB5QgAAwL/YYHlCAACAJStheUIAAECLfWF5QgAAAPHPYXlCAADAViJieUIAAIC8dGJ5QgAAQCLHYnlCAAAAiBljeUIAAMDta2N5QgAAgFO+Y3lCAABAuRBkeUIAAAAfY2R5QgAAwIS1ZHlCAACA6gdleUIAAEBQWmV5QgAAALasZXlCAADAG/9leUIAAICBUWZ5QgAAQOejZnlCAAAATfZmeUIAAMCySGd5QgAAgBibZ3lCAABAfu1neUIAAADkP2h5QgAAwEmSaHlCAACAr+RoeUIAAEAVN2l5QgAAAHuJaXlCAADA4NtpeUIAAIBGLmp5QgAAQKyAanlCAAAAEtNqeUIAAMB3JWt5QgAAgN13a3lCAABAQ8preUIAAACpHGx5QgAAwA5vbHlCAACAdMFseUIAAEDaE215QgAAAEBmbXlCAADApbhteUIAAIALC255QgAAQHFdbnlCAAAA169ueUIAAMA8Am95QgAAgKJUb3lCAABACKdveUIAAABu+W95QgAAwNNLcHlCAACAOZ5weUIAAECf8HB5QgAAAAVDcXlCAADAapVxeUIAAIDQ53F5QgAAQDY6cnlCAAAAnIxyeUIAAMAB33J5QgAAgGcxc3lCAABAzYNzeUIAAAAz1nN5Qg==\"},\"shape\":[110],\"dtype\":\"float64\",\"order\":\"little\"}],[\"inc\",{\"type\":\"ndarray\",\"array\":[\"0\",\"0\",\"0\",\"1\",\"1\",\"0\",\"1\",\"0\",\"0\",\"0\",\"0\",\"1\",\"0\",\"1\",\"1\",\"0\",\"1\",\"1\",\"0\",\"0\",\"0\",\"0\",\"0\",\"1\",\"1\",\"0\",\"1\",\"1\",\"0\",\"1\",\"0\",\"1\",\"0\",\"0\",\"0\",\"1\",\"1\",\"0\",\"0\",\"1\",\"0\",\"0\",\"0\",\"1\",\"1\",\"0\",\"1\",\"1\",\"0\",\"0\",\"1\",\"0\",\"1\",\"0\",\"1\",\"1\",\"0\",\"1\",\"0\",\"1\",\"1\",\"0\",\"1\",\"1\",\"1\",\"1\",\"1\",\"1\",\"1\",\"0\",\"0\",\"1\",\"0\",\"0\",\"1\",\"1\",\"0\",\"0\",\"1\",\"1\",\"1\",\"1\",\"0\",\"1\",\"0\",\"0\",\"1\",\"0\",\"1\",\"0\",\"0\",\"1\",\"0\",\"1\",\"1\",\"1\",\"0\",\"1\",\"1\",\"1\",\"0\",\"0\",\"0\",\"0\",\"1\",\"1\",\"1\",\"0\",\"0\",\"0\"],\"shape\":[110],\"dtype\":\"object\",\"order\":\"little\"}],[\"SMA(C,19)_0_0\",{\"type\":\"ndarray\",\"array\":{\"type\":\"bytes\",\"data\":\"AAAAAAAA+H8AAAAAAAD4fwAAAAAAAPh/AAAAAAAA+H8AAAAAAAD4fwAAAAAAAPh/AAAAAAAA+H8AAAAAAAD4fwAAAAAAAPh/AAAAAAAA+H8AAAAAAAD4fwAAAAAAAPh/AAAAAAAA+H8AAAAAAAD4fwAAAAAAAPh/AAAAAAAA+H8AAAAAAAD4fwAAAAAAAPh/vYbyevFY9kA2lNdw6jn2QBvKa2hGGvZAKK+hnCLp9UDlNZR3la31QEN5DaWwevVAvYby2uNR9UCH8hrq3R71QHkN5fVj9vRA2FBeAx7f9EC9hvKa3cr0QCivoRz5yfRA8xrK63DD9ECU11Bemsv0QA3lNRR4xfRAXkN5Teaj9EBRXkO5jZz0QPMayku2mPRA2FBeA2+O9ECvobwmPob0QGwor2HDhvRANpTXcCCK9EAor6EceJb0QNhQXsPXo/RAQ3kNZRui9EC9hvI6P570QDaU1/C9q/RAQ3kNxdym9ECivIZSyKL0QOU1lNfwpvRA5TWUFxCl9EAor6E8P5b0QA3lNVQvffRADeU1tDZj9EAbymtoYV70QFFeQzmLUPRAG8prCNRH9EB5DeV1jUD0QNhQXqMYNPRAh/IailYs9EDlNZRXzCD0QFFeQ3m/H/RAQ3kNxU4n9ECvobzmRC70QAAAAGCKNvRAoryGso429EBeQ3ktHUf0QGwor8EfafRAeQ3l9YqJ9ECivIay4av0QAAAAIAt4vRAymsor98U9UCU11AeYk71QNhQXkMwd/VA2FBeY2in9UB5DeU18cr1QDaU1zDN7/VAKK+hHE4b9kBsKK+Bo0D2QNhQXmOpY/ZAKK+h3OeG9kAN5TWUEq72QIfyGop11/ZAlNdQXkET90DKayjvy033QGworyFNhvdAKK+hvGGp90BeQ3mNXMf3QMprKO//6PdA2FBeYwIG+ECU11Ce7yP4QPMaygv1Q/hAoryGsvhe+EBRXkO5+Yb4QEN5DcV4rPhAr6G8ZlnO+EAbymtoWfj4QA3lNRRDLPlA5TWUt+5W+UBsKK9h1oH5QBvKa8gTqvlAh/IaquTS+UCivIZy0eX5QMprKA+29flAeQ3lNdL4+UA2lNdwd/j5QK+hvGZ4/vlAQ3kNpVgD+kAN5TX0DAv6QBvKa0iaEPpA2FBew7AU+kCvobymYA/6QA==\"},\"shape\":[110],\"dtype\":\"float64\",\"order\":\"little\"}],[\"SMA(C,57)_1_0\",{\"type\":\"ndarray\",\"array\":{\"type\":\"bytes\",\"data\":\"AAAAAAAA+H8AAAAAAAD4fwAAAAAAAPh/AAAAAAAA+H8AAAAAAAD4fwAAAAAAAPh/AAAAAAAA+H8AAAAAAAD4fwAAAAAAAPh/AAAAAAAA+H8AAAAAAAD4fwAAAAAAAPh/AAAAAAAA+H8AAAAAAAD4fwAAAAAAAPh/AAAAAAAA+H8AAAAAAAD4fwAAAAAAAPh/AAAAAAAA+H8AAAAAAAD4fwAAAAAAAPh/AAAAAAAA+H8AAAAAAAD4fwAAAAAAAPh/AAAAAAAA+H8AAAAAAAD4fwAAAAAAAPh/AAAAAAAA+H8AAAAAAAD4fwAAAAAAAPh/AAAAAAAA+H8AAAAAAAD4fwAAAAAAAPh/AAAAAAAA+H8AAAAAAAD4fwAAAAAAAPh/AAAAAAAA+H8AAAAAAAD4fwAAAAAAAPh/AAAAAAAA+H8AAAAAAAD4fwAAAAAAAPh/AAAAAAAA+H8AAAAAAAD4fwAAAAAAAPh/AAAAAAAA+H8AAAAAAAD4fwAAAAAAAPh/AAAAAAAA+H8AAAAAAAD4fwAAAAAAAPh/AAAAAAAA+H8AAAAAAAD4fwAAAAAAAPh/AAAAAAAA+H8AAAAAAAD4fxbTWWxtBvVAuI/gHqz59EBnMZ1lZuz0QOE+grvI3/RAVVVVVenS9EAS3EdQsMP0QNNZTCePt/RAymsoLw6r9EC0mM6idKH0QKK8hrKso/RAXkN5zR2p9ECQ4D6io7P0QAnuIzifvvRAJLiPIOPJ9EDlNZT3WtL0QHAfwf0n0/RAKK+hHCvc9EAtprPY0+P0QC2mszhD6vRAkOA+ouHx9EDKayjP6fv0QFFeQ7ncBPVANpTX0F8U9UC4j+BeaCj1QH4E9/HxN/VAcB/B/VhN9UCL6SyGXWX1QFpMZ7EXfPVAZzGdRcOR9UA/gvvI8qf1QHAfwT37vfVAVVVVtc/U9UAkuI/gVOf1QNxHcJ+E/PVAMZ3FdIMR9kAor6EcTyr2QJ3FdFa/P/ZAymsor+ZU9kBeQ3kNQG32QFVVVbVpiPZANpTX0Hae9kD3EdznKbj2QM9iOgsn1fZA6iyms9/y9kAS3EcQ3w/3QL2G8jqwKPdAFtNZLBRC90BDeQ2l/Vj3QNhQXqPKb/dAOovpbBOI90BMZzGdaab3QH4E9zEjw/dAdRbT+Vfi90C4j+DeLff3QA==\"},\"shape\":[110],\"dtype\":\"float64\",\"order\":\"little\"}],[\"ohlc_low\",{\"type\":\"ndarray\",\"array\":{\"type\":\"bytes\",\"data\":\"AAAAoM9z90AAAADAuED3QAAAAGDNzPZAAAAAgD8y90AAAADAqov3QAAAAGBPKPdAAAAAgFVh90AAAABAZ0L3QAAAAOC7TvZAAAAAwIP/9EAAAABgPg30QAAAAGCPTPRAAAAAoI4a80AAAADAI3X0QAAAAGADw/RAAAAA4JTF9EAAAADgk+fzQAAAAGC8FvVAAAAAQMJy9UAAAADg2q70QAAAAMD3z/RAAAAAwEeL80AAAACAyebyQAAAAAAEtfJAAAAAALSv80AAAACgvYPzQAAAAADZufNAAAAAgHlr9EAAAACAHgb0QAAAAIDCI/RAAAAA4L/R80AAAACgmyj0QAAAACDza/RAAAAAIDFO9EAAAACArG30QAAAAKAudfRA2FBeA2+O9ECvobwmPob0QGwor2HDhvRANpTXcCCK9EAAAABAWmb0QAAAAEAi7vNAAAAAAFTq80AAAABA3tjzQAAAAMDVH/RAAAAAoHga9EAAAACgIdjzQAAAAABs8PNAAAAAwJsc9EAAAADgm9LyQAAAAOBKLPJAAAAAYGCa8kAAAADA2jXyQAAAACCCJ/NAAAAAIIVF80AAAAAAFjX0QNhQXqMYNPRAh/IailYs9EDlNZRXzCD0QFFeQ3m/H/RAQ3kNxU4n9ECvobzmRC70QAAAAGCKNvRAoryGso429EBeQ3ktHUf0QGwor8EfafRAeQ3l9YqJ9ECivIay4av0QAAAAIAt4vRAymsor98U9UCU11AeYk71QNhQXkMwd/VA2FBeY2in9UB5DeU18cr1QDaU1zDN7/VAKK+hHE4b9kBsKK+Bo0D2QNhQXmOpY/ZAKK+h3OeG9kAN5TWUEq72QIfyGop11/ZAlNdQXkET90DKayjvy033QGworyFNhvdAKK+hvGGp90BeQ3mNXMf3QMprKO//6PdA2FBeYwIG+ECU11Ce7yP4QPMaygv1Q/hAoryGsvhe+EBRXkO5+Yb4QEN5DcV4rPhAr6G8ZlnO+EAbymtoWfj4QA3lNRRDLPlA5TWUt+5W+UBsKK9h1oH5QBvKa8gTqvlAh/IaquTS+UCivIZy0eX5QMprKA+29flAAAAAYOa5+UAAAACgXFD5QAAAAOABLvlAAAAAQC9Z+UAAAADA+FL5QAAAAICNnflAAAAAQIty+UAAAAAgToX4QA==\"},\"shape\":[110],\"dtype\":\"float64\",\"order\":\"little\"}],[\"ohlc_high\",{\"type\":\"ndarray\",\"array\":{\"type\":\"bytes\",\"data\":\"AAAAgNnb90AAAADAg7D3QAAAAAB2m/dAAAAAgHml90AAAAAg8xz4QAAAAICfSvhAAAAAgGKr90AAAAAA/pn3QAAAAEB3j/dAAAAAQPGV9kAAAAAAZMz1QAAAAICMPfVAAAAAIMXC9EAAAADgpB/1QAAAAAA3NPdAAAAAANwN90AAAABg9LT1QAAAAOBjN/ZAAAAAAE+o9kAAAADAcEP2QBvKa2hGGvZAKK+hnCLp9UDlNZR3la31QEN5DaWwevVAvYby2uNR9UCH8hrq3R71QHkN5fVj9vRA2FBeAx7f9EC9hvKa3cr0QCivoRz5yfRA8xrK63DD9EAAAAAA0z71QAAAAEA0WfVAAAAAYOSy9EAAAAAAHqL0QAAAAIDsBPVAAAAAoGur9UAAAABg5p31QAAAAIBCjvVAAAAAoKtu9UAAAADAHVz1QAAAAGB1pfRAQ3kNZRui9EC9hvI6P570QAAAAOD13vRAAAAAQC+Z9UCivIZSyKL0QAAAAGCCrfRA5TWUFxCl9EAor6E8P5b0QA3lNVQvffRADeU1tDZj9EAAAAAAUGX0QFFeQzmLUPRAAAAAoHeR9EAAAAAAA/b0QAAAAADz//RAAAAAAJDx9EAAAACg1Rn1QAAAAIBE2/RAAAAAIJHc9EAAAADAcMb0QAAAAEDb5fRAAAAAIKbT9EAAAACAwZj1QAAAACCW5/ZAAAAAwHsU90AAAAAgA/T2QAAAAECGYfdAAAAAwDVB90AAAABAU0T3QAAAAODnVvdAAAAAoNZP90AAAAAgFUH3QAAAAGDfyfdAAAAAYB7n90AAAAAg/qr3QAAAAMDug/dAAAAAAJM990AAAADgkqf3QAAAAOCc1fdAAAAAoBhi+UAAAADgl3b5QAAAAEAcoPlAAAAA4J+e+UAAAABAN9H5QAAAAMBWovlAAAAAAPl2+UAAAADgmW35QAAAAMBXhflAAAAAIE9S+UAAAADAUgb6QAAAAIDLI/pAAAAA4LEy+kAAAABgRwj7QAAAAMAiVvtAAAAAgG5L+0AAAABg6Lj6QAAAAOAUsPpAAAAAII7y+kAAAABggwn7QAAAAKAkr/pAAAAAwOCW+kA2lNdwd/j5QK+hvGZ4/vlAQ3kNpVgD+kAN5TX0DAv6QAAAAEDZE/pA2FBew7AU+kCvobymYA/6QA==\"},\"shape\":[110],\"dtype\":\"float64\",\"order\":\"little\"}]]}}},\"view\":{\"type\":\"object\",\"name\":\"CDSView\",\"id\":\"p1139\",\"attributes\":{\"filter\":{\"type\":\"object\",\"name\":\"AllIndices\",\"id\":\"p1140\"}}},\"glyph\":{\"type\":\"object\",\"name\":\"VBar\",\"id\":\"p1135\",\"attributes\":{\"x\":{\"type\":\"field\",\"field\":\"index\"},\"width\":{\"type\":\"value\",\"value\":0.8},\"bottom\":{\"type\":\"field\",\"field\":\"Close\"},\"top\":{\"type\":\"field\",\"field\":\"Open\"},\"fill_color\":{\"type\":\"field\",\"field\":\"inc\",\"transform\":{\"type\":\"object\",\"name\":\"CategoricalColorMapper\",\"id\":\"p1047\",\"attributes\":{\"palette\":[\"tomato\",\"lime\"],\"factors\":[\"0\",\"1\"]}}}}},\"nonselection_glyph\":{\"type\":\"object\",\"name\":\"VBar\",\"id\":\"p1136\",\"attributes\":{\"x\":{\"type\":\"field\",\"field\":\"index\"},\"width\":{\"type\":\"value\",\"value\":0.8},\"bottom\":{\"type\":\"field\",\"field\":\"Close\"},\"top\":{\"type\":\"field\",\"field\":\"Open\"},\"line_alpha\":{\"type\":\"value\",\"value\":0.1},\"fill_color\":{\"type\":\"field\",\"field\":\"inc\",\"transform\":{\"id\":\"p1047\"}},\"fill_alpha\":{\"type\":\"value\",\"value\":0.1},\"hatch_alpha\":{\"type\":\"value\",\"value\":0.1}}},\"muted_glyph\":{\"type\":\"object\",\"name\":\"VBar\",\"id\":\"p1137\",\"attributes\":{\"x\":{\"type\":\"field\",\"field\":\"index\"},\"width\":{\"type\":\"value\",\"value\":0.8},\"bottom\":{\"type\":\"field\",\"field\":\"Close\"},\"top\":{\"type\":\"field\",\"field\":\"Open\"},\"line_alpha\":{\"type\":\"value\",\"value\":0.2},\"fill_color\":{\"type\":\"field\",\"field\":\"inc\",\"transform\":{\"id\":\"p1047\"}},\"fill_alpha\":{\"type\":\"value\",\"value\":0.2},\"hatch_alpha\":{\"type\":\"value\",\"value\":0.2}}}}}],\"tooltips\":[[\"Date\",\"@datetime{%c}\"],[\"x, y\",\"$index\\u00a0\\u00a0\\u00a0\\u00a0$y{0,0.0[0000]}\"],[\"OHLC\",\"@Open{0,0.0[0000]}\\u00a0\\u00a0\\u00a0\\u00a0@High{0,0.0[0000]}\\u00a0\\u00a0\\u00a0\\u00a0@Low{0,0.0[0000]}\\u00a0\\u00a0\\u00a0\\u00a0@Close{0,0.0[0000]}\"],[\"Volume\",\"@Volume{0,0}\"],[\"SMA(C,19)\",\"@{SMA(C,19)_0_0}{0,0.0[0000]}\"]],\"formatters\":{\"type\":\"map\",\"entries\":[[\"@datetime\",\"datetime\"]]},\"mode\":\"vline\",\"point_policy\":\"follow_mouse\"}}]}},{\"type\":\"object\",\"name\":\"ToolProxy\",\"id\":\"p1214\",\"attributes\":{\"tools\":[{\"type\":\"object\",\"name\":\"HoverTool\",\"id\":\"p1097\",\"attributes\":{\"renderers\":[{\"type\":\"object\",\"name\":\"GlyphRenderer\",\"id\":\"p1094\",\"attributes\":{\"data_source\":{\"id\":\"p1041\"},\"view\":{\"type\":\"object\",\"name\":\"CDSView\",\"id\":\"p1095\",\"attributes\":{\"filter\":{\"type\":\"object\",\"name\":\"AllIndices\",\"id\":\"p1096\"}}},\"glyph\":{\"type\":\"object\",\"name\":\"VBar\",\"id\":\"p1091\",\"attributes\":{\"x\":{\"type\":\"field\",\"field\":\"index\"},\"width\":{\"type\":\"value\",\"value\":0.8},\"top\":{\"type\":\"field\",\"field\":\"Volume\"},\"line_color\":{\"type\":\"field\",\"field\":\"inc\",\"transform\":{\"id\":\"p1047\"}},\"fill_color\":{\"type\":\"field\",\"field\":\"inc\",\"transform\":{\"id\":\"p1047\"}},\"hatch_color\":{\"type\":\"field\",\"field\":\"inc\",\"transform\":{\"id\":\"p1047\"}}}},\"nonselection_glyph\":{\"type\":\"object\",\"name\":\"VBar\",\"id\":\"p1092\",\"attributes\":{\"x\":{\"type\":\"field\",\"field\":\"index\"},\"width\":{\"type\":\"value\",\"value\":0.8},\"top\":{\"type\":\"field\",\"field\":\"Volume\"},\"line_color\":{\"type\":\"field\",\"field\":\"inc\",\"transform\":{\"id\":\"p1047\"}},\"line_alpha\":{\"type\":\"value\",\"value\":0.1},\"fill_color\":{\"type\":\"field\",\"field\":\"inc\",\"transform\":{\"id\":\"p1047\"}},\"fill_alpha\":{\"type\":\"value\",\"value\":0.1},\"hatch_color\":{\"type\":\"field\",\"field\":\"inc\",\"transform\":{\"id\":\"p1047\"}},\"hatch_alpha\":{\"type\":\"value\",\"value\":0.1}}},\"muted_glyph\":{\"type\":\"object\",\"name\":\"VBar\",\"id\":\"p1093\",\"attributes\":{\"x\":{\"type\":\"field\",\"field\":\"index\"},\"width\":{\"type\":\"value\",\"value\":0.8},\"top\":{\"type\":\"field\",\"field\":\"Volume\"},\"line_color\":{\"type\":\"field\",\"field\":\"inc\",\"transform\":{\"id\":\"p1047\"}},\"line_alpha\":{\"type\":\"value\",\"value\":0.2},\"fill_color\":{\"type\":\"field\",\"field\":\"inc\",\"transform\":{\"id\":\"p1047\"}},\"fill_alpha\":{\"type\":\"value\",\"value\":0.2},\"hatch_color\":{\"type\":\"field\",\"field\":\"inc\",\"transform\":{\"id\":\"p1047\"}},\"hatch_alpha\":{\"type\":\"value\",\"value\":0.2}}}}}],\"tooltips\":[[\"Date\",\"@datetime{%c}\"],[\"Volume\",\"@Volume{0.00 a}\"]],\"formatters\":{\"type\":\"map\",\"entries\":[[\"@datetime\",\"datetime\"]]},\"mode\":\"vline\",\"point_policy\":\"follow_mouse\"}}]}},{\"type\":\"object\",\"name\":\"ToolProxy\",\"id\":\"p1215\",\"attributes\":{\"tools\":[{\"type\":\"object\",\"name\":\"HoverTool\",\"id\":\"p1198\",\"attributes\":{\"renderers\":[{\"type\":\"object\",\"name\":\"GlyphRenderer\",\"id\":\"p1193\",\"attributes\":{\"data_source\":{\"id\":\"p1041\"},\"view\":{\"type\":\"object\",\"name\":\"CDSView\",\"id\":\"p1194\",\"attributes\":{\"filter\":{\"type\":\"object\",\"name\":\"AllIndices\",\"id\":\"p1195\"}}},\"glyph\":{\"type\":\"object\",\"name\":\"Line\",\"id\":\"p1190\",\"attributes\":{\"x\":{\"type\":\"field\",\"field\":\"index\"},\"y\":{\"type\":\"field\",\"field\":\"SMA(C,57)_1_0\"},\"line_color\":\"#1f77b4\",\"line_width\":1.3}},\"nonselection_glyph\":{\"type\":\"object\",\"name\":\"Line\",\"id\":\"p1191\",\"attributes\":{\"x\":{\"type\":\"field\",\"field\":\"index\"},\"y\":{\"type\":\"field\",\"field\":\"SMA(C,57)_1_0\"},\"line_color\":\"#1f77b4\",\"line_alpha\":0.1,\"line_width\":1.3}},\"muted_glyph\":{\"type\":\"object\",\"name\":\"Line\",\"id\":\"p1192\",\"attributes\":{\"x\":{\"type\":\"field\",\"field\":\"index\"},\"y\":{\"type\":\"field\",\"field\":\"SMA(C,57)_1_0\"},\"line_color\":\"#1f77b4\",\"line_alpha\":0.2,\"line_width\":1.3}}}}],\"tooltips\":[[\"Date\",\"@datetime{%c}\"],[\"SMA(C,57)\",\"@{SMA(C,57)_1_0}{0,0.0[0000]}\"]],\"formatters\":{\"type\":\"map\",\"entries\":[[\"@datetime\",\"datetime\"]]},\"mode\":\"vline\",\"point_policy\":\"follow_mouse\"}}]}},{\"type\":\"object\",\"name\":\"ToolProxy\",\"id\":\"p1216\",\"attributes\":{\"tools\":[{\"type\":\"object\",\"name\":\"CrosshairTool\",\"id\":\"p1204\",\"attributes\":{\"overlay\":[{\"type\":\"object\",\"name\":\"Span\",\"id\":\"p1202\",\"attributes\":{\"line_dash\":[2,4]}},{\"type\":\"object\",\"name\":\"Span\",\"id\":\"p1203\",\"attributes\":{\"dimension\":\"height\",\"line_dash\":[2,4]}}],\"line_color\":\"lightgrey\"}},{\"id\":\"p1204\"},{\"id\":\"p1204\"}]}}],\"logo\":null,\"active_drag\":{\"id\":\"p1205\"},\"active_scroll\":{\"id\":\"p1206\"}}},\"toolbar_location\":\"right\",\"children\":[[{\"type\":\"object\",\"name\":\"Figure\",\"id\":\"p1005\",\"attributes\":{\"width\":null,\"height\":400,\"sizing_mode\":\"stretch_width\",\"x_range\":{\"type\":\"object\",\"name\":\"Range1d\",\"id\":\"p1004\",\"attributes\":{\"js_property_callbacks\":{\"type\":\"map\",\"entries\":[[\"change:end\",[{\"type\":\"object\",\"name\":\"CustomJS\",\"id\":\"p1201\",\"attributes\":{\"args\":{\"type\":\"map\",\"entries\":[[\"ohlc_range\",{\"type\":\"object\",\"name\":\"DataRange1d\",\"id\":\"p1007\"}],[\"source\",{\"id\":\"p1041\"}],[\"volume_range\",{\"type\":\"object\",\"name\":\"DataRange1d\",\"id\":\"p1054\"}]]},\"code\":\"if (!window._bt_scale_range) {\\n    window._bt_scale_range = function (range, min, max, pad) {\\n        \\\"use strict\\\";\\n        if (min !== Infinity && max !== -Infinity) {\\n            pad = pad ? (max - min) * .03 : 0;\\n            range.start = min - pad;\\n            range.end = max + pad;\\n        } else console.error('backtesting: scale range error:', min, max, range);\\n    };\\n}\\n\\nclearTimeout(window._bt_autoscale_timeout);\\n\\nwindow._bt_autoscale_timeout = setTimeout(function () {\\n    /**\\n     * @variable cb_obj `fig_ohlc.x_range`.\\n     * @variable source `ColumnDataSource`\\n     * @variable ohlc_range `fig_ohlc.y_range`.\\n     * @variable volume_range `fig_volume.y_range`.\\n     */\\n    \\\"use strict\\\";\\n\\n    let i = Math.max(Math.floor(cb_obj.start), 0),\\n        j = Math.min(Math.ceil(cb_obj.end), source.data['ohlc_high'].length);\\n\\n    let max = Math.max.apply(null, source.data['ohlc_high'].slice(i, j)),\\n        min = Math.min.apply(null, source.data['ohlc_low'].slice(i, j));\\n    _bt_scale_range(ohlc_range, min, max, true);\\n\\n    if (volume_range) {\\n        max = Math.max.apply(null, source.data['Volume'].slice(i, j));\\n        _bt_scale_range(volume_range, 0, max * 1.03, false);\\n    }\\n\\n}, 50);\\n\"}}]]]},\"end\":109,\"bounds\":[-5.45,114.45],\"min_interval\":10}},\"y_range\":{\"id\":\"p1007\"},\"x_scale\":{\"type\":\"object\",\"name\":\"LinearScale\",\"id\":\"p1014\"},\"y_scale\":{\"type\":\"object\",\"name\":\"LinearScale\",\"id\":\"p1015\"},\"title\":{\"type\":\"object\",\"name\":\"Title\",\"id\":\"p1012\"},\"outline_line_color\":\"#666666\",\"renderers\":[{\"type\":\"object\",\"name\":\"GlyphRenderer\",\"id\":\"p1108\",\"attributes\":{\"data_source\":{\"type\":\"object\",\"name\":\"ColumnDataSource\",\"id\":\"p1099\",\"attributes\":{\"selected\":{\"type\":\"object\",\"name\":\"Selection\",\"id\":\"p1100\",\"attributes\":{\"indices\":[],\"line_indices\":[]}},\"selection_policy\":{\"type\":\"object\",\"name\":\"UnionRenderers\",\"id\":\"p1101\"},\"data\":{\"type\":\"map\",\"entries\":[[\"index\",{\"type\":\"ndarray\",\"array\":{\"type\":\"bytes\",\"data\":\"AAAAAAAAGEAAAAAAAAA8QAAAAAAAQE1AAAAAAABAVkAAAAAAAMBaQA==\"},\"shape\":[5],\"dtype\":\"float64\",\"order\":\"little\"}],[\"Open\",{\"type\":\"ndarray\",\"array\":{\"type\":\"bytes\",\"data\":\"AAAA4MfS90AAAADgXZn0QAAAAMB+J/RAAAAAwE0A90AAAADA1Iv5QA==\"},\"shape\":[5],\"dtype\":\"float64\",\"order\":\"little\"}],[\"High\",{\"type\":\"ndarray\",\"array\":{\"type\":\"bytes\",\"data\":\"AAAAgJ9K+EAAAAAANzT3QAAAAECGYfdAAAAAwCJW+0AAAABA2RP6QA==\"},\"shape\":[5],\"dtype\":\"float64\",\"order\":\"little\"}],[\"Low\",{\"type\":\"ndarray\",\"array\":{\"type\":\"bytes\",\"data\":\"AAAAoI4a80AAAAAABLXyQAAAAOBKLPJAAAAAwH3N9kAAAAAgToX4QA==\"},\"shape\":[5],\"dtype\":\"float64\",\"order\":\"little\"}],[\"Close\",{\"type\":\"ndarray\",\"array\":{\"type\":\"bytes\",\"data\":\"AAAAIFCZ9EAAAACgTif0QAAAAAD1//ZAAAAAgOGL+UAAAABAf8z4QA==\"},\"shape\":[5],\"dtype\":\"float64\",\"order\":\"little\"}],[\"Volume\",{\"type\":\"ndarray\",\"array\":[563873171445,1049435373908,1060974068310,1496397538233,231437427035],\"shape\":[5],\"dtype\":\"object\",\"order\":\"little\"}],[\"_width\",{\"type\":\"ndarray\",\"array\":{\"type\":\"bytes\",\"data\":\"zczMzMzMKUBmZmZmZuY+QGZmZmZm5j1AZmZmZmbmPkCamZmZmZkTQA==\"},\"shape\":[5],\"dtype\":\"float64\",\"order\":\"little\"}],[\"inc\",{\"type\":\"ndarray\",\"array\":[\"0\",\"0\",\"1\",\"1\",\"0\"],\"shape\":[5],\"dtype\":\"object\",\"order\":\"little\"}]]}}},\"view\":{\"type\":\"object\",\"name\":\"CDSView\",\"id\":\"p1109\",\"attributes\":{\"filter\":{\"type\":\"object\",\"name\":\"AllIndices\",\"id\":\"p1110\"}}},\"glyph\":{\"type\":\"object\",\"name\":\"Segment\",\"id\":\"p1105\",\"attributes\":{\"x0\":{\"type\":\"field\",\"field\":\"index\"},\"y0\":{\"type\":\"field\",\"field\":\"High\"},\"x1\":{\"type\":\"field\",\"field\":\"index\"},\"y1\":{\"type\":\"field\",\"field\":\"Low\"},\"line_color\":{\"type\":\"value\",\"value\":\"#bbbbbb\"}}},\"nonselection_glyph\":{\"type\":\"object\",\"name\":\"Segment\",\"id\":\"p1106\",\"attributes\":{\"x0\":{\"type\":\"field\",\"field\":\"index\"},\"y0\":{\"type\":\"field\",\"field\":\"High\"},\"x1\":{\"type\":\"field\",\"field\":\"index\"},\"y1\":{\"type\":\"field\",\"field\":\"Low\"},\"line_color\":{\"type\":\"value\",\"value\":\"#bbbbbb\"},\"line_alpha\":{\"type\":\"value\",\"value\":0.1}}},\"muted_glyph\":{\"type\":\"object\",\"name\":\"Segment\",\"id\":\"p1107\",\"attributes\":{\"x0\":{\"type\":\"field\",\"field\":\"index\"},\"y0\":{\"type\":\"field\",\"field\":\"High\"},\"x1\":{\"type\":\"field\",\"field\":\"index\"},\"y1\":{\"type\":\"field\",\"field\":\"Low\"},\"line_color\":{\"type\":\"value\",\"value\":\"#bbbbbb\"},\"line_alpha\":{\"type\":\"value\",\"value\":0.2}}}}},{\"type\":\"object\",\"name\":\"GlyphRenderer\",\"id\":\"p1118\",\"attributes\":{\"data_source\":{\"id\":\"p1099\"},\"view\":{\"type\":\"object\",\"name\":\"CDSView\",\"id\":\"p1119\",\"attributes\":{\"filter\":{\"type\":\"object\",\"name\":\"AllIndices\",\"id\":\"p1120\"}}},\"glyph\":{\"type\":\"object\",\"name\":\"VBar\",\"id\":\"p1115\",\"attributes\":{\"x\":{\"type\":\"field\",\"field\":\"index\"},\"width\":{\"type\":\"field\",\"field\":\"_width\"},\"bottom\":{\"type\":\"field\",\"field\":\"Close\"},\"top\":{\"type\":\"field\",\"field\":\"Open\"},\"line_color\":{\"type\":\"value\",\"value\":null},\"fill_color\":{\"type\":\"field\",\"field\":\"inc\",\"transform\":{\"type\":\"object\",\"name\":\"CategoricalColorMapper\",\"id\":\"p1111\",\"attributes\":{\"palette\":[\"rgb(254, 220, 214)\",\"rgb(214, 254, 214)\"],\"factors\":[\"0\",\"1\"]}}}}},\"nonselection_glyph\":{\"type\":\"object\",\"name\":\"VBar\",\"id\":\"p1116\",\"attributes\":{\"x\":{\"type\":\"field\",\"field\":\"index\"},\"width\":{\"type\":\"field\",\"field\":\"_width\"},\"bottom\":{\"type\":\"field\",\"field\":\"Close\"},\"top\":{\"type\":\"field\",\"field\":\"Open\"},\"line_color\":{\"type\":\"value\",\"value\":null},\"line_alpha\":{\"type\":\"value\",\"value\":0.1},\"fill_color\":{\"type\":\"field\",\"field\":\"inc\",\"transform\":{\"id\":\"p1111\"}},\"fill_alpha\":{\"type\":\"value\",\"value\":0.1},\"hatch_alpha\":{\"type\":\"value\",\"value\":0.1}}},\"muted_glyph\":{\"type\":\"object\",\"name\":\"VBar\",\"id\":\"p1117\",\"attributes\":{\"x\":{\"type\":\"field\",\"field\":\"index\"},\"width\":{\"type\":\"field\",\"field\":\"_width\"},\"bottom\":{\"type\":\"field\",\"field\":\"Close\"},\"top\":{\"type\":\"field\",\"field\":\"Open\"},\"line_color\":{\"type\":\"value\",\"value\":null},\"line_alpha\":{\"type\":\"value\",\"value\":0.2},\"fill_color\":{\"type\":\"field\",\"field\":\"inc\",\"transform\":{\"id\":\"p1111\"}},\"fill_alpha\":{\"type\":\"value\",\"value\":0.2},\"hatch_alpha\":{\"type\":\"value\",\"value\":0.2}}}}},{\"type\":\"object\",\"name\":\"GlyphRenderer\",\"id\":\"p1127\",\"attributes\":{\"data_source\":{\"id\":\"p1041\"},\"view\":{\"type\":\"object\",\"name\":\"CDSView\",\"id\":\"p1128\",\"attributes\":{\"filter\":{\"type\":\"object\",\"name\":\"AllIndices\",\"id\":\"p1129\"}}},\"glyph\":{\"type\":\"object\",\"name\":\"Segment\",\"id\":\"p1124\",\"attributes\":{\"x0\":{\"type\":\"field\",\"field\":\"index\"},\"y0\":{\"type\":\"field\",\"field\":\"High\"},\"x1\":{\"type\":\"field\",\"field\":\"index\"},\"y1\":{\"type\":\"field\",\"field\":\"Low\"}}},\"nonselection_glyph\":{\"type\":\"object\",\"name\":\"Segment\",\"id\":\"p1125\",\"attributes\":{\"x0\":{\"type\":\"field\",\"field\":\"index\"},\"y0\":{\"type\":\"field\",\"field\":\"High\"},\"x1\":{\"type\":\"field\",\"field\":\"index\"},\"y1\":{\"type\":\"field\",\"field\":\"Low\"},\"line_alpha\":{\"type\":\"value\",\"value\":0.1}}},\"muted_glyph\":{\"type\":\"object\",\"name\":\"Segment\",\"id\":\"p1126\",\"attributes\":{\"x0\":{\"type\":\"field\",\"field\":\"index\"},\"y0\":{\"type\":\"field\",\"field\":\"High\"},\"x1\":{\"type\":\"field\",\"field\":\"index\"},\"y1\":{\"type\":\"field\",\"field\":\"Low\"},\"line_alpha\":{\"type\":\"value\",\"value\":0.2}}}}},{\"id\":\"p1138\"},{\"type\":\"object\",\"name\":\"GlyphRenderer\",\"id\":\"p1147\",\"attributes\":{\"data_source\":{\"id\":\"p1041\"},\"view\":{\"type\":\"object\",\"name\":\"CDSView\",\"id\":\"p1148\",\"attributes\":{\"filter\":{\"type\":\"object\",\"name\":\"AllIndices\",\"id\":\"p1149\"}}},\"glyph\":{\"type\":\"object\",\"name\":\"Line\",\"id\":\"p1144\",\"attributes\":{\"x\":{\"type\":\"field\",\"field\":\"index\"},\"y\":{\"type\":\"field\",\"field\":\"SMA(C,19)_0_0\"},\"line_color\":\"#1f77b4\",\"line_width\":1.3}},\"nonselection_glyph\":{\"type\":\"object\",\"name\":\"Line\",\"id\":\"p1145\",\"attributes\":{\"x\":{\"type\":\"field\",\"field\":\"index\"},\"y\":{\"type\":\"field\",\"field\":\"SMA(C,19)_0_0\"},\"line_color\":\"#1f77b4\",\"line_alpha\":0.1,\"line_width\":1.3}},\"muted_glyph\":{\"type\":\"object\",\"name\":\"Line\",\"id\":\"p1146\",\"attributes\":{\"x\":{\"type\":\"field\",\"field\":\"index\"},\"y\":{\"type\":\"field\",\"field\":\"SMA(C,19)_0_0\"},\"line_color\":\"#1f77b4\",\"line_alpha\":0.2,\"line_width\":1.3}}}}],\"toolbar\":{\"type\":\"object\",\"name\":\"Toolbar\",\"id\":\"p1013\",\"attributes\":{\"tools\":[{\"id\":\"p1026\"},{\"id\":\"p1027\"},{\"id\":\"p1028\"},{\"id\":\"p1029\"},{\"id\":\"p1037\"},{\"id\":\"p1038\"},{\"id\":\"p1039\"},{\"type\":\"object\",\"name\":\"SaveTool\",\"id\":\"p1040\"},{\"id\":\"p1200\"},{\"id\":\"p1204\"}],\"active_drag\":{\"id\":\"p1026\"},\"active_scroll\":{\"id\":\"p1027\"}}},\"toolbar_location\":null,\"left\":[{\"type\":\"object\",\"name\":\"LinearAxis\",\"id\":\"p1021\",\"attributes\":{\"ticker\":{\"type\":\"object\",\"name\":\"BasicTicker\",\"id\":\"p1022\",\"attributes\":{\"mantissas\":[1,2,5]}},\"formatter\":{\"type\":\"object\",\"name\":\"BasicTickFormatter\",\"id\":\"p1023\"},\"major_label_policy\":{\"type\":\"object\",\"name\":\"AllLabels\",\"id\":\"p1024\"}}}],\"below\":[{\"type\":\"object\",\"name\":\"LinearAxis\",\"id\":\"p1016\",\"attributes\":{\"visible\":false,\"ticker\":{\"type\":\"object\",\"name\":\"BasicTicker\",\"id\":\"p1017\",\"attributes\":{\"mantissas\":[1,2,5]}},\"formatter\":{\"type\":\"object\",\"name\":\"CustomJSTickFormatter\",\"id\":\"p1051\",\"attributes\":{\"args\":{\"type\":\"map\",\"entries\":[[\"axis\",{\"id\":\"p1016\"}],[\"formatter\",{\"type\":\"object\",\"name\":\"DatetimeTickFormatter\",\"id\":\"p1050\",\"attributes\":{\"days\":\"%a, %d %b\"}}],[\"source\",{\"id\":\"p1041\"}]]},\"code\":\"\\nthis.labels = this.labels || formatter.doFormat(ticks\\n                                                .map(i => source.data.datetime[i])\\n                                                .filter(t => t !== undefined));\\nreturn this.labels[index] || \\\"\\\";\\n        \"}},\"major_label_policy\":{\"type\":\"object\",\"name\":\"AllLabels\",\"id\":\"p1019\"}}}],\"center\":[{\"type\":\"object\",\"name\":\"Grid\",\"id\":\"p1020\",\"attributes\":{\"axis\":{\"id\":\"p1016\"}}},{\"type\":\"object\",\"name\":\"Grid\",\"id\":\"p1025\",\"attributes\":{\"dimension\":1,\"axis\":{\"id\":\"p1021\"}}},{\"type\":\"object\",\"name\":\"Legend\",\"id\":\"p1130\",\"attributes\":{\"location\":\"top_left\",\"border_line_color\":\"#333333\",\"background_fill_alpha\":0.9,\"click_policy\":\"hide\",\"label_text_font_size\":\"8pt\",\"margin\":0,\"padding\":5,\"spacing\":0,\"items\":[{\"type\":\"object\",\"name\":\"LegendItem\",\"id\":\"p1131\",\"attributes\":{\"label\":{\"type\":\"value\",\"value\":\"OHLC\"},\"renderers\":[{\"id\":\"p1127\"},{\"id\":\"p1138\"}]}},{\"type\":\"object\",\"name\":\"LegendItem\",\"id\":\"p1150\",\"attributes\":{\"label\":{\"type\":\"value\",\"value\":\"SMA(C,19)\"},\"renderers\":[{\"id\":\"p1147\"}]}}]}},{\"type\":\"object\",\"name\":\"Label\",\"id\":\"p1199\",\"attributes\":{\"text\":\"Created with Backtesting.py: http://kernc.github.io/backtesting.py\",\"text_color\":\"silver\",\"text_alpha\":0.09,\"x\":10,\"y\":15,\"x_units\":\"screen\",\"y_units\":\"screen\"}}],\"min_border_top\":3,\"min_border_bottom\":6,\"min_border_left\":0,\"min_border_right\":10}},0,0],[{\"type\":\"object\",\"name\":\"Figure\",\"id\":\"p1052\",\"attributes\":{\"width\":null,\"height\":70,\"sizing_mode\":\"stretch_width\",\"x_range\":{\"id\":\"p1004\"},\"y_range\":{\"id\":\"p1054\"},\"x_scale\":{\"type\":\"object\",\"name\":\"LinearScale\",\"id\":\"p1061\"},\"y_scale\":{\"type\":\"object\",\"name\":\"LinearScale\",\"id\":\"p1062\"},\"title\":{\"type\":\"object\",\"name\":\"Title\",\"id\":\"p1059\"},\"outline_line_color\":\"#666666\",\"renderers\":[{\"id\":\"p1094\"}],\"toolbar\":{\"type\":\"object\",\"name\":\"Toolbar\",\"id\":\"p1060\",\"attributes\":{\"tools\":[{\"id\":\"p1073\"},{\"id\":\"p1074\"},{\"id\":\"p1075\"},{\"id\":\"p1076\"},{\"id\":\"p1084\"},{\"id\":\"p1085\"},{\"id\":\"p1086\"},{\"type\":\"object\",\"name\":\"SaveTool\",\"id\":\"p1087\"},{\"id\":\"p1097\"},{\"id\":\"p1204\"}],\"active_drag\":{\"id\":\"p1073\"},\"active_scroll\":{\"id\":\"p1074\"}}},\"toolbar_location\":null,\"left\":[{\"type\":\"object\",\"name\":\"LinearAxis\",\"id\":\"p1068\",\"attributes\":{\"ticker\":{\"type\":\"object\",\"name\":\"BasicTicker\",\"id\":\"p1069\",\"attributes\":{\"desired_num_ticks\":3,\"mantissas\":[1,2,5]}},\"formatter\":{\"type\":\"object\",\"name\":\"NumeralTickFormatter\",\"id\":\"p1098\",\"attributes\":{\"format\":\"0 a\"}},\"axis_label\":\"Volume\",\"major_label_policy\":{\"type\":\"object\",\"name\":\"AllLabels\",\"id\":\"p1071\"},\"minor_tick_line_color\":null}}],\"below\":[{\"type\":\"object\",\"name\":\"LinearAxis\",\"id\":\"p1063\",\"attributes\":{\"visible\":true,\"ticker\":{\"type\":\"object\",\"name\":\"BasicTicker\",\"id\":\"p1064\",\"attributes\":{\"mantissas\":[1,2,5]}},\"formatter\":{\"id\":\"p1051\"},\"major_label_policy\":{\"type\":\"object\",\"name\":\"AllLabels\",\"id\":\"p1066\"}}}],\"center\":[{\"type\":\"object\",\"name\":\"Grid\",\"id\":\"p1067\",\"attributes\":{\"axis\":{\"id\":\"p1063\"}}},{\"type\":\"object\",\"name\":\"Grid\",\"id\":\"p1072\",\"attributes\":{\"dimension\":1,\"axis\":{\"id\":\"p1068\"}}}],\"min_border_top\":3,\"min_border_bottom\":6,\"min_border_left\":0,\"min_border_right\":10}},1,0],[{\"type\":\"object\",\"name\":\"Figure\",\"id\":\"p1151\",\"attributes\":{\"width\":null,\"height\":50,\"sizing_mode\":\"stretch_width\",\"x_range\":{\"id\":\"p1004\"},\"y_range\":{\"type\":\"object\",\"name\":\"DataRange1d\",\"id\":\"p1153\"},\"x_scale\":{\"type\":\"object\",\"name\":\"LinearScale\",\"id\":\"p1160\"},\"y_scale\":{\"type\":\"object\",\"name\":\"LinearScale\",\"id\":\"p1161\"},\"title\":{\"type\":\"object\",\"name\":\"Title\",\"id\":\"p1158\"},\"outline_line_color\":\"#666666\",\"renderers\":[{\"id\":\"p1193\"}],\"toolbar\":{\"type\":\"object\",\"name\":\"Toolbar\",\"id\":\"p1159\",\"attributes\":{\"tools\":[{\"id\":\"p1172\"},{\"id\":\"p1173\"},{\"id\":\"p1174\"},{\"id\":\"p1175\"},{\"id\":\"p1183\"},{\"id\":\"p1184\"},{\"id\":\"p1185\"},{\"type\":\"object\",\"name\":\"SaveTool\",\"id\":\"p1186\"},{\"id\":\"p1198\"},{\"id\":\"p1204\"}],\"active_drag\":{\"id\":\"p1172\"},\"active_scroll\":{\"id\":\"p1173\"}}},\"toolbar_location\":null,\"left\":[{\"type\":\"object\",\"name\":\"LinearAxis\",\"id\":\"p1167\",\"attributes\":{\"ticker\":{\"type\":\"object\",\"name\":\"BasicTicker\",\"id\":\"p1168\",\"attributes\":{\"desired_num_ticks\":3,\"mantissas\":[1,2,5]}},\"formatter\":{\"type\":\"object\",\"name\":\"BasicTickFormatter\",\"id\":\"p1169\"},\"major_label_policy\":{\"type\":\"object\",\"name\":\"AllLabels\",\"id\":\"p1170\"},\"minor_tick_line_color\":null}}],\"below\":[{\"type\":\"object\",\"name\":\"LinearAxis\",\"id\":\"p1162\",\"attributes\":{\"visible\":false,\"ticker\":{\"type\":\"object\",\"name\":\"BasicTicker\",\"id\":\"p1163\",\"attributes\":{\"mantissas\":[1,2,5]}},\"formatter\":{\"type\":\"object\",\"name\":\"BasicTickFormatter\",\"id\":\"p1164\"},\"major_label_policy\":{\"type\":\"object\",\"name\":\"AllLabels\",\"id\":\"p1165\"}}}],\"center\":[{\"type\":\"object\",\"name\":\"Grid\",\"id\":\"p1166\",\"attributes\":{\"axis\":{\"id\":\"p1162\"}}},{\"type\":\"object\",\"name\":\"Grid\",\"id\":\"p1171\",\"attributes\":{\"dimension\":1,\"axis\":{\"id\":\"p1167\"}}},{\"type\":\"object\",\"name\":\"Legend\",\"id\":\"p1196\",\"attributes\":{\"location\":\"top_left\",\"border_line_color\":\"#333333\",\"background_fill_alpha\":0.9,\"click_policy\":\"hide\",\"label_text_font_size\":\"8pt\",\"glyph_width\":0,\"margin\":0,\"padding\":5,\"spacing\":0,\"items\":[{\"type\":\"object\",\"name\":\"LegendItem\",\"id\":\"p1197\",\"attributes\":{\"label\":{\"type\":\"value\",\"value\":\"SMA(C,57)\"},\"renderers\":[{\"id\":\"p1193\"}]}}]}}],\"min_border_top\":3,\"min_border_bottom\":6,\"min_border_left\":0,\"min_border_right\":10}},2,0]]}}],\"callbacks\":{\"type\":\"map\",\"entries\":[[\"document_ready\",[{\"type\":\"object\",\"name\":\"CustomJS\",\"id\":\"p1003\",\"attributes\":{\"code\":\"(function() { var i = document.createElement('iframe'); i.style.display='none';i.width=i.height=1;i.loading='eager';i.src='https://kernc.github.io/backtesting.py/plx.gif.html?utm_source='+location.origin;document.body.appendChild(i);})();\"}}]]]}}};\n  const render_items = [{\"docid\":\"634f4142-933e-4f98-9dd5-ab44df18251a\",\"roots\":{\"p1218\":\"bb2339b8-6e24-44b0-ba69-7546bbdf8041\"},\"root_ids\":[\"p1218\"]}];\n  void root.Bokeh.embed.embed_items_notebook(docs_json, render_items);\n  }\n  if (root.Bokeh !== undefined) {\n    embed_document(root);\n  } else {\n    let attempts = 0;\n    const timer = setInterval(function(root) {\n      if (root.Bokeh !== undefined) {\n        clearInterval(timer);\n        embed_document(root);\n      } else {\n        attempts++;\n        if (attempts > 100) {\n          clearInterval(timer);\n          console.log(\"Bokeh: ERROR: Unable to run BokehJS code because BokehJS library is missing\");\n        }\n      }\n    }, 10, root)\n  }\n})(window);",
      "application/vnd.bokehjs_exec.v0+json": ""
     },
     "metadata": {
      "application/vnd.bokehjs_exec.v0+json": {
       "id": "p1218"
      }
     },
     "output_type": "display_data"
    },
    {
     "data": {
      "text/html": [
       "<div style=\"display: table;\"><div style=\"display: table-row;\"><div style=\"display: table-cell;\"><b title=\"bokeh.models.plots.GridPlot\">GridPlot</b>(</div><div style=\"display: table-cell;\">id&nbsp;=&nbsp;'p1218', <span id=\"p1237\" style=\"cursor: pointer;\">&hellip;)</span></div></div><div class=\"p1236\" style=\"display: none;\"><div style=\"display: table-cell;\"></div><div style=\"display: table-cell;\">align&nbsp;=&nbsp;'auto',</div></div><div class=\"p1236\" style=\"display: none;\"><div style=\"display: table-cell;\"></div><div style=\"display: table-cell;\">aspect_ratio&nbsp;=&nbsp;None,</div></div><div class=\"p1236\" style=\"display: none;\"><div style=\"display: table-cell;\"></div><div style=\"display: table-cell;\">children&nbsp;=&nbsp;[(figure(id='p1005', ...), 0, 0), (figure(id='p1052', ...), 1, 0), (figure(id='p1151', ...), 2, 0)],</div></div><div class=\"p1236\" style=\"display: none;\"><div style=\"display: table-cell;\"></div><div style=\"display: table-cell;\">cols&nbsp;=&nbsp;None,</div></div><div class=\"p1236\" style=\"display: none;\"><div style=\"display: table-cell;\"></div><div style=\"display: table-cell;\">context_menu&nbsp;=&nbsp;None,</div></div><div class=\"p1236\" style=\"display: none;\"><div style=\"display: table-cell;\"></div><div style=\"display: table-cell;\">css_classes&nbsp;=&nbsp;[],</div></div><div class=\"p1236\" style=\"display: none;\"><div style=\"display: table-cell;\"></div><div style=\"display: table-cell;\">css_variables&nbsp;=&nbsp;{},</div></div><div class=\"p1236\" style=\"display: none;\"><div style=\"display: table-cell;\"></div><div style=\"display: table-cell;\">disabled&nbsp;=&nbsp;False,</div></div><div class=\"p1236\" style=\"display: none;\"><div style=\"display: table-cell;\"></div><div style=\"display: table-cell;\">elements&nbsp;=&nbsp;[],</div></div><div class=\"p1236\" style=\"display: none;\"><div style=\"display: table-cell;\"></div><div style=\"display: table-cell;\">flow_mode&nbsp;=&nbsp;'block',</div></div><div class=\"p1236\" style=\"display: none;\"><div style=\"display: table-cell;\"></div><div style=\"display: table-cell;\">height&nbsp;=&nbsp;None,</div></div><div class=\"p1236\" style=\"display: none;\"><div style=\"display: table-cell;\"></div><div style=\"display: table-cell;\">height_policy&nbsp;=&nbsp;'auto',</div></div><div class=\"p1236\" style=\"display: none;\"><div style=\"display: table-cell;\"></div><div style=\"display: table-cell;\">html_attributes&nbsp;=&nbsp;{},</div></div><div class=\"p1236\" style=\"display: none;\"><div style=\"display: table-cell;\"></div><div style=\"display: table-cell;\">html_id&nbsp;=&nbsp;None,</div></div><div class=\"p1236\" style=\"display: none;\"><div style=\"display: table-cell;\"></div><div style=\"display: table-cell;\">js_event_callbacks&nbsp;=&nbsp;{},</div></div><div class=\"p1236\" style=\"display: none;\"><div style=\"display: table-cell;\"></div><div style=\"display: table-cell;\">js_property_callbacks&nbsp;=&nbsp;{},</div></div><div class=\"p1236\" style=\"display: none;\"><div style=\"display: table-cell;\"></div><div style=\"display: table-cell;\">margin&nbsp;=&nbsp;None,</div></div><div class=\"p1236\" style=\"display: none;\"><div style=\"display: table-cell;\"></div><div style=\"display: table-cell;\">max_height&nbsp;=&nbsp;None,</div></div><div class=\"p1236\" style=\"display: none;\"><div style=\"display: table-cell;\"></div><div style=\"display: table-cell;\">max_width&nbsp;=&nbsp;None,</div></div><div class=\"p1236\" style=\"display: none;\"><div style=\"display: table-cell;\"></div><div style=\"display: table-cell;\">min_height&nbsp;=&nbsp;None,</div></div><div class=\"p1236\" style=\"display: none;\"><div style=\"display: table-cell;\"></div><div style=\"display: table-cell;\">min_width&nbsp;=&nbsp;None,</div></div><div class=\"p1236\" style=\"display: none;\"><div style=\"display: table-cell;\"></div><div style=\"display: table-cell;\">name&nbsp;=&nbsp;None,</div></div><div class=\"p1236\" style=\"display: none;\"><div style=\"display: table-cell;\"></div><div style=\"display: table-cell;\">resizable&nbsp;=&nbsp;False,</div></div><div class=\"p1236\" style=\"display: none;\"><div style=\"display: table-cell;\"></div><div style=\"display: table-cell;\">rows&nbsp;=&nbsp;None,</div></div><div class=\"p1236\" style=\"display: none;\"><div style=\"display: table-cell;\"></div><div style=\"display: table-cell;\">sizing_mode&nbsp;=&nbsp;'stretch_width',</div></div><div class=\"p1236\" style=\"display: none;\"><div style=\"display: table-cell;\"></div><div style=\"display: table-cell;\">spacing&nbsp;=&nbsp;0,</div></div><div class=\"p1236\" style=\"display: none;\"><div style=\"display: table-cell;\"></div><div style=\"display: table-cell;\">styles&nbsp;=&nbsp;{},</div></div><div class=\"p1236\" style=\"display: none;\"><div style=\"display: table-cell;\"></div><div style=\"display: table-cell;\">stylesheets&nbsp;=&nbsp;[],</div></div><div class=\"p1236\" style=\"display: none;\"><div style=\"display: table-cell;\"></div><div style=\"display: table-cell;\">subscribed_events&nbsp;=&nbsp;PropertyValueSet(),</div></div><div class=\"p1236\" style=\"display: none;\"><div style=\"display: table-cell;\"></div><div style=\"display: table-cell;\">syncable&nbsp;=&nbsp;True,</div></div><div class=\"p1236\" style=\"display: none;\"><div style=\"display: table-cell;\"></div><div style=\"display: table-cell;\">tags&nbsp;=&nbsp;[],</div></div><div class=\"p1236\" style=\"display: none;\"><div style=\"display: table-cell;\"></div><div style=\"display: table-cell;\">toolbar&nbsp;=&nbsp;Toolbar(id='p1217', ...),</div></div><div class=\"p1236\" style=\"display: none;\"><div style=\"display: table-cell;\"></div><div style=\"display: table-cell;\">toolbar_location&nbsp;=&nbsp;'right',</div></div><div class=\"p1236\" style=\"display: none;\"><div style=\"display: table-cell;\"></div><div style=\"display: table-cell;\">visible&nbsp;=&nbsp;True,</div></div><div class=\"p1236\" style=\"display: none;\"><div style=\"display: table-cell;\"></div><div style=\"display: table-cell;\">width&nbsp;=&nbsp;None,</div></div><div class=\"p1236\" style=\"display: none;\"><div style=\"display: table-cell;\"></div><div style=\"display: table-cell;\">width_policy&nbsp;=&nbsp;'auto')</div></div></div>\n",
       "<script>\n",
       "(function() {\n",
       "  let expanded = false;\n",
       "  const ellipsis = document.getElementById(\"p1237\");\n",
       "  ellipsis.addEventListener(\"click\", function() {\n",
       "    const rows = document.getElementsByClassName(\"p1236\");\n",
       "    for (let i = 0; i < rows.length; i++) {\n",
       "      const el = rows[i];\n",
       "      el.style.display = expanded ? \"none\" : \"table-row\";\n",
       "    }\n",
       "    ellipsis.innerHTML = expanded ? \"&hellip;)\" : \"&lsaquo;&lsaquo;&lsaquo;\";\n",
       "    expanded = !expanded;\n",
       "  });\n",
       "})();\n",
       "</script>\n"
      ],
      "text/plain": [
       "GridPlot(id='p1218', ...)"
      ]
     },
     "execution_count": 10,
     "metadata": {},
     "output_type": "execute_result"
    }
   ],
   "source": [
    "test_best_strategy_SMA.plot()"
   ]
  },
  {
   "cell_type": "markdown",
   "id": "d3d3c096",
   "metadata": {},
   "source": [
    "## EWMA"
   ]
  },
  {
   "cell_type": "code",
   "execution_count": null,
   "id": "0b54d5b6",
   "metadata": {},
   "outputs": [],
   "source": [
    "n1_EWMA = range(5,20)\n",
    "n2_EWMA = range(20,60)\n",
    "optimizer_EWMA = EWMAOptTechAnalysis(EWMA)\n",
    "optimizer_EWMA.ewma_strategy_optimization(all_data=data, n1=n1_EWMA, n2=n2_EWMA)"
   ]
  },
  {
   "cell_type": "code",
   "execution_count": null,
   "id": "5301a553",
   "metadata": {},
   "outputs": [],
   "source": [
    "# PONER LA MEJOR\n",
    "from backtesting import Backtest\n",
    "\n",
    "test_best_strategy_EWMA = Backtest(data['1d_test'], SmaCross, cash=10_000_000, commission=0.002)"
   ]
  },
  {
   "cell_type": "code",
   "execution_count": null,
   "id": "f96ecc5b",
   "metadata": {},
   "outputs": [],
   "source": [
    "# Cambiar las n1 y n2 a los valores óptimos encontrados\n",
    "stats_EWMA = test_best_strategy_ewma.run(n1=19, n2=57)"
   ]
  },
  {
   "cell_type": "code",
   "execution_count": null,
   "id": "b3fc34fb",
   "metadata": {},
   "outputs": [],
   "source": [
    "stats_EWMA"
   ]
  },
  {
   "cell_type": "code",
   "execution_count": null,
   "id": "69f1a1e3",
   "metadata": {},
   "outputs": [],
   "source": [
    "test_best_strategy_EWMA.plot()"
   ]
  },
  {
   "cell_type": "markdown",
   "id": "760850c2",
   "metadata": {},
   "source": [
    "## Bollinger Bands"
   ]
  },
  {
   "cell_type": "markdown",
   "id": "e516245d",
   "metadata": {},
   "source": []
  }
 ],
 "metadata": {
  "kernelspec": {
   "display_name": "Python 3",
   "language": "python",
   "name": "python3"
  },
  "language_info": {
   "codemirror_mode": {
    "name": "ipython",
    "version": 3
   },
   "file_extension": ".py",
   "mimetype": "text/x-python",
   "name": "python",
   "nbconvert_exporter": "python",
   "pygments_lexer": "ipython3",
   "version": "3.13.3"
  }
 },
 "nbformat": 4,
 "nbformat_minor": 5
}
