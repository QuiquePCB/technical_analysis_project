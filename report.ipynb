{
 "cells": [
  {
   "cell_type": "code",
   "execution_count": 1,
   "id": "f40e9c78",
   "metadata": {},
   "outputs": [
    {
     "ename": "ModuleNotFoundError",
     "evalue": "No module named 'yfinance'",
     "output_type": "error",
     "traceback": [
      "\u001b[31m---------------------------------------------------------------------------\u001b[39m",
      "\u001b[31mModuleNotFoundError\u001b[39m                       Traceback (most recent call last)",
      "\u001b[36mCell\u001b[39m\u001b[36m \u001b[39m\u001b[32mIn[1]\u001b[39m\u001b[32m, line 2\u001b[39m\n\u001b[32m      1\u001b[39m \u001b[38;5;66;03m# Descargamos datos y preparamos datasets\u001b[39;00m\n\u001b[32m----> \u001b[39m\u001b[32m2\u001b[39m \u001b[38;5;28;01mfrom\u001b[39;00m\u001b[38;5;250m \u001b[39m\u001b[34;01mtech_analysis\u001b[39;00m\u001b[34;01m.\u001b[39;00m\u001b[34;01mtrain_test_split\u001b[39;00m\u001b[38;5;250m \u001b[39m\u001b[38;5;28;01mimport\u001b[39;00m TrainTestSets\n",
      "\u001b[36mFile \u001b[39m\u001b[32mc:\\Users\\QuiquePCB\\Documents\\GitHub\\technical_analysis_project\\tech_analysis\\train_test_split.py:1\u001b[39m\n\u001b[32m----> \u001b[39m\u001b[32m1\u001b[39m \u001b[38;5;28;01mimport\u001b[39;00m\u001b[38;5;250m \u001b[39m\u001b[34;01myfinance\u001b[39;00m\u001b[38;5;250m \u001b[39m\u001b[38;5;28;01mas\u001b[39;00m\u001b[38;5;250m \u001b[39m\u001b[34;01myf\u001b[39;00m\n\u001b[32m      3\u001b[39m \u001b[38;5;28;01mclass\u001b[39;00m\u001b[38;5;250m \u001b[39m\u001b[34;01mTrainTestSets\u001b[39;00m:\n\u001b[32m      5\u001b[39m     \u001b[38;5;28;01mdef\u001b[39;00m\u001b[38;5;250m \u001b[39m\u001b[34m__init__\u001b[39m(\u001b[38;5;28mself\u001b[39m):\n",
      "\u001b[31mModuleNotFoundError\u001b[39m: No module named 'yfinance'"
     ]
    }
   ],
   "source": [
    "# Descargamos datos y preparamos datasets\n",
    "from tech_analysis.train_test_split import TrainTestSets"
   ]
  },
  {
   "cell_type": "code",
   "execution_count": 2,
   "id": "aa317625",
   "metadata": {},
   "outputs": [
    {
     "name": "stderr",
     "output_type": "stream",
     "text": [
      "c:\\Users\\moise\\Documents\\myst_projects\\technical_analysis_project\\tech_analysis\\train_test_split.py:20: FutureWarning: YF.download() has changed argument auto_adjust default to True\n",
      "  data = yf.download(tickers=ticker, start=start, end=end, interval=interval)\n",
      "[*********************100%***********************]  1 of 1 completed\n",
      "c:\\Users\\moise\\Documents\\myst_projects\\technical_analysis_project\\tech_analysis\\train_test_split.py:20: FutureWarning: YF.download() has changed argument auto_adjust default to True\n",
      "  data = yf.download(tickers=ticker, start=start, end=end, interval=interval)\n",
      "[*********************100%***********************]  1 of 1 completed\n"
     ]
    },
    {
     "data": {
      "text/plain": [
       "dict_keys(['4h_train', '4h_test', '1d_train', '1d_test'])"
      ]
     },
     "execution_count": 2,
     "metadata": {},
     "output_type": "execute_result"
    }
   ],
   "source": [
    "tts = TrainTestSets()\n",
    "ticker = 'BTC-USD'\n",
    "intervals = [\"4h\",\"1d\"]\n",
    "# Este es un diccionario\n",
    "data = tts.interval_train_test_split(ticker, intervals)\n",
    "data.keys()"
   ]
  },
  {
   "cell_type": "code",
   "execution_count": 3,
   "id": "9ac39155",
   "metadata": {},
   "outputs": [],
   "source": [
    "# Importamos estrategias\n",
    "from tech_analysis.strategies import SmaCross"
   ]
  },
  {
   "cell_type": "code",
   "execution_count": 4,
   "id": "eb49269a",
   "metadata": {},
   "outputs": [],
   "source": [
    "# Optimizamos\n",
    "from tech_analysis.optimization import SMAOptTechAnalysis"
   ]
  },
  {
   "cell_type": "code",
   "execution_count": 5,
   "id": "52f5d751",
   "metadata": {},
   "outputs": [
    {
     "name": "stderr",
     "output_type": "stream",
     "text": [
      "c:\\Users\\moise\\Documents\\myst_projects\\technical_analysis_project\\venv\\Lib\\site-packages\\backtesting\\backtesting.py:1606: UserWarning: Searching for best of 600 configurations.\n",
      "  output = _optimize_grid()\n",
      "c:\\Users\\moise\\Documents\\myst_projects\\technical_analysis_project\\venv\\Lib\\site-packages\\backtesting\\backtesting.py:1606: RuntimeWarning: If you want to use multi-process optimization with `multiprocessing.get_start_method() == 'spawn'` (e.g. on Windows),set `backtesting.Pool = multiprocessing.Pool` (or of the desired context) and hide `bt.optimize()` call behind a `if __name__ == '__main__'` guard. Currently using thread-based paralellism, which might be slightly slower for non-numpy / non-GIL-releasing code. See https://github.com/kernc/backtesting.py/issues/1256\n",
      "  output = _optimize_grid()\n",
      "c:\\Users\\moise\\Documents\\myst_projects\\technical_analysis_project\\venv\\Lib\\site-packages\\backtesting\\backtesting.py:1606: UserWarning: Searching for best of 600 configurations.\n",
      "  output = _optimize_grid()\n",
      "c:\\Users\\moise\\Documents\\myst_projects\\technical_analysis_project\\venv\\Lib\\site-packages\\backtesting\\backtesting.py:1606: RuntimeWarning: If you want to use multi-process optimization with `multiprocessing.get_start_method() == 'spawn'` (e.g. on Windows),set `backtesting.Pool = multiprocessing.Pool` (or of the desired context) and hide `bt.optimize()` call behind a `if __name__ == '__main__'` guard. Currently using thread-based paralellism, which might be slightly slower for non-numpy / non-GIL-releasing code. See https://github.com/kernc/backtesting.py/issues/1256\n",
      "  output = _optimize_grid()\n"
     ]
    },
    {
     "data": {
      "text/html": [
       "<div>\n",
       "<style scoped>\n",
       "    .dataframe tbody tr th:only-of-type {\n",
       "        vertical-align: middle;\n",
       "    }\n",
       "\n",
       "    .dataframe tbody tr th {\n",
       "        vertical-align: top;\n",
       "    }\n",
       "\n",
       "    .dataframe thead th {\n",
       "        text-align: right;\n",
       "    }\n",
       "</style>\n",
       "<table border=\"1\" class=\"dataframe\">\n",
       "  <thead>\n",
       "    <tr style=\"text-align: right;\">\n",
       "      <th></th>\n",
       "      <th>interval</th>\n",
       "      <th>n1</th>\n",
       "      <th>n2</th>\n",
       "      <th>Return [%]</th>\n",
       "      <th>No. of Trades</th>\n",
       "    </tr>\n",
       "  </thead>\n",
       "  <tbody>\n",
       "    <tr>\n",
       "      <th>1</th>\n",
       "      <td>1d_train</td>\n",
       "      <td>19</td>\n",
       "      <td>57</td>\n",
       "      <td>55.379807</td>\n",
       "      <td>1</td>\n",
       "    </tr>\n",
       "    <tr>\n",
       "      <th>0</th>\n",
       "      <td>4h_train</td>\n",
       "      <td>12</td>\n",
       "      <td>20</td>\n",
       "      <td>41.711439</td>\n",
       "      <td>42</td>\n",
       "    </tr>\n",
       "  </tbody>\n",
       "</table>\n",
       "</div>"
      ],
      "text/plain": [
       "   interval  n1  n2  Return [%]  No. of Trades\n",
       "1  1d_train  19  57   55.379807              1\n",
       "0  4h_train  12  20   41.711439             42"
      ]
     },
     "execution_count": 5,
     "metadata": {},
     "output_type": "execute_result"
    }
   ],
   "source": [
    "n1 = range(5,20)\n",
    "n2 = range(20,60)\n",
    "optimizer = SMAOptTechAnalysis(SmaCross)\n",
    "optimizer.sma_strategy_optimization(all_data=data, n1=n1, n2=n2)"
   ]
  },
  {
   "cell_type": "markdown",
   "id": "71201e2e",
   "metadata": {},
   "source": [
    "Esta es la mejor estrategia"
   ]
  },
  {
   "cell_type": "code",
   "execution_count": 6,
   "id": "645df805",
   "metadata": {},
   "outputs": [],
   "source": [
    "# Probamos la mejor estrategia con el dataset de test\n",
    "from backtesting import Backtest\n",
    "\n",
    "test_best_strategy = Backtest(data['1d_test'], SmaCross, cash=10_000_000, commission=0.002)"
   ]
  },
  {
   "cell_type": "code",
   "execution_count": 7,
   "id": "ccdc71c1",
   "metadata": {},
   "outputs": [],
   "source": [
    "stats = test_best_strategy.run(n1=19, n2=57)"
   ]
  },
  {
   "cell_type": "code",
   "execution_count": 8,
   "id": "ec31e320",
   "metadata": {},
   "outputs": [
    {
     "data": {
      "text/plain": [
       "Start                     2025-02-16 00:00:00\n",
       "End                       2025-06-05 00:00:00\n",
       "Duration                    109 days 00:00:00\n",
       "Exposure Time [%]                         0.0\n",
       "Equity Final [$]               10700546.91602\n",
       "Equity Peak [$]                11760766.36914\n",
       "Return [%]                            7.00547\n",
       "Buy & Hold Return [%]                21.37896\n",
       "Return (Ann.) [%]                    25.19136\n",
       "Volatility (Ann.) [%]                25.79006\n",
       "CAGR [%]                             25.44968\n",
       "Sharpe Ratio                          0.97679\n",
       "Sortino Ratio                         2.14906\n",
       "Calmar Ratio                          2.79442\n",
       "Alpha [%]                             3.79957\n",
       "Beta                                  0.14996\n",
       "Max. Drawdown [%]                    -9.01488\n",
       "Avg. Drawdown [%]                    -2.36279\n",
       "Max. Drawdown Duration       14 days 00:00:00\n",
       "Avg. Drawdown Duration        6 days 00:00:00\n",
       "# Trades                                    0\n",
       "Win Rate [%]                              NaN\n",
       "Best Trade [%]                            NaN\n",
       "Worst Trade [%]                           NaN\n",
       "Avg. Trade [%]                            NaN\n",
       "Max. Trade Duration                       NaN\n",
       "Avg. Trade Duration                       NaN\n",
       "Profit Factor                             NaN\n",
       "Expectancy [%]                            NaN\n",
       "SQN                                       NaN\n",
       "Kelly Criterion                           NaN\n",
       "_strategy                 SmaCross(n1=19,n...\n",
       "_equity_curve                             ...\n",
       "_trades                   Empty DataFrame\n",
       "...\n",
       "dtype: object"
      ]
     },
     "execution_count": 8,
     "metadata": {},
     "output_type": "execute_result"
    }
   ],
   "source": [
    "stats"
   ]
  },
  {
   "cell_type": "code",
   "execution_count": 10,
   "id": "2806ffbc",
   "metadata": {},
   "outputs": [
    {
     "data": {
      "text/html": [
       "\n",
       "  <div id=\"c73661f1-3e21-4db5-88a0-80e87a69012d\" data-root-id=\"p1453\" style=\"display: contents;\"></div>\n"
      ]
     },
     "metadata": {},
     "output_type": "display_data"
    },
    {
     "data": {
      "application/javascript": "(function(root) {\n  function embed_document(root) {\n  const docs_json = {\"814adc2e-0c5f-4161-9ad7-ebde22c00f77\":{\"version\":\"3.7.3\",\"title\":\"Bokeh Application\",\"roots\":[{\"type\":\"object\",\"name\":\"GridPlot\",\"id\":\"p1453\",\"attributes\":{\"rows\":null,\"cols\":null,\"sizing_mode\":\"stretch_width\",\"toolbar\":{\"type\":\"object\",\"name\":\"Toolbar\",\"id\":\"p1452\",\"attributes\":{\"tools\":[{\"type\":\"object\",\"name\":\"ToolProxy\",\"id\":\"p1440\",\"attributes\":{\"tools\":[{\"type\":\"object\",\"name\":\"PanTool\",\"id\":\"p1261\",\"attributes\":{\"dimensions\":\"width\"}},{\"type\":\"object\",\"name\":\"PanTool\",\"id\":\"p1308\",\"attributes\":{\"dimensions\":\"width\"}},{\"type\":\"object\",\"name\":\"PanTool\",\"id\":\"p1407\",\"attributes\":{\"dimensions\":\"width\"}}]}},{\"type\":\"object\",\"name\":\"ToolProxy\",\"id\":\"p1441\",\"attributes\":{\"tools\":[{\"type\":\"object\",\"name\":\"WheelZoomTool\",\"id\":\"p1262\",\"attributes\":{\"dimensions\":\"width\",\"renderers\":\"auto\",\"maintain_focus\":false}},{\"type\":\"object\",\"name\":\"WheelZoomTool\",\"id\":\"p1309\",\"attributes\":{\"dimensions\":\"width\",\"renderers\":\"auto\",\"maintain_focus\":false}},{\"type\":\"object\",\"name\":\"WheelZoomTool\",\"id\":\"p1408\",\"attributes\":{\"dimensions\":\"width\",\"renderers\":\"auto\",\"maintain_focus\":false}}]}},{\"type\":\"object\",\"name\":\"ToolProxy\",\"id\":\"p1442\",\"attributes\":{\"tools\":[{\"type\":\"object\",\"name\":\"WheelPanTool\",\"id\":\"p1263\"},{\"type\":\"object\",\"name\":\"WheelPanTool\",\"id\":\"p1310\"},{\"type\":\"object\",\"name\":\"WheelPanTool\",\"id\":\"p1409\"}]}},{\"type\":\"object\",\"name\":\"ToolProxy\",\"id\":\"p1443\",\"attributes\":{\"tools\":[{\"type\":\"object\",\"name\":\"BoxZoomTool\",\"id\":\"p1264\",\"attributes\":{\"dimensions\":\"both\",\"overlay\":{\"type\":\"object\",\"name\":\"BoxAnnotation\",\"id\":\"p1265\",\"attributes\":{\"syncable\":false,\"line_color\":\"black\",\"line_alpha\":1.0,\"line_width\":2,\"line_dash\":[4,4],\"fill_color\":\"lightgrey\",\"fill_alpha\":0.5,\"level\":\"overlay\",\"visible\":false,\"left\":{\"type\":\"number\",\"value\":\"nan\"},\"right\":{\"type\":\"number\",\"value\":\"nan\"},\"top\":{\"type\":\"number\",\"value\":\"nan\"},\"bottom\":{\"type\":\"number\",\"value\":\"nan\"},\"left_units\":\"canvas\",\"right_units\":\"canvas\",\"top_units\":\"canvas\",\"bottom_units\":\"canvas\",\"handles\":{\"type\":\"object\",\"name\":\"BoxInteractionHandles\",\"id\":\"p1271\",\"attributes\":{\"all\":{\"type\":\"object\",\"name\":\"AreaVisuals\",\"id\":\"p1270\",\"attributes\":{\"fill_color\":\"white\",\"hover_fill_color\":\"lightgray\"}}}}}}}},{\"type\":\"object\",\"name\":\"BoxZoomTool\",\"id\":\"p1311\",\"attributes\":{\"dimensions\":\"both\",\"overlay\":{\"type\":\"object\",\"name\":\"BoxAnnotation\",\"id\":\"p1312\",\"attributes\":{\"syncable\":false,\"line_color\":\"black\",\"line_alpha\":1.0,\"line_width\":2,\"line_dash\":[4,4],\"fill_color\":\"lightgrey\",\"fill_alpha\":0.5,\"level\":\"overlay\",\"visible\":false,\"left\":{\"type\":\"number\",\"value\":\"nan\"},\"right\":{\"type\":\"number\",\"value\":\"nan\"},\"top\":{\"type\":\"number\",\"value\":\"nan\"},\"bottom\":{\"type\":\"number\",\"value\":\"nan\"},\"left_units\":\"canvas\",\"right_units\":\"canvas\",\"top_units\":\"canvas\",\"bottom_units\":\"canvas\",\"handles\":{\"type\":\"object\",\"name\":\"BoxInteractionHandles\",\"id\":\"p1318\",\"attributes\":{\"all\":{\"type\":\"object\",\"name\":\"AreaVisuals\",\"id\":\"p1317\",\"attributes\":{\"fill_color\":\"white\",\"hover_fill_color\":\"lightgray\"}}}}}}}},{\"type\":\"object\",\"name\":\"BoxZoomTool\",\"id\":\"p1410\",\"attributes\":{\"dimensions\":\"both\",\"overlay\":{\"type\":\"object\",\"name\":\"BoxAnnotation\",\"id\":\"p1411\",\"attributes\":{\"syncable\":false,\"line_color\":\"black\",\"line_alpha\":1.0,\"line_width\":2,\"line_dash\":[4,4],\"fill_color\":\"lightgrey\",\"fill_alpha\":0.5,\"level\":\"overlay\",\"visible\":false,\"left\":{\"type\":\"number\",\"value\":\"nan\"},\"right\":{\"type\":\"number\",\"value\":\"nan\"},\"top\":{\"type\":\"number\",\"value\":\"nan\"},\"bottom\":{\"type\":\"number\",\"value\":\"nan\"},\"left_units\":\"canvas\",\"right_units\":\"canvas\",\"top_units\":\"canvas\",\"bottom_units\":\"canvas\",\"handles\":{\"type\":\"object\",\"name\":\"BoxInteractionHandles\",\"id\":\"p1417\",\"attributes\":{\"all\":{\"type\":\"object\",\"name\":\"AreaVisuals\",\"id\":\"p1416\",\"attributes\":{\"fill_color\":\"white\",\"hover_fill_color\":\"lightgray\"}}}}}}}}]}},{\"type\":\"object\",\"name\":\"ToolProxy\",\"id\":\"p1444\",\"attributes\":{\"tools\":[{\"type\":\"object\",\"name\":\"UndoTool\",\"id\":\"p1272\"},{\"type\":\"object\",\"name\":\"UndoTool\",\"id\":\"p1319\"},{\"type\":\"object\",\"name\":\"UndoTool\",\"id\":\"p1418\"}]}},{\"type\":\"object\",\"name\":\"ToolProxy\",\"id\":\"p1445\",\"attributes\":{\"tools\":[{\"type\":\"object\",\"name\":\"RedoTool\",\"id\":\"p1273\"},{\"type\":\"object\",\"name\":\"RedoTool\",\"id\":\"p1320\"},{\"type\":\"object\",\"name\":\"RedoTool\",\"id\":\"p1419\"}]}},{\"type\":\"object\",\"name\":\"ToolProxy\",\"id\":\"p1446\",\"attributes\":{\"tools\":[{\"type\":\"object\",\"name\":\"ResetTool\",\"id\":\"p1274\"},{\"type\":\"object\",\"name\":\"ResetTool\",\"id\":\"p1321\"},{\"type\":\"object\",\"name\":\"ResetTool\",\"id\":\"p1420\"}]}},{\"type\":\"object\",\"name\":\"SaveTool\",\"id\":\"p1447\"},{\"type\":\"object\",\"name\":\"ToolProxy\",\"id\":\"p1448\",\"attributes\":{\"tools\":[{\"type\":\"object\",\"name\":\"HoverTool\",\"id\":\"p1435\",\"attributes\":{\"renderers\":[{\"type\":\"object\",\"name\":\"GlyphRenderer\",\"id\":\"p1373\",\"attributes\":{\"data_source\":{\"type\":\"object\",\"name\":\"ColumnDataSource\",\"id\":\"p1276\",\"attributes\":{\"selected\":{\"type\":\"object\",\"name\":\"Selection\",\"id\":\"p1277\",\"attributes\":{\"indices\":[],\"line_indices\":[]}},\"selection_policy\":{\"type\":\"object\",\"name\":\"UnionRenderers\",\"id\":\"p1278\"},\"data\":{\"type\":\"map\",\"entries\":[[\"index\",{\"type\":\"ndarray\",\"array\":{\"type\":\"bytes\",\"data\":\"AAAAAAEAAAACAAAAAwAAAAQAAAAFAAAABgAAAAcAAAAIAAAACQAAAAoAAAALAAAADAAAAA0AAAAOAAAADwAAABAAAAARAAAAEgAAABMAAAAUAAAAFQAAABYAAAAXAAAAGAAAABkAAAAaAAAAGwAAABwAAAAdAAAAHgAAAB8AAAAgAAAAIQAAACIAAAAjAAAAJAAAACUAAAAmAAAAJwAAACgAAAApAAAAKgAAACsAAAAsAAAALQAAAC4AAAAvAAAAMAAAADEAAAAyAAAAMwAAADQAAAA1AAAANgAAADcAAAA4AAAAOQAAADoAAAA7AAAAPAAAAD0AAAA+AAAAPwAAAEAAAABBAAAAQgAAAEMAAABEAAAARQAAAEYAAABHAAAASAAAAEkAAABKAAAASwAAAEwAAABNAAAATgAAAE8AAABQAAAAUQAAAFIAAABTAAAAVAAAAFUAAABWAAAAVwAAAFgAAABZAAAAWgAAAFsAAABcAAAAXQAAAF4AAABfAAAAYAAAAGEAAABiAAAAYwAAAGQAAABlAAAAZgAAAGcAAABoAAAAaQAAAGoAAABrAAAAbAAAAG0AAAA=\"},\"shape\":[110],\"dtype\":\"int32\",\"order\":\"little\"}],[\"Open\",{\"type\":\"ndarray\",\"array\":{\"type\":\"bytes\",\"data\":\"AAAA4MfS90AAAAAgMHv3QAAAAADdYfdAAAAAgMhS90AAAADgipf3QAAAAMBKAvhAAAAAQGN490AAAADgHJT3QAAAAGBfgfdAAAAA4NFS9kAAAABA7qP1QAAAAMDNhvRAAAAAABqu9EAAAADgXZn0QAAAACBEAfVAAAAAwIYC90AAAAAgAQP1QAAAAEBvS/VAAAAAwOUf9kAAAACAtPb1QAAAAIBqLfVAAAAA4KQI9UAAAABgUq3zQAAAAAC+K/NAAAAAAJY69EAAAADAznD0QAAAAOCvyvNAAAAAgAaA9EAAAAAg1Zb0QAAAAGAFKfRAAAAAgLuG9EAAAADg7DH0QAAAAECPNfVAAAAAoEiM9EAAAAAg5IT0QAAAAGB+d/RAAAAA4G4D9UAAAAAgjV31QAAAAMBDWvVAAAAAIAQ39UAAAADAE0n1QAAAACABmPRAAAAAwE8q9EAAAAAAARr0QAAAAMB+J/RAAAAAwMnL9EAAAACgdyP0QAAAAADESfRAAAAAQEt49EAAAAAgCGP0QAAAAGDVGPNAAAAAoCdX80AAAAAAGZ/yQAAAAKBfKPRAAAAAwJBw80AAAABAyFz0QAAAAID30fRAAAAAYOhu9EAAAAAgu6P0QAAAACCobfRAAAAAwOqD9EAAAAAAQ7r0QAAAAOAtnvRAAAAAIKHE9EAAAACgOMv0QAAAAAAeXvVAAAAAYDnP9kAAAABgxt/2QAAAAAAk8PZAAAAAYKof90AAAACAThz3QAAAAOC04/ZAAAAAwF0w90AAAACA5wT3QAAAAMBNAPdAAAAAgO+O90AAAAAgiqj3QAAAAABTaPdAAAAAAPkG90AAAAAgxiH3QAAAACADovdAAAAAAKSw90AAAAAAcjT5QAAAAGDbI/lAAAAAINGP+UAAAABgr2r5QAAAAODHGflAAAAAQHVu+UAAAABALUf5QAAAAIB6U/lAAAAAoBRE+UAAAABALzH5QAAAAIDo+/lAAAAAgFbI+UAAAAAAdRL6QAAAAOCXxvpAAAAAwPVD+0AAAAAg6DD6QAAAAGCkUfpAAAAAgPyd+kAAAACABrj6QAAAAMACnPpAAAAAIDlR+kAAAABg48r5QAAAAICrY/lAAAAAwNSL+UAAAAAAHcv5QAAAAKAH2vlAAAAA4KW9+UAAAACA7JL5QA==\"},\"shape\":[110],\"dtype\":\"float64\",\"order\":\"little\"}],[\"High\",{\"type\":\"ndarray\",\"array\":{\"type\":\"bytes\",\"data\":\"AAAAgNnb90AAAADAg7D3QAAAAAB2m/dAAAAAgHml90AAAAAg8xz4QAAAAICfSvhAAAAAgGKr90AAAAAA/pn3QAAAAEB3j/dAAAAAQPGV9kAAAAAAZMz1QAAAAICMPfVAAAAAIMXC9EAAAADgpB/1QAAAAAA3NPdAAAAAANwN90AAAABg9LT1QAAAAOBjN/ZAAAAAAE+o9kAAAADAcEP2QAAAAED0M/VAAAAAIHIc9UAAAADgPn/0QAAAACCcZ/RAAAAAQGmY9EAAAAAg25T0QAAAAKD00PRAAAAAwAqs9EAAAACgucP0QAAAAEBVr/RAAAAAgLuG9EAAAAAA0z71QAAAAEA0WfVAAAAAYOSy9EAAAAAAHqL0QAAAAIDsBPVAAAAAoGur9UAAAABg5p31QAAAAIBCjvVAAAAAoKtu9UAAAADAHVz1QAAAAGB1pfRAAAAAABBj9EAAAAAA4nn0QAAAAOD13vRAAAAAQC+Z9UAAAADAVHz0QAAAAGCCrfRAAAAAQPCO9EAAAACAi2/0QAAAAADxzfNAAAAAQH6780AAAAAAUGX0QAAAAODOMPRAAAAAoHeR9EAAAAAAA/b0QAAAAADz//RAAAAAAJDx9EAAAACg1Rn1QAAAAIBE2/RAAAAAIJHc9EAAAADAcMb0QAAAAEDb5fRAAAAAIKbT9EAAAACAwZj1QAAAACCW5/ZAAAAAwHsU90AAAAAgA/T2QAAAAECGYfdAAAAAwDVB90AAAABAU0T3QAAAAODnVvdAAAAAoNZP90AAAAAgFUH3QAAAAGDfyfdAAAAAYB7n90AAAAAg/qr3QAAAAMDug/dAAAAAAJM990AAAADgkqf3QAAAAOCc1fdAAAAAoBhi+UAAAADgl3b5QAAAAEAcoPlAAAAA4J+e+UAAAABAN9H5QAAAAMBWovlAAAAAAPl2+UAAAADgmW35QAAAAMBXhflAAAAAIE9S+UAAAADAUgb6QAAAAIDLI/pAAAAA4LEy+kAAAABgRwj7QAAAAMAiVvtAAAAAgG5L+0AAAABg6Lj6QAAAAOAUsPpAAAAAII7y+kAAAABggwn7QAAAAKAkr/pAAAAAwOCW+kAAAAAgT/T5QAAAAKDxnflAAAAAwMjZ+UAAAAAAZd75QAAAAEDZE/pAAAAAINvg+UAAAAAAC935QA==\"},\"shape\":[110],\"dtype\":\"float64\",\"order\":\"little\"}],[\"Low\",{\"type\":\"ndarray\",\"array\":{\"type\":\"bytes\",\"data\":\"AAAAoM9z90AAAADAuED3QAAAAGDNzPZAAAAAgD8y90AAAADAqov3QAAAAGBPKPdAAAAAgFVh90AAAABAZ0L3QAAAAOC7TvZAAAAAwIP/9EAAAABgPg30QAAAAGCPTPRAAAAAoI4a80AAAADAI3X0QAAAAGADw/RAAAAA4JTF9EAAAADgk+fzQAAAAGC8FvVAAAAAQMJy9UAAAADg2q70QAAAAMD3z/RAAAAAwEeL80AAAACAyebyQAAAAAAEtfJAAAAAALSv80AAAACgvYPzQAAAAADZufNAAAAAgHlr9EAAAACAHgb0QAAAAIDCI/RAAAAA4L/R80AAAACgmyj0QAAAACDza/RAAAAAIDFO9EAAAACArG30QAAAAKAudfRAAAAAIFPi9EAAAABAoRT1QAAAAEBX9vRAAAAAAN/09EAAAABAWmb0QAAAAEAi7vNAAAAAAFTq80AAAABA3tjzQAAAAMDVH/RAAAAAoHga9EAAAACgIdjzQAAAAABs8PNAAAAAwJsc9EAAAADgm9LyQAAAAOBKLPJAAAAAYGCa8kAAAADA2jXyQAAAACCCJ/NAAAAAIIVF80AAAAAAFjX0QAAAACAwRfRAAAAAQKpu9EAAAAAg7Wj0QAAAAODJSfRAAAAAAFxy9EAAAAAgrpT0QAAAAGAXmPRAAAAAgI2A9EAAAABgfcn0QAAAAIDIQvVAAAAAYK9z9kAAAABgC2P2QAAAAIAprvZAAAAAAHTu9kAAAABgFt72QAAAAODMq/ZAAAAAIErm9kAAAABAOrP2QAAAACCa/PZAAAAAIH+H90AAAACg1GT3QAAAAODW/fZAAAAAQOTX9kAAAADAfc32QAAAAGBVZfdAAAAAAB6p90AAAACAcfz4QAAAAMDnGvlAAAAA4Es8+UAAAACA5pz4QAAAAICxyPhAAAAAwKQN+UAAAAAADcT4QAAAAKAXLvlAAAAA4DIQ+UAAAACgaS75QAAAAAAL7vhAAAAAQOhw+UAAAADA8+j5QAAAACBRrvpAAAAA4JQV+kAAAACg9Bj6QAAAAAC2C/pAAAAAQPqL+kAAAADgmEX6QAAAAODOE/pAAAAAYOa5+UAAAACgXFD5QAAAAOABLvlAAAAAQC9Z+UAAAADA+FL5QAAAAICNnflAAAAAQIty+UAAAAAgToX4QA==\"},\"shape\":[110],\"dtype\":\"float64\",\"order\":\"little\"}],[\"Close\",{\"type\":\"ndarray\",\"array\":{\"type\":\"bytes\",\"data\":\"AAAAgPB690AAAAAg1mH3QAAAAMA4U/dAAAAAwLmX90AAAAAA3wH4QAAAAMDYd/dAAAAAIByU90AAAADAHoH3QAAAAMCiUfZAAAAAwAKq9UAAAABgsJf0QAAAAKADrvRAAAAAIFCZ9EAAAACg/gD1QAAAAKCFAvdAAAAAwBoD9UAAAAAgY0v1QAAAAAD5H/ZAAAAAoJv29UAAAADAai31QAAAAICpCPVAAAAAoJCt80AAAAAAQCzzQAAAAGDjOvRAAAAAwKVw9EAAAABAq8rzQAAAAKARgPRAAAAAwHGX9EAAAAAAOyn0QAAAAAC7hvRAAAAAAOgx9EAAAACgYzT1QAAAACBzjPRAAAAA4LOE9EAAAADAh3f0QAAAAABmAvVAAAAAoK5c9UAAAABA+1r1QAAAACBON/VAAAAAoJFI9UAAAABgEpj0QAAAAGBZKvRAAAAAYOgZ9EAAAACgTif0QAAAAMASy/RAAAAAYFsj9EAAAABA7Un0QAAAAOA8ePRAAAAAwAxj9EAAAADAZxjzQAAAAGA1WPNAAAAAQP+e8kAAAABA3yj0QAAAAECicPNAAAAAYM1c9EAAAADAcdL0QAAAAKBPbvRAAAAAQOaj9EAAAADgT230QAAAAOAdhPRAAAAAAPy59EAAAADgLJ70QAAAAKB2xPRAAAAA4GTL9EAAAACA7l31QAAAAEAe0PZAAAAAwDHg9kAAAADAfO/2QAAAAAAIIPdAAAAA4G4b90AAAACAreP2QAAAAAAsMPdAAAAAoMwE90AAAAAA9f/2QAAAAGDFjvdAAAAAIOGo90AAAADAPGn3QAAAAKC/BvdAAAAA4MAh90AAAACgJ6L3QAAAACCFsPdAAAAAYJc0+UAAAACgrSP5QAAAAECFj/lAAAAAwKVq+UAAAABAzxn5QAAAAACdbvlAAAAAoDZH+UAAAABAClT5QAAAAKAURPlAAAAAYHEx+UAAAAAg4Pz5QAAAAOBiyPlAAAAAYHES+kAAAABA4cb6QAAAAICUQ/tAAAAAwHwx+kAAAACA8lD6QAAAAEC2nvpAAAAA4AW4+kAAAABAKpz6QAAAAEClUfpAAAAAIJzK+UAAAAAg6WP5QAAAAIDhi/lAAAAAoEHL+UAAAACAmNn5QAAAAICHvflAAAAAwL+R+UAAAABAf8z4QA==\"},\"shape\":[110],\"dtype\":\"float64\",\"order\":\"little\"}],[\"Volume\",{\"type\":\"ndarray\",\"array\":[16536755396,27336550690,37325720482,28990872862,31668022771,49608706470,18353824477,16999478976,44046480529,92139104128,64597492134,52659591954,83610570576,29190628396,58398341092,70072228536,68095241474,50498988027,47749810486,65945677657,18206118081,30899345977,54061099422,54702837196,40353484454,31412940153,29588112414,13650491277,21330270174,25092785558,24095774594,34931960257,29028988961,19030452299,9863214091,12594615537,34582604933,30005840049,26704046038,24413471941,34198619509,16969396135,14763760943,29004228247,28175650319,47584398470,36852112080,45157640207,14380803631,36294853736,91262424987,48314590749,84213627038,44718000633,41656778779,24258059104,28796984817,34090769777,28040322885,29617804112,21276866029,12728372364,15259300427,14664050812,41396190190,55899038456,41719568821,31483175315,40915232364,17612825123,18090367764,32363449569,25806129921,28344679831,32875889623,26421924677,15775154889,18198688416,25816260327,26551275827,76983822462,69895404397,58198593958,42276713994,46285517406,63250475404,52608876410,45956071155,50408241840,44386499364,37898552742,49887082058,61761126647,36515726122,78086364051,70157575642,67548133399,45903627163,47518041841,45950461571,57450176272,49155377493,56022752042,57655287183,38997843858,37397056873,45819706290,46196508367,44544857105,57479298400],\"shape\":[110],\"dtype\":\"object\",\"order\":\"little\"}],[\"datetime\",{\"type\":\"ndarray\",\"array\":{\"type\":\"bytes\",\"data\":\"AABA4MBQeUIAAABGE1F5QgAAwKtlUXlCAACAEbhReUIAAEB3ClJ5QgAAAN1cUnlCAADAQq9SeUIAAICoAVN5QgAAQA5UU3lCAAAAdKZTeUIAAMDZ+FN5QgAAgD9LVHlCAABApZ1UeUIAAAAL8FR5QgAAwHBCVXlCAACA1pRVeUIAAEA851V5QgAAAKI5VnlCAADAB4xWeUIAAIBt3lZ5QgAAQNMwV3lCAAAAOYNXeUIAAMCe1Vd5QgAAgAQoWHlCAABAanpYeUIAAADQzFh5QgAAwDUfWXlCAACAm3FZeUIAAEABxFl5QgAAAGcWWnlCAADAzGhaeUIAAIAyu1p5QgAAQJgNW3lCAAAA/l9beUIAAMBjslt5QgAAgMkEXHlCAABAL1dceUIAAACVqVx5QgAAwPr7XHlCAACAYE5deUIAAEDGoF15QgAAACzzXXlCAADAkUVeeUIAAID3l155QgAAQF3qXnlCAAAAwzxfeUIAAMAoj195QgAAgI7hX3lCAABA9DNgeUIAAABahmB5QgAAwL/YYHlCAACAJStheUIAAECLfWF5QgAAAPHPYXlCAADAViJieUIAAIC8dGJ5QgAAQCLHYnlCAAAAiBljeUIAAMDta2N5QgAAgFO+Y3lCAABAuRBkeUIAAAAfY2R5QgAAwIS1ZHlCAACA6gdleUIAAEBQWmV5QgAAALasZXlCAADAG/9leUIAAICBUWZ5QgAAQOejZnlCAAAATfZmeUIAAMCySGd5QgAAgBibZ3lCAABAfu1neUIAAADkP2h5QgAAwEmSaHlCAACAr+RoeUIAAEAVN2l5QgAAAHuJaXlCAADA4NtpeUIAAIBGLmp5QgAAQKyAanlCAAAAEtNqeUIAAMB3JWt5QgAAgN13a3lCAABAQ8preUIAAACpHGx5QgAAwA5vbHlCAACAdMFseUIAAEDaE215QgAAAEBmbXlCAADApbhteUIAAIALC255QgAAQHFdbnlCAAAA169ueUIAAMA8Am95QgAAgKJUb3lCAABACKdveUIAAABu+W95QgAAwNNLcHlCAACAOZ5weUIAAECf8HB5QgAAAAVDcXlCAADAapVxeUIAAIDQ53F5QgAAQDY6cnlCAAAAnIxyeUIAAMAB33J5QgAAgGcxc3lCAABAzYNzeUIAAAAz1nN5Qg==\"},\"shape\":[110],\"dtype\":\"float64\",\"order\":\"little\"}],[\"inc\",{\"type\":\"ndarray\",\"array\":[\"0\",\"0\",\"0\",\"1\",\"1\",\"0\",\"1\",\"0\",\"0\",\"0\",\"0\",\"1\",\"0\",\"1\",\"1\",\"0\",\"1\",\"1\",\"0\",\"0\",\"0\",\"0\",\"0\",\"1\",\"1\",\"0\",\"1\",\"1\",\"0\",\"1\",\"0\",\"1\",\"0\",\"0\",\"0\",\"1\",\"1\",\"0\",\"0\",\"1\",\"0\",\"0\",\"0\",\"1\",\"1\",\"0\",\"1\",\"1\",\"0\",\"0\",\"1\",\"0\",\"1\",\"0\",\"1\",\"1\",\"0\",\"1\",\"0\",\"1\",\"1\",\"0\",\"1\",\"1\",\"1\",\"1\",\"1\",\"1\",\"1\",\"0\",\"0\",\"1\",\"0\",\"0\",\"1\",\"1\",\"0\",\"0\",\"1\",\"1\",\"1\",\"1\",\"0\",\"1\",\"0\",\"0\",\"1\",\"0\",\"1\",\"0\",\"0\",\"1\",\"0\",\"1\",\"1\",\"1\",\"0\",\"1\",\"1\",\"1\",\"0\",\"0\",\"0\",\"0\",\"1\",\"1\",\"1\",\"0\",\"0\",\"0\"],\"shape\":[110],\"dtype\":\"object\",\"order\":\"little\"}],[\"SMA(C,19)_0_0\",{\"type\":\"ndarray\",\"array\":{\"type\":\"bytes\",\"data\":\"AAAAAAAA+H8AAAAAAAD4fwAAAAAAAPh/AAAAAAAA+H8AAAAAAAD4fwAAAAAAAPh/AAAAAAAA+H8AAAAAAAD4fwAAAAAAAPh/AAAAAAAA+H8AAAAAAAD4fwAAAAAAAPh/AAAAAAAA+H8AAAAAAAD4fwAAAAAAAPh/AAAAAAAA+H8AAAAAAAD4fwAAAAAAAPh/vYbyevFY9kA2lNdw6jn2QBvKa2hGGvZAKK+hnCLp9UDlNZR3la31QEN5DaWwevVAvYby2uNR9UCH8hrq3R71QHkN5fVj9vRA2FBeAx7f9EC9hvKa3cr0QCivoRz5yfRA8xrK63DD9ECU11Bemsv0QA3lNRR4xfRAXkN5Teaj9EBRXkO5jZz0QPMayku2mPRA2FBeA2+O9ECvobwmPob0QGwor2HDhvRANpTXcCCK9EAor6EceJb0QNhQXsPXo/RAQ3kNZRui9EC9hvI6P570QDaU1/C9q/RAQ3kNxdym9ECivIZSyKL0QOU1lNfwpvRA5TWUFxCl9EAor6E8P5b0QA3lNVQvffRADeU1tDZj9EAbymtoYV70QFFeQzmLUPRAG8prCNRH9EB5DeV1jUD0QNhQXqMYNPRAh/IailYs9EDlNZRXzCD0QFFeQ3m/H/RAQ3kNxU4n9ECvobzmRC70QAAAAGCKNvRAoryGso429EBeQ3ktHUf0QGwor8EfafRAeQ3l9YqJ9ECivIay4av0QAAAAIAt4vRAymsor98U9UCU11AeYk71QNhQXkMwd/VA2FBeY2in9UB5DeU18cr1QDaU1zDN7/VAKK+hHE4b9kBsKK+Bo0D2QNhQXmOpY/ZAKK+h3OeG9kAN5TWUEq72QIfyGop11/ZAlNdQXkET90DKayjvy033QGworyFNhvdAKK+hvGGp90BeQ3mNXMf3QMprKO//6PdA2FBeYwIG+ECU11Ce7yP4QPMaygv1Q/hAoryGsvhe+EBRXkO5+Yb4QEN5DcV4rPhAr6G8ZlnO+EAbymtoWfj4QA3lNRRDLPlA5TWUt+5W+UBsKK9h1oH5QBvKa8gTqvlAh/IaquTS+UCivIZy0eX5QMprKA+29flAeQ3lNdL4+UA2lNdwd/j5QK+hvGZ4/vlAQ3kNpVgD+kAN5TX0DAv6QBvKa0iaEPpA2FBew7AU+kCvobymYA/6QA==\"},\"shape\":[110],\"dtype\":\"float64\",\"order\":\"little\"}],[\"SMA(C,57)_1_0\",{\"type\":\"ndarray\",\"array\":{\"type\":\"bytes\",\"data\":\"AAAAAAAA+H8AAAAAAAD4fwAAAAAAAPh/AAAAAAAA+H8AAAAAAAD4fwAAAAAAAPh/AAAAAAAA+H8AAAAAAAD4fwAAAAAAAPh/AAAAAAAA+H8AAAAAAAD4fwAAAAAAAPh/AAAAAAAA+H8AAAAAAAD4fwAAAAAAAPh/AAAAAAAA+H8AAAAAAAD4fwAAAAAAAPh/AAAAAAAA+H8AAAAAAAD4fwAAAAAAAPh/AAAAAAAA+H8AAAAAAAD4fwAAAAAAAPh/AAAAAAAA+H8AAAAAAAD4fwAAAAAAAPh/AAAAAAAA+H8AAAAAAAD4fwAAAAAAAPh/AAAAAAAA+H8AAAAAAAD4fwAAAAAAAPh/AAAAAAAA+H8AAAAAAAD4fwAAAAAAAPh/AAAAAAAA+H8AAAAAAAD4fwAAAAAAAPh/AAAAAAAA+H8AAAAAAAD4fwAAAAAAAPh/AAAAAAAA+H8AAAAAAAD4fwAAAAAAAPh/AAAAAAAA+H8AAAAAAAD4fwAAAAAAAPh/AAAAAAAA+H8AAAAAAAD4fwAAAAAAAPh/AAAAAAAA+H8AAAAAAAD4fwAAAAAAAPh/AAAAAAAA+H8AAAAAAAD4fxbTWWxtBvVAuI/gHqz59EBnMZ1lZuz0QOE+grvI3/RAVVVVVenS9EAS3EdQsMP0QNNZTCePt/RAymsoLw6r9EC0mM6idKH0QKK8hrKso/RAXkN5zR2p9ECQ4D6io7P0QAnuIzifvvRAJLiPIOPJ9EDlNZT3WtL0QHAfwf0n0/RAKK+hHCvc9EAtprPY0+P0QC2mszhD6vRAkOA+ouHx9EDKayjP6fv0QFFeQ7ncBPVANpTX0F8U9UC4j+BeaCj1QH4E9/HxN/VAcB/B/VhN9UCL6SyGXWX1QFpMZ7EXfPVAZzGdRcOR9UA/gvvI8qf1QHAfwT37vfVAVVVVtc/U9UAkuI/gVOf1QNxHcJ+E/PVAMZ3FdIMR9kAor6EcTyr2QJ3FdFa/P/ZAymsor+ZU9kBeQ3kNQG32QFVVVbVpiPZANpTX0Hae9kD3EdznKbj2QM9iOgsn1fZA6iyms9/y9kAS3EcQ3w/3QL2G8jqwKPdAFtNZLBRC90BDeQ2l/Vj3QNhQXqPKb/dAOovpbBOI90BMZzGdaab3QH4E9zEjw/dAdRbT+Vfi90C4j+DeLff3QA==\"},\"shape\":[110],\"dtype\":\"float64\",\"order\":\"little\"}],[\"ohlc_low\",{\"type\":\"ndarray\",\"array\":{\"type\":\"bytes\",\"data\":\"AAAAoM9z90AAAADAuED3QAAAAGDNzPZAAAAAgD8y90AAAADAqov3QAAAAGBPKPdAAAAAgFVh90AAAABAZ0L3QAAAAOC7TvZAAAAAwIP/9EAAAABgPg30QAAAAGCPTPRAAAAAoI4a80AAAADAI3X0QAAAAGADw/RAAAAA4JTF9EAAAADgk+fzQAAAAGC8FvVAAAAAQMJy9UAAAADg2q70QAAAAMD3z/RAAAAAwEeL80AAAACAyebyQAAAAAAEtfJAAAAAALSv80AAAACgvYPzQAAAAADZufNAAAAAgHlr9EAAAACAHgb0QAAAAIDCI/RAAAAA4L/R80AAAACgmyj0QAAAACDza/RAAAAAIDFO9EAAAACArG30QAAAAKAudfRA2FBeA2+O9ECvobwmPob0QGwor2HDhvRANpTXcCCK9EAAAABAWmb0QAAAAEAi7vNAAAAAAFTq80AAAABA3tjzQAAAAMDVH/RAAAAAoHga9EAAAACgIdjzQAAAAABs8PNAAAAAwJsc9EAAAADgm9LyQAAAAOBKLPJAAAAAYGCa8kAAAADA2jXyQAAAACCCJ/NAAAAAIIVF80AAAAAAFjX0QNhQXqMYNPRAh/IailYs9EDlNZRXzCD0QFFeQ3m/H/RAQ3kNxU4n9ECvobzmRC70QAAAAGCKNvRAoryGso429EBeQ3ktHUf0QGwor8EfafRAeQ3l9YqJ9ECivIay4av0QAAAAIAt4vRAymsor98U9UCU11AeYk71QNhQXkMwd/VA2FBeY2in9UB5DeU18cr1QDaU1zDN7/VAKK+hHE4b9kBsKK+Bo0D2QNhQXmOpY/ZAKK+h3OeG9kAN5TWUEq72QIfyGop11/ZAlNdQXkET90DKayjvy033QGworyFNhvdAKK+hvGGp90BeQ3mNXMf3QMprKO//6PdA2FBeYwIG+ECU11Ce7yP4QPMaygv1Q/hAoryGsvhe+EBRXkO5+Yb4QEN5DcV4rPhAr6G8ZlnO+EAbymtoWfj4QA3lNRRDLPlA5TWUt+5W+UBsKK9h1oH5QBvKa8gTqvlAh/IaquTS+UCivIZy0eX5QMprKA+29flAAAAAYOa5+UAAAACgXFD5QAAAAOABLvlAAAAAQC9Z+UAAAADA+FL5QAAAAICNnflAAAAAQIty+UAAAAAgToX4QA==\"},\"shape\":[110],\"dtype\":\"float64\",\"order\":\"little\"}],[\"ohlc_high\",{\"type\":\"ndarray\",\"array\":{\"type\":\"bytes\",\"data\":\"AAAAgNnb90AAAADAg7D3QAAAAAB2m/dAAAAAgHml90AAAAAg8xz4QAAAAICfSvhAAAAAgGKr90AAAAAA/pn3QAAAAEB3j/dAAAAAQPGV9kAAAAAAZMz1QAAAAICMPfVAAAAAIMXC9EAAAADgpB/1QAAAAAA3NPdAAAAAANwN90AAAABg9LT1QAAAAOBjN/ZAAAAAAE+o9kAAAADAcEP2QBvKa2hGGvZAKK+hnCLp9UDlNZR3la31QEN5DaWwevVAvYby2uNR9UCH8hrq3R71QHkN5fVj9vRA2FBeAx7f9EC9hvKa3cr0QCivoRz5yfRA8xrK63DD9EAAAAAA0z71QAAAAEA0WfVAAAAAYOSy9EAAAAAAHqL0QAAAAIDsBPVAAAAAoGur9UAAAABg5p31QAAAAIBCjvVAAAAAoKtu9UAAAADAHVz1QAAAAGB1pfRAQ3kNZRui9EC9hvI6P570QAAAAOD13vRAAAAAQC+Z9UCivIZSyKL0QAAAAGCCrfRA5TWUFxCl9EAor6E8P5b0QA3lNVQvffRADeU1tDZj9EAAAAAAUGX0QFFeQzmLUPRAAAAAoHeR9EAAAAAAA/b0QAAAAADz//RAAAAAAJDx9EAAAACg1Rn1QAAAAIBE2/RAAAAAIJHc9EAAAADAcMb0QAAAAEDb5fRAAAAAIKbT9EAAAACAwZj1QAAAACCW5/ZAAAAAwHsU90AAAAAgA/T2QAAAAECGYfdAAAAAwDVB90AAAABAU0T3QAAAAODnVvdAAAAAoNZP90AAAAAgFUH3QAAAAGDfyfdAAAAAYB7n90AAAAAg/qr3QAAAAMDug/dAAAAAAJM990AAAADgkqf3QAAAAOCc1fdAAAAAoBhi+UAAAADgl3b5QAAAAEAcoPlAAAAA4J+e+UAAAABAN9H5QAAAAMBWovlAAAAAAPl2+UAAAADgmW35QAAAAMBXhflAAAAAIE9S+UAAAADAUgb6QAAAAIDLI/pAAAAA4LEy+kAAAABgRwj7QAAAAMAiVvtAAAAAgG5L+0AAAABg6Lj6QAAAAOAUsPpAAAAAII7y+kAAAABggwn7QAAAAKAkr/pAAAAAwOCW+kA2lNdwd/j5QK+hvGZ4/vlAQ3kNpVgD+kAN5TX0DAv6QAAAAEDZE/pA2FBew7AU+kCvobymYA/6QA==\"},\"shape\":[110],\"dtype\":\"float64\",\"order\":\"little\"}]]}}},\"view\":{\"type\":\"object\",\"name\":\"CDSView\",\"id\":\"p1374\",\"attributes\":{\"filter\":{\"type\":\"object\",\"name\":\"AllIndices\",\"id\":\"p1375\"}}},\"glyph\":{\"type\":\"object\",\"name\":\"VBar\",\"id\":\"p1370\",\"attributes\":{\"x\":{\"type\":\"field\",\"field\":\"index\"},\"width\":{\"type\":\"value\",\"value\":0.8},\"bottom\":{\"type\":\"field\",\"field\":\"Close\"},\"top\":{\"type\":\"field\",\"field\":\"Open\"},\"fill_color\":{\"type\":\"field\",\"field\":\"inc\",\"transform\":{\"type\":\"object\",\"name\":\"CategoricalColorMapper\",\"id\":\"p1282\",\"attributes\":{\"palette\":[\"tomato\",\"lime\"],\"factors\":[\"0\",\"1\"]}}}}},\"nonselection_glyph\":{\"type\":\"object\",\"name\":\"VBar\",\"id\":\"p1371\",\"attributes\":{\"x\":{\"type\":\"field\",\"field\":\"index\"},\"width\":{\"type\":\"value\",\"value\":0.8},\"bottom\":{\"type\":\"field\",\"field\":\"Close\"},\"top\":{\"type\":\"field\",\"field\":\"Open\"},\"line_alpha\":{\"type\":\"value\",\"value\":0.1},\"fill_color\":{\"type\":\"field\",\"field\":\"inc\",\"transform\":{\"id\":\"p1282\"}},\"fill_alpha\":{\"type\":\"value\",\"value\":0.1},\"hatch_alpha\":{\"type\":\"value\",\"value\":0.1}}},\"muted_glyph\":{\"type\":\"object\",\"name\":\"VBar\",\"id\":\"p1372\",\"attributes\":{\"x\":{\"type\":\"field\",\"field\":\"index\"},\"width\":{\"type\":\"value\",\"value\":0.8},\"bottom\":{\"type\":\"field\",\"field\":\"Close\"},\"top\":{\"type\":\"field\",\"field\":\"Open\"},\"line_alpha\":{\"type\":\"value\",\"value\":0.2},\"fill_color\":{\"type\":\"field\",\"field\":\"inc\",\"transform\":{\"id\":\"p1282\"}},\"fill_alpha\":{\"type\":\"value\",\"value\":0.2},\"hatch_alpha\":{\"type\":\"value\",\"value\":0.2}}}}}],\"tooltips\":[[\"Date\",\"@datetime{%c}\"],[\"x, y\",\"$index\\u00a0\\u00a0\\u00a0\\u00a0$y{0,0.0[0000]}\"],[\"OHLC\",\"@Open{0,0.0[0000]}\\u00a0\\u00a0\\u00a0\\u00a0@High{0,0.0[0000]}\\u00a0\\u00a0\\u00a0\\u00a0@Low{0,0.0[0000]}\\u00a0\\u00a0\\u00a0\\u00a0@Close{0,0.0[0000]}\"],[\"Volume\",\"@Volume{0,0}\"],[\"SMA(C,19)\",\"@{SMA(C,19)_0_0}{0,0.0[0000]}\"]],\"formatters\":{\"type\":\"map\",\"entries\":[[\"@datetime\",\"datetime\"]]},\"mode\":\"vline\",\"point_policy\":\"follow_mouse\"}}]}},{\"type\":\"object\",\"name\":\"ToolProxy\",\"id\":\"p1449\",\"attributes\":{\"tools\":[{\"type\":\"object\",\"name\":\"HoverTool\",\"id\":\"p1332\",\"attributes\":{\"renderers\":[{\"type\":\"object\",\"name\":\"GlyphRenderer\",\"id\":\"p1329\",\"attributes\":{\"data_source\":{\"id\":\"p1276\"},\"view\":{\"type\":\"object\",\"name\":\"CDSView\",\"id\":\"p1330\",\"attributes\":{\"filter\":{\"type\":\"object\",\"name\":\"AllIndices\",\"id\":\"p1331\"}}},\"glyph\":{\"type\":\"object\",\"name\":\"VBar\",\"id\":\"p1326\",\"attributes\":{\"x\":{\"type\":\"field\",\"field\":\"index\"},\"width\":{\"type\":\"value\",\"value\":0.8},\"top\":{\"type\":\"field\",\"field\":\"Volume\"},\"line_color\":{\"type\":\"field\",\"field\":\"inc\",\"transform\":{\"id\":\"p1282\"}},\"fill_color\":{\"type\":\"field\",\"field\":\"inc\",\"transform\":{\"id\":\"p1282\"}},\"hatch_color\":{\"type\":\"field\",\"field\":\"inc\",\"transform\":{\"id\":\"p1282\"}}}},\"nonselection_glyph\":{\"type\":\"object\",\"name\":\"VBar\",\"id\":\"p1327\",\"attributes\":{\"x\":{\"type\":\"field\",\"field\":\"index\"},\"width\":{\"type\":\"value\",\"value\":0.8},\"top\":{\"type\":\"field\",\"field\":\"Volume\"},\"line_color\":{\"type\":\"field\",\"field\":\"inc\",\"transform\":{\"id\":\"p1282\"}},\"line_alpha\":{\"type\":\"value\",\"value\":0.1},\"fill_color\":{\"type\":\"field\",\"field\":\"inc\",\"transform\":{\"id\":\"p1282\"}},\"fill_alpha\":{\"type\":\"value\",\"value\":0.1},\"hatch_color\":{\"type\":\"field\",\"field\":\"inc\",\"transform\":{\"id\":\"p1282\"}},\"hatch_alpha\":{\"type\":\"value\",\"value\":0.1}}},\"muted_glyph\":{\"type\":\"object\",\"name\":\"VBar\",\"id\":\"p1328\",\"attributes\":{\"x\":{\"type\":\"field\",\"field\":\"index\"},\"width\":{\"type\":\"value\",\"value\":0.8},\"top\":{\"type\":\"field\",\"field\":\"Volume\"},\"line_color\":{\"type\":\"field\",\"field\":\"inc\",\"transform\":{\"id\":\"p1282\"}},\"line_alpha\":{\"type\":\"value\",\"value\":0.2},\"fill_color\":{\"type\":\"field\",\"field\":\"inc\",\"transform\":{\"id\":\"p1282\"}},\"fill_alpha\":{\"type\":\"value\",\"value\":0.2},\"hatch_color\":{\"type\":\"field\",\"field\":\"inc\",\"transform\":{\"id\":\"p1282\"}},\"hatch_alpha\":{\"type\":\"value\",\"value\":0.2}}}}}],\"tooltips\":[[\"Date\",\"@datetime{%c}\"],[\"Volume\",\"@Volume{0.00 a}\"]],\"formatters\":{\"type\":\"map\",\"entries\":[[\"@datetime\",\"datetime\"]]},\"mode\":\"vline\",\"point_policy\":\"follow_mouse\"}}]}},{\"type\":\"object\",\"name\":\"ToolProxy\",\"id\":\"p1450\",\"attributes\":{\"tools\":[{\"type\":\"object\",\"name\":\"HoverTool\",\"id\":\"p1433\",\"attributes\":{\"renderers\":[{\"type\":\"object\",\"name\":\"GlyphRenderer\",\"id\":\"p1428\",\"attributes\":{\"data_source\":{\"id\":\"p1276\"},\"view\":{\"type\":\"object\",\"name\":\"CDSView\",\"id\":\"p1429\",\"attributes\":{\"filter\":{\"type\":\"object\",\"name\":\"AllIndices\",\"id\":\"p1430\"}}},\"glyph\":{\"type\":\"object\",\"name\":\"Line\",\"id\":\"p1425\",\"attributes\":{\"x\":{\"type\":\"field\",\"field\":\"index\"},\"y\":{\"type\":\"field\",\"field\":\"SMA(C,57)_1_0\"},\"line_color\":\"#1f77b4\",\"line_width\":1.3}},\"nonselection_glyph\":{\"type\":\"object\",\"name\":\"Line\",\"id\":\"p1426\",\"attributes\":{\"x\":{\"type\":\"field\",\"field\":\"index\"},\"y\":{\"type\":\"field\",\"field\":\"SMA(C,57)_1_0\"},\"line_color\":\"#1f77b4\",\"line_alpha\":0.1,\"line_width\":1.3}},\"muted_glyph\":{\"type\":\"object\",\"name\":\"Line\",\"id\":\"p1427\",\"attributes\":{\"x\":{\"type\":\"field\",\"field\":\"index\"},\"y\":{\"type\":\"field\",\"field\":\"SMA(C,57)_1_0\"},\"line_color\":\"#1f77b4\",\"line_alpha\":0.2,\"line_width\":1.3}}}}],\"tooltips\":[[\"Date\",\"@datetime{%c}\"],[\"SMA(C,57)\",\"@{SMA(C,57)_1_0}{0,0.0[0000]}\"]],\"formatters\":{\"type\":\"map\",\"entries\":[[\"@datetime\",\"datetime\"]]},\"mode\":\"vline\",\"point_policy\":\"follow_mouse\"}}]}},{\"type\":\"object\",\"name\":\"ToolProxy\",\"id\":\"p1451\",\"attributes\":{\"tools\":[{\"type\":\"object\",\"name\":\"CrosshairTool\",\"id\":\"p1439\",\"attributes\":{\"overlay\":[{\"type\":\"object\",\"name\":\"Span\",\"id\":\"p1437\",\"attributes\":{\"line_dash\":[2,4]}},{\"type\":\"object\",\"name\":\"Span\",\"id\":\"p1438\",\"attributes\":{\"dimension\":\"height\",\"line_dash\":[2,4]}}],\"line_color\":\"lightgrey\"}},{\"id\":\"p1439\"},{\"id\":\"p1439\"}]}}],\"logo\":null,\"active_drag\":{\"id\":\"p1440\"},\"active_scroll\":{\"id\":\"p1441\"}}},\"toolbar_location\":\"right\",\"children\":[[{\"type\":\"object\",\"name\":\"Figure\",\"id\":\"p1240\",\"attributes\":{\"width\":null,\"height\":400,\"sizing_mode\":\"stretch_width\",\"x_range\":{\"type\":\"object\",\"name\":\"Range1d\",\"id\":\"p1239\",\"attributes\":{\"js_property_callbacks\":{\"type\":\"map\",\"entries\":[[\"change:end\",[{\"type\":\"object\",\"name\":\"CustomJS\",\"id\":\"p1436\",\"attributes\":{\"args\":{\"type\":\"map\",\"entries\":[[\"ohlc_range\",{\"type\":\"object\",\"name\":\"DataRange1d\",\"id\":\"p1242\"}],[\"source\",{\"id\":\"p1276\"}],[\"volume_range\",{\"type\":\"object\",\"name\":\"DataRange1d\",\"id\":\"p1289\"}]]},\"code\":\"if (!window._bt_scale_range) {\\n    window._bt_scale_range = function (range, min, max, pad) {\\n        \\\"use strict\\\";\\n        if (min !== Infinity && max !== -Infinity) {\\n            pad = pad ? (max - min) * .03 : 0;\\n            range.start = min - pad;\\n            range.end = max + pad;\\n        } else console.error('backtesting: scale range error:', min, max, range);\\n    };\\n}\\n\\nclearTimeout(window._bt_autoscale_timeout);\\n\\nwindow._bt_autoscale_timeout = setTimeout(function () {\\n    /**\\n     * @variable cb_obj `fig_ohlc.x_range`.\\n     * @variable source `ColumnDataSource`\\n     * @variable ohlc_range `fig_ohlc.y_range`.\\n     * @variable volume_range `fig_volume.y_range`.\\n     */\\n    \\\"use strict\\\";\\n\\n    let i = Math.max(Math.floor(cb_obj.start), 0),\\n        j = Math.min(Math.ceil(cb_obj.end), source.data['ohlc_high'].length);\\n\\n    let max = Math.max.apply(null, source.data['ohlc_high'].slice(i, j)),\\n        min = Math.min.apply(null, source.data['ohlc_low'].slice(i, j));\\n    _bt_scale_range(ohlc_range, min, max, true);\\n\\n    if (volume_range) {\\n        max = Math.max.apply(null, source.data['Volume'].slice(i, j));\\n        _bt_scale_range(volume_range, 0, max * 1.03, false);\\n    }\\n\\n}, 50);\\n\"}}]]]},\"end\":109,\"bounds\":[-5.45,114.45],\"min_interval\":10}},\"y_range\":{\"id\":\"p1242\"},\"x_scale\":{\"type\":\"object\",\"name\":\"LinearScale\",\"id\":\"p1249\"},\"y_scale\":{\"type\":\"object\",\"name\":\"LinearScale\",\"id\":\"p1250\"},\"title\":{\"type\":\"object\",\"name\":\"Title\",\"id\":\"p1247\"},\"outline_line_color\":\"#666666\",\"renderers\":[{\"type\":\"object\",\"name\":\"GlyphRenderer\",\"id\":\"p1343\",\"attributes\":{\"data_source\":{\"type\":\"object\",\"name\":\"ColumnDataSource\",\"id\":\"p1334\",\"attributes\":{\"selected\":{\"type\":\"object\",\"name\":\"Selection\",\"id\":\"p1335\",\"attributes\":{\"indices\":[],\"line_indices\":[]}},\"selection_policy\":{\"type\":\"object\",\"name\":\"UnionRenderers\",\"id\":\"p1336\"},\"data\":{\"type\":\"map\",\"entries\":[[\"index\",{\"type\":\"ndarray\",\"array\":{\"type\":\"bytes\",\"data\":\"AAAAAAAAGEAAAAAAAAA8QAAAAAAAQE1AAAAAAABAVkAAAAAAAMBaQA==\"},\"shape\":[5],\"dtype\":\"float64\",\"order\":\"little\"}],[\"Open\",{\"type\":\"ndarray\",\"array\":{\"type\":\"bytes\",\"data\":\"AAAA4MfS90AAAADgXZn0QAAAAMB+J/RAAAAAwE0A90AAAADA1Iv5QA==\"},\"shape\":[5],\"dtype\":\"float64\",\"order\":\"little\"}],[\"High\",{\"type\":\"ndarray\",\"array\":{\"type\":\"bytes\",\"data\":\"AAAAgJ9K+EAAAAAANzT3QAAAAECGYfdAAAAAwCJW+0AAAABA2RP6QA==\"},\"shape\":[5],\"dtype\":\"float64\",\"order\":\"little\"}],[\"Low\",{\"type\":\"ndarray\",\"array\":{\"type\":\"bytes\",\"data\":\"AAAAoI4a80AAAAAABLXyQAAAAOBKLPJAAAAAwH3N9kAAAAAgToX4QA==\"},\"shape\":[5],\"dtype\":\"float64\",\"order\":\"little\"}],[\"Close\",{\"type\":\"ndarray\",\"array\":{\"type\":\"bytes\",\"data\":\"AAAAIFCZ9EAAAACgTif0QAAAAAD1//ZAAAAAgOGL+UAAAABAf8z4QA==\"},\"shape\":[5],\"dtype\":\"float64\",\"order\":\"little\"}],[\"Volume\",{\"type\":\"ndarray\",\"array\":[563873171445,1049435373908,1060974068310,1496397538233,231437427035],\"shape\":[5],\"dtype\":\"object\",\"order\":\"little\"}],[\"_width\",{\"type\":\"ndarray\",\"array\":{\"type\":\"bytes\",\"data\":\"zczMzMzMKUBmZmZmZuY+QGZmZmZm5j1AZmZmZmbmPkCamZmZmZkTQA==\"},\"shape\":[5],\"dtype\":\"float64\",\"order\":\"little\"}],[\"inc\",{\"type\":\"ndarray\",\"array\":[\"0\",\"0\",\"1\",\"1\",\"0\"],\"shape\":[5],\"dtype\":\"object\",\"order\":\"little\"}]]}}},\"view\":{\"type\":\"object\",\"name\":\"CDSView\",\"id\":\"p1344\",\"attributes\":{\"filter\":{\"type\":\"object\",\"name\":\"AllIndices\",\"id\":\"p1345\"}}},\"glyph\":{\"type\":\"object\",\"name\":\"Segment\",\"id\":\"p1340\",\"attributes\":{\"x0\":{\"type\":\"field\",\"field\":\"index\"},\"y0\":{\"type\":\"field\",\"field\":\"High\"},\"x1\":{\"type\":\"field\",\"field\":\"index\"},\"y1\":{\"type\":\"field\",\"field\":\"Low\"},\"line_color\":{\"type\":\"value\",\"value\":\"#bbbbbb\"}}},\"nonselection_glyph\":{\"type\":\"object\",\"name\":\"Segment\",\"id\":\"p1341\",\"attributes\":{\"x0\":{\"type\":\"field\",\"field\":\"index\"},\"y0\":{\"type\":\"field\",\"field\":\"High\"},\"x1\":{\"type\":\"field\",\"field\":\"index\"},\"y1\":{\"type\":\"field\",\"field\":\"Low\"},\"line_color\":{\"type\":\"value\",\"value\":\"#bbbbbb\"},\"line_alpha\":{\"type\":\"value\",\"value\":0.1}}},\"muted_glyph\":{\"type\":\"object\",\"name\":\"Segment\",\"id\":\"p1342\",\"attributes\":{\"x0\":{\"type\":\"field\",\"field\":\"index\"},\"y0\":{\"type\":\"field\",\"field\":\"High\"},\"x1\":{\"type\":\"field\",\"field\":\"index\"},\"y1\":{\"type\":\"field\",\"field\":\"Low\"},\"line_color\":{\"type\":\"value\",\"value\":\"#bbbbbb\"},\"line_alpha\":{\"type\":\"value\",\"value\":0.2}}}}},{\"type\":\"object\",\"name\":\"GlyphRenderer\",\"id\":\"p1353\",\"attributes\":{\"data_source\":{\"id\":\"p1334\"},\"view\":{\"type\":\"object\",\"name\":\"CDSView\",\"id\":\"p1354\",\"attributes\":{\"filter\":{\"type\":\"object\",\"name\":\"AllIndices\",\"id\":\"p1355\"}}},\"glyph\":{\"type\":\"object\",\"name\":\"VBar\",\"id\":\"p1350\",\"attributes\":{\"x\":{\"type\":\"field\",\"field\":\"index\"},\"width\":{\"type\":\"field\",\"field\":\"_width\"},\"bottom\":{\"type\":\"field\",\"field\":\"Close\"},\"top\":{\"type\":\"field\",\"field\":\"Open\"},\"line_color\":{\"type\":\"value\",\"value\":null},\"fill_color\":{\"type\":\"field\",\"field\":\"inc\",\"transform\":{\"type\":\"object\",\"name\":\"CategoricalColorMapper\",\"id\":\"p1346\",\"attributes\":{\"palette\":[\"rgb(254, 220, 214)\",\"rgb(214, 254, 214)\"],\"factors\":[\"0\",\"1\"]}}}}},\"nonselection_glyph\":{\"type\":\"object\",\"name\":\"VBar\",\"id\":\"p1351\",\"attributes\":{\"x\":{\"type\":\"field\",\"field\":\"index\"},\"width\":{\"type\":\"field\",\"field\":\"_width\"},\"bottom\":{\"type\":\"field\",\"field\":\"Close\"},\"top\":{\"type\":\"field\",\"field\":\"Open\"},\"line_color\":{\"type\":\"value\",\"value\":null},\"line_alpha\":{\"type\":\"value\",\"value\":0.1},\"fill_color\":{\"type\":\"field\",\"field\":\"inc\",\"transform\":{\"id\":\"p1346\"}},\"fill_alpha\":{\"type\":\"value\",\"value\":0.1},\"hatch_alpha\":{\"type\":\"value\",\"value\":0.1}}},\"muted_glyph\":{\"type\":\"object\",\"name\":\"VBar\",\"id\":\"p1352\",\"attributes\":{\"x\":{\"type\":\"field\",\"field\":\"index\"},\"width\":{\"type\":\"field\",\"field\":\"_width\"},\"bottom\":{\"type\":\"field\",\"field\":\"Close\"},\"top\":{\"type\":\"field\",\"field\":\"Open\"},\"line_color\":{\"type\":\"value\",\"value\":null},\"line_alpha\":{\"type\":\"value\",\"value\":0.2},\"fill_color\":{\"type\":\"field\",\"field\":\"inc\",\"transform\":{\"id\":\"p1346\"}},\"fill_alpha\":{\"type\":\"value\",\"value\":0.2},\"hatch_alpha\":{\"type\":\"value\",\"value\":0.2}}}}},{\"type\":\"object\",\"name\":\"GlyphRenderer\",\"id\":\"p1362\",\"attributes\":{\"data_source\":{\"id\":\"p1276\"},\"view\":{\"type\":\"object\",\"name\":\"CDSView\",\"id\":\"p1363\",\"attributes\":{\"filter\":{\"type\":\"object\",\"name\":\"AllIndices\",\"id\":\"p1364\"}}},\"glyph\":{\"type\":\"object\",\"name\":\"Segment\",\"id\":\"p1359\",\"attributes\":{\"x0\":{\"type\":\"field\",\"field\":\"index\"},\"y0\":{\"type\":\"field\",\"field\":\"High\"},\"x1\":{\"type\":\"field\",\"field\":\"index\"},\"y1\":{\"type\":\"field\",\"field\":\"Low\"}}},\"nonselection_glyph\":{\"type\":\"object\",\"name\":\"Segment\",\"id\":\"p1360\",\"attributes\":{\"x0\":{\"type\":\"field\",\"field\":\"index\"},\"y0\":{\"type\":\"field\",\"field\":\"High\"},\"x1\":{\"type\":\"field\",\"field\":\"index\"},\"y1\":{\"type\":\"field\",\"field\":\"Low\"},\"line_alpha\":{\"type\":\"value\",\"value\":0.1}}},\"muted_glyph\":{\"type\":\"object\",\"name\":\"Segment\",\"id\":\"p1361\",\"attributes\":{\"x0\":{\"type\":\"field\",\"field\":\"index\"},\"y0\":{\"type\":\"field\",\"field\":\"High\"},\"x1\":{\"type\":\"field\",\"field\":\"index\"},\"y1\":{\"type\":\"field\",\"field\":\"Low\"},\"line_alpha\":{\"type\":\"value\",\"value\":0.2}}}}},{\"id\":\"p1373\"},{\"type\":\"object\",\"name\":\"GlyphRenderer\",\"id\":\"p1382\",\"attributes\":{\"data_source\":{\"id\":\"p1276\"},\"view\":{\"type\":\"object\",\"name\":\"CDSView\",\"id\":\"p1383\",\"attributes\":{\"filter\":{\"type\":\"object\",\"name\":\"AllIndices\",\"id\":\"p1384\"}}},\"glyph\":{\"type\":\"object\",\"name\":\"Line\",\"id\":\"p1379\",\"attributes\":{\"x\":{\"type\":\"field\",\"field\":\"index\"},\"y\":{\"type\":\"field\",\"field\":\"SMA(C,19)_0_0\"},\"line_color\":\"#1f77b4\",\"line_width\":1.3}},\"nonselection_glyph\":{\"type\":\"object\",\"name\":\"Line\",\"id\":\"p1380\",\"attributes\":{\"x\":{\"type\":\"field\",\"field\":\"index\"},\"y\":{\"type\":\"field\",\"field\":\"SMA(C,19)_0_0\"},\"line_color\":\"#1f77b4\",\"line_alpha\":0.1,\"line_width\":1.3}},\"muted_glyph\":{\"type\":\"object\",\"name\":\"Line\",\"id\":\"p1381\",\"attributes\":{\"x\":{\"type\":\"field\",\"field\":\"index\"},\"y\":{\"type\":\"field\",\"field\":\"SMA(C,19)_0_0\"},\"line_color\":\"#1f77b4\",\"line_alpha\":0.2,\"line_width\":1.3}}}}],\"toolbar\":{\"type\":\"object\",\"name\":\"Toolbar\",\"id\":\"p1248\",\"attributes\":{\"tools\":[{\"id\":\"p1261\"},{\"id\":\"p1262\"},{\"id\":\"p1263\"},{\"id\":\"p1264\"},{\"id\":\"p1272\"},{\"id\":\"p1273\"},{\"id\":\"p1274\"},{\"type\":\"object\",\"name\":\"SaveTool\",\"id\":\"p1275\"},{\"id\":\"p1435\"},{\"id\":\"p1439\"}],\"active_drag\":{\"id\":\"p1261\"},\"active_scroll\":{\"id\":\"p1262\"}}},\"toolbar_location\":null,\"left\":[{\"type\":\"object\",\"name\":\"LinearAxis\",\"id\":\"p1256\",\"attributes\":{\"ticker\":{\"type\":\"object\",\"name\":\"BasicTicker\",\"id\":\"p1257\",\"attributes\":{\"mantissas\":[1,2,5]}},\"formatter\":{\"type\":\"object\",\"name\":\"BasicTickFormatter\",\"id\":\"p1258\"},\"major_label_policy\":{\"type\":\"object\",\"name\":\"AllLabels\",\"id\":\"p1259\"}}}],\"below\":[{\"type\":\"object\",\"name\":\"LinearAxis\",\"id\":\"p1251\",\"attributes\":{\"visible\":false,\"ticker\":{\"type\":\"object\",\"name\":\"BasicTicker\",\"id\":\"p1252\",\"attributes\":{\"mantissas\":[1,2,5]}},\"formatter\":{\"type\":\"object\",\"name\":\"CustomJSTickFormatter\",\"id\":\"p1286\",\"attributes\":{\"args\":{\"type\":\"map\",\"entries\":[[\"axis\",{\"id\":\"p1251\"}],[\"formatter\",{\"type\":\"object\",\"name\":\"DatetimeTickFormatter\",\"id\":\"p1285\",\"attributes\":{\"days\":\"%a, %d %b\"}}],[\"source\",{\"id\":\"p1276\"}]]},\"code\":\"\\nthis.labels = this.labels || formatter.doFormat(ticks\\n                                                .map(i => source.data.datetime[i])\\n                                                .filter(t => t !== undefined));\\nreturn this.labels[index] || \\\"\\\";\\n        \"}},\"major_label_policy\":{\"type\":\"object\",\"name\":\"AllLabels\",\"id\":\"p1254\"}}}],\"center\":[{\"type\":\"object\",\"name\":\"Grid\",\"id\":\"p1255\",\"attributes\":{\"axis\":{\"id\":\"p1251\"}}},{\"type\":\"object\",\"name\":\"Grid\",\"id\":\"p1260\",\"attributes\":{\"dimension\":1,\"axis\":{\"id\":\"p1256\"}}},{\"type\":\"object\",\"name\":\"Legend\",\"id\":\"p1365\",\"attributes\":{\"location\":\"top_left\",\"border_line_color\":\"#333333\",\"background_fill_alpha\":0.9,\"click_policy\":\"hide\",\"label_text_font_size\":\"8pt\",\"margin\":0,\"padding\":5,\"spacing\":0,\"items\":[{\"type\":\"object\",\"name\":\"LegendItem\",\"id\":\"p1366\",\"attributes\":{\"label\":{\"type\":\"value\",\"value\":\"OHLC\"},\"renderers\":[{\"id\":\"p1362\"},{\"id\":\"p1373\"}]}},{\"type\":\"object\",\"name\":\"LegendItem\",\"id\":\"p1385\",\"attributes\":{\"label\":{\"type\":\"value\",\"value\":\"SMA(C,19)\"},\"renderers\":[{\"id\":\"p1382\"}]}}]}},{\"type\":\"object\",\"name\":\"Label\",\"id\":\"p1434\",\"attributes\":{\"text\":\"Created with Backtesting.py: http://kernc.github.io/backtesting.py\",\"text_color\":\"silver\",\"text_alpha\":0.09,\"x\":10,\"y\":15,\"x_units\":\"screen\",\"y_units\":\"screen\"}}],\"min_border_top\":3,\"min_border_bottom\":6,\"min_border_left\":0,\"min_border_right\":10}},0,0],[{\"type\":\"object\",\"name\":\"Figure\",\"id\":\"p1287\",\"attributes\":{\"width\":null,\"height\":70,\"sizing_mode\":\"stretch_width\",\"x_range\":{\"id\":\"p1239\"},\"y_range\":{\"id\":\"p1289\"},\"x_scale\":{\"type\":\"object\",\"name\":\"LinearScale\",\"id\":\"p1296\"},\"y_scale\":{\"type\":\"object\",\"name\":\"LinearScale\",\"id\":\"p1297\"},\"title\":{\"type\":\"object\",\"name\":\"Title\",\"id\":\"p1294\"},\"outline_line_color\":\"#666666\",\"renderers\":[{\"id\":\"p1329\"}],\"toolbar\":{\"type\":\"object\",\"name\":\"Toolbar\",\"id\":\"p1295\",\"attributes\":{\"tools\":[{\"id\":\"p1308\"},{\"id\":\"p1309\"},{\"id\":\"p1310\"},{\"id\":\"p1311\"},{\"id\":\"p1319\"},{\"id\":\"p1320\"},{\"id\":\"p1321\"},{\"type\":\"object\",\"name\":\"SaveTool\",\"id\":\"p1322\"},{\"id\":\"p1332\"},{\"id\":\"p1439\"}],\"active_drag\":{\"id\":\"p1308\"},\"active_scroll\":{\"id\":\"p1309\"}}},\"toolbar_location\":null,\"left\":[{\"type\":\"object\",\"name\":\"LinearAxis\",\"id\":\"p1303\",\"attributes\":{\"ticker\":{\"type\":\"object\",\"name\":\"BasicTicker\",\"id\":\"p1304\",\"attributes\":{\"desired_num_ticks\":3,\"mantissas\":[1,2,5]}},\"formatter\":{\"type\":\"object\",\"name\":\"NumeralTickFormatter\",\"id\":\"p1333\",\"attributes\":{\"format\":\"0 a\"}},\"axis_label\":\"Volume\",\"major_label_policy\":{\"type\":\"object\",\"name\":\"AllLabels\",\"id\":\"p1306\"},\"minor_tick_line_color\":null}}],\"below\":[{\"type\":\"object\",\"name\":\"LinearAxis\",\"id\":\"p1298\",\"attributes\":{\"visible\":true,\"ticker\":{\"type\":\"object\",\"name\":\"BasicTicker\",\"id\":\"p1299\",\"attributes\":{\"mantissas\":[1,2,5]}},\"formatter\":{\"id\":\"p1286\"},\"major_label_policy\":{\"type\":\"object\",\"name\":\"AllLabels\",\"id\":\"p1301\"}}}],\"center\":[{\"type\":\"object\",\"name\":\"Grid\",\"id\":\"p1302\",\"attributes\":{\"axis\":{\"id\":\"p1298\"}}},{\"type\":\"object\",\"name\":\"Grid\",\"id\":\"p1307\",\"attributes\":{\"dimension\":1,\"axis\":{\"id\":\"p1303\"}}}],\"min_border_top\":3,\"min_border_bottom\":6,\"min_border_left\":0,\"min_border_right\":10}},1,0],[{\"type\":\"object\",\"name\":\"Figure\",\"id\":\"p1386\",\"attributes\":{\"width\":null,\"height\":50,\"sizing_mode\":\"stretch_width\",\"x_range\":{\"id\":\"p1239\"},\"y_range\":{\"type\":\"object\",\"name\":\"DataRange1d\",\"id\":\"p1388\"},\"x_scale\":{\"type\":\"object\",\"name\":\"LinearScale\",\"id\":\"p1395\"},\"y_scale\":{\"type\":\"object\",\"name\":\"LinearScale\",\"id\":\"p1396\"},\"title\":{\"type\":\"object\",\"name\":\"Title\",\"id\":\"p1393\"},\"outline_line_color\":\"#666666\",\"renderers\":[{\"id\":\"p1428\"}],\"toolbar\":{\"type\":\"object\",\"name\":\"Toolbar\",\"id\":\"p1394\",\"attributes\":{\"tools\":[{\"id\":\"p1407\"},{\"id\":\"p1408\"},{\"id\":\"p1409\"},{\"id\":\"p1410\"},{\"id\":\"p1418\"},{\"id\":\"p1419\"},{\"id\":\"p1420\"},{\"type\":\"object\",\"name\":\"SaveTool\",\"id\":\"p1421\"},{\"id\":\"p1433\"},{\"id\":\"p1439\"}],\"active_drag\":{\"id\":\"p1407\"},\"active_scroll\":{\"id\":\"p1408\"}}},\"toolbar_location\":null,\"left\":[{\"type\":\"object\",\"name\":\"LinearAxis\",\"id\":\"p1402\",\"attributes\":{\"ticker\":{\"type\":\"object\",\"name\":\"BasicTicker\",\"id\":\"p1403\",\"attributes\":{\"desired_num_ticks\":3,\"mantissas\":[1,2,5]}},\"formatter\":{\"type\":\"object\",\"name\":\"BasicTickFormatter\",\"id\":\"p1404\"},\"major_label_policy\":{\"type\":\"object\",\"name\":\"AllLabels\",\"id\":\"p1405\"},\"minor_tick_line_color\":null}}],\"below\":[{\"type\":\"object\",\"name\":\"LinearAxis\",\"id\":\"p1397\",\"attributes\":{\"visible\":false,\"ticker\":{\"type\":\"object\",\"name\":\"BasicTicker\",\"id\":\"p1398\",\"attributes\":{\"mantissas\":[1,2,5]}},\"formatter\":{\"type\":\"object\",\"name\":\"BasicTickFormatter\",\"id\":\"p1399\"},\"major_label_policy\":{\"type\":\"object\",\"name\":\"AllLabels\",\"id\":\"p1400\"}}}],\"center\":[{\"type\":\"object\",\"name\":\"Grid\",\"id\":\"p1401\",\"attributes\":{\"axis\":{\"id\":\"p1397\"}}},{\"type\":\"object\",\"name\":\"Grid\",\"id\":\"p1406\",\"attributes\":{\"dimension\":1,\"axis\":{\"id\":\"p1402\"}}},{\"type\":\"object\",\"name\":\"Legend\",\"id\":\"p1431\",\"attributes\":{\"location\":\"top_left\",\"border_line_color\":\"#333333\",\"background_fill_alpha\":0.9,\"click_policy\":\"hide\",\"label_text_font_size\":\"8pt\",\"glyph_width\":0,\"margin\":0,\"padding\":5,\"spacing\":0,\"items\":[{\"type\":\"object\",\"name\":\"LegendItem\",\"id\":\"p1432\",\"attributes\":{\"label\":{\"type\":\"value\",\"value\":\"SMA(C,57)\"},\"renderers\":[{\"id\":\"p1428\"}]}}]}}],\"min_border_top\":3,\"min_border_bottom\":6,\"min_border_left\":0,\"min_border_right\":10}},2,0]]}}],\"callbacks\":{\"type\":\"map\",\"entries\":[[\"document_ready\",[{\"type\":\"object\",\"name\":\"CustomJS\",\"id\":\"p1238\",\"attributes\":{\"code\":\"(function() { var i = document.createElement('iframe'); i.style.display='none';i.width=i.height=1;i.loading='eager';i.src='https://kernc.github.io/backtesting.py/plx.gif.html?utm_source='+location.origin;document.body.appendChild(i);})();\"}}]]]}}};\n  const render_items = [{\"docid\":\"814adc2e-0c5f-4161-9ad7-ebde22c00f77\",\"roots\":{\"p1453\":\"c73661f1-3e21-4db5-88a0-80e87a69012d\"},\"root_ids\":[\"p1453\"]}];\n  void root.Bokeh.embed.embed_items_notebook(docs_json, render_items);\n  }\n  if (root.Bokeh !== undefined) {\n    embed_document(root);\n  } else {\n    let attempts = 0;\n    const timer = setInterval(function(root) {\n      if (root.Bokeh !== undefined) {\n        clearInterval(timer);\n        embed_document(root);\n      } else {\n        attempts++;\n        if (attempts > 100) {\n          clearInterval(timer);\n          console.log(\"Bokeh: ERROR: Unable to run BokehJS code because BokehJS library is missing\");\n        }\n      }\n    }, 10, root)\n  }\n})(window);",
      "application/vnd.bokehjs_exec.v0+json": ""
     },
     "metadata": {
      "application/vnd.bokehjs_exec.v0+json": {
       "id": "p1453"
      }
     },
     "output_type": "display_data"
    },
    {
     "data": {
      "text/html": [
       "<div style=\"display: table;\"><div style=\"display: table-row;\"><div style=\"display: table-cell;\"><b title=\"bokeh.models.plots.GridPlot\">GridPlot</b>(</div><div style=\"display: table-cell;\">id&nbsp;=&nbsp;'p1453', <span id=\"p1472\" style=\"cursor: pointer;\">&hellip;)</span></div></div><div class=\"p1471\" style=\"display: none;\"><div style=\"display: table-cell;\"></div><div style=\"display: table-cell;\">align&nbsp;=&nbsp;'auto',</div></div><div class=\"p1471\" style=\"display: none;\"><div style=\"display: table-cell;\"></div><div style=\"display: table-cell;\">aspect_ratio&nbsp;=&nbsp;None,</div></div><div class=\"p1471\" style=\"display: none;\"><div style=\"display: table-cell;\"></div><div style=\"display: table-cell;\">children&nbsp;=&nbsp;[(figure(id='p1240', ...), 0, 0), (figure(id='p1287', ...), 1, 0), (figure(id='p1386', ...), 2, 0)],</div></div><div class=\"p1471\" style=\"display: none;\"><div style=\"display: table-cell;\"></div><div style=\"display: table-cell;\">cols&nbsp;=&nbsp;None,</div></div><div class=\"p1471\" style=\"display: none;\"><div style=\"display: table-cell;\"></div><div style=\"display: table-cell;\">context_menu&nbsp;=&nbsp;None,</div></div><div class=\"p1471\" style=\"display: none;\"><div style=\"display: table-cell;\"></div><div style=\"display: table-cell;\">css_classes&nbsp;=&nbsp;[],</div></div><div class=\"p1471\" style=\"display: none;\"><div style=\"display: table-cell;\"></div><div style=\"display: table-cell;\">css_variables&nbsp;=&nbsp;{},</div></div><div class=\"p1471\" style=\"display: none;\"><div style=\"display: table-cell;\"></div><div style=\"display: table-cell;\">disabled&nbsp;=&nbsp;False,</div></div><div class=\"p1471\" style=\"display: none;\"><div style=\"display: table-cell;\"></div><div style=\"display: table-cell;\">elements&nbsp;=&nbsp;[],</div></div><div class=\"p1471\" style=\"display: none;\"><div style=\"display: table-cell;\"></div><div style=\"display: table-cell;\">flow_mode&nbsp;=&nbsp;'block',</div></div><div class=\"p1471\" style=\"display: none;\"><div style=\"display: table-cell;\"></div><div style=\"display: table-cell;\">height&nbsp;=&nbsp;None,</div></div><div class=\"p1471\" style=\"display: none;\"><div style=\"display: table-cell;\"></div><div style=\"display: table-cell;\">height_policy&nbsp;=&nbsp;'auto',</div></div><div class=\"p1471\" style=\"display: none;\"><div style=\"display: table-cell;\"></div><div style=\"display: table-cell;\">html_attributes&nbsp;=&nbsp;{},</div></div><div class=\"p1471\" style=\"display: none;\"><div style=\"display: table-cell;\"></div><div style=\"display: table-cell;\">html_id&nbsp;=&nbsp;None,</div></div><div class=\"p1471\" style=\"display: none;\"><div style=\"display: table-cell;\"></div><div style=\"display: table-cell;\">js_event_callbacks&nbsp;=&nbsp;{},</div></div><div class=\"p1471\" style=\"display: none;\"><div style=\"display: table-cell;\"></div><div style=\"display: table-cell;\">js_property_callbacks&nbsp;=&nbsp;{},</div></div><div class=\"p1471\" style=\"display: none;\"><div style=\"display: table-cell;\"></div><div style=\"display: table-cell;\">margin&nbsp;=&nbsp;None,</div></div><div class=\"p1471\" style=\"display: none;\"><div style=\"display: table-cell;\"></div><div style=\"display: table-cell;\">max_height&nbsp;=&nbsp;None,</div></div><div class=\"p1471\" style=\"display: none;\"><div style=\"display: table-cell;\"></div><div style=\"display: table-cell;\">max_width&nbsp;=&nbsp;None,</div></div><div class=\"p1471\" style=\"display: none;\"><div style=\"display: table-cell;\"></div><div style=\"display: table-cell;\">min_height&nbsp;=&nbsp;None,</div></div><div class=\"p1471\" style=\"display: none;\"><div style=\"display: table-cell;\"></div><div style=\"display: table-cell;\">min_width&nbsp;=&nbsp;None,</div></div><div class=\"p1471\" style=\"display: none;\"><div style=\"display: table-cell;\"></div><div style=\"display: table-cell;\">name&nbsp;=&nbsp;None,</div></div><div class=\"p1471\" style=\"display: none;\"><div style=\"display: table-cell;\"></div><div style=\"display: table-cell;\">resizable&nbsp;=&nbsp;False,</div></div><div class=\"p1471\" style=\"display: none;\"><div style=\"display: table-cell;\"></div><div style=\"display: table-cell;\">rows&nbsp;=&nbsp;None,</div></div><div class=\"p1471\" style=\"display: none;\"><div style=\"display: table-cell;\"></div><div style=\"display: table-cell;\">sizing_mode&nbsp;=&nbsp;'stretch_width',</div></div><div class=\"p1471\" style=\"display: none;\"><div style=\"display: table-cell;\"></div><div style=\"display: table-cell;\">spacing&nbsp;=&nbsp;0,</div></div><div class=\"p1471\" style=\"display: none;\"><div style=\"display: table-cell;\"></div><div style=\"display: table-cell;\">styles&nbsp;=&nbsp;{},</div></div><div class=\"p1471\" style=\"display: none;\"><div style=\"display: table-cell;\"></div><div style=\"display: table-cell;\">stylesheets&nbsp;=&nbsp;[],</div></div><div class=\"p1471\" style=\"display: none;\"><div style=\"display: table-cell;\"></div><div style=\"display: table-cell;\">subscribed_events&nbsp;=&nbsp;PropertyValueSet(),</div></div><div class=\"p1471\" style=\"display: none;\"><div style=\"display: table-cell;\"></div><div style=\"display: table-cell;\">syncable&nbsp;=&nbsp;True,</div></div><div class=\"p1471\" style=\"display: none;\"><div style=\"display: table-cell;\"></div><div style=\"display: table-cell;\">tags&nbsp;=&nbsp;[],</div></div><div class=\"p1471\" style=\"display: none;\"><div style=\"display: table-cell;\"></div><div style=\"display: table-cell;\">toolbar&nbsp;=&nbsp;Toolbar(id='p1452', ...),</div></div><div class=\"p1471\" style=\"display: none;\"><div style=\"display: table-cell;\"></div><div style=\"display: table-cell;\">toolbar_location&nbsp;=&nbsp;'right',</div></div><div class=\"p1471\" style=\"display: none;\"><div style=\"display: table-cell;\"></div><div style=\"display: table-cell;\">visible&nbsp;=&nbsp;True,</div></div><div class=\"p1471\" style=\"display: none;\"><div style=\"display: table-cell;\"></div><div style=\"display: table-cell;\">width&nbsp;=&nbsp;None,</div></div><div class=\"p1471\" style=\"display: none;\"><div style=\"display: table-cell;\"></div><div style=\"display: table-cell;\">width_policy&nbsp;=&nbsp;'auto')</div></div></div>\n",
       "<script>\n",
       "(function() {\n",
       "  let expanded = false;\n",
       "  const ellipsis = document.getElementById(\"p1472\");\n",
       "  ellipsis.addEventListener(\"click\", function() {\n",
       "    const rows = document.getElementsByClassName(\"p1471\");\n",
       "    for (let i = 0; i < rows.length; i++) {\n",
       "      const el = rows[i];\n",
       "      el.style.display = expanded ? \"none\" : \"table-row\";\n",
       "    }\n",
       "    ellipsis.innerHTML = expanded ? \"&hellip;)\" : \"&lsaquo;&lsaquo;&lsaquo;\";\n",
       "    expanded = !expanded;\n",
       "  });\n",
       "})();\n",
       "</script>\n"
      ],
      "text/plain": [
       "GridPlot(id='p1453', ...)"
      ]
     },
     "execution_count": 10,
     "metadata": {},
     "output_type": "execute_result"
    }
   ],
   "source": [
    "test_best_strategy.plot()"
   ]
  },
  {
   "cell_type": "code",
   "execution_count": null,
   "id": "0b54d5b6",
   "metadata": {},
   "outputs": [],
   "source": []
  }
 ],
 "metadata": {
  "kernelspec": {
   "display_name": "Python 3",
   "language": "python",
   "name": "python3"
  },
  "language_info": {
   "codemirror_mode": {
    "name": "ipython",
    "version": 3
   },
   "file_extension": ".py",
   "mimetype": "text/x-python",
   "name": "python",
   "nbconvert_exporter": "python",
   "pygments_lexer": "ipython3",
   "version": "3.13.3"
  }
 },
 "nbformat": 4,
 "nbformat_minor": 5
}
