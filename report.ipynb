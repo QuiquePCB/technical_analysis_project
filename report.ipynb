{
 "cells": [
  {
   "cell_type": "code",
   "execution_count": 1,
   "id": "b1d5dda9",
   "metadata": {},
   "outputs": [],
   "source": [
    "# Descargamos datos y preparamos datasets\n",
    "from tech_analysis.train_test_split import TrainTestSets\n"
   ]
  },
  {
   "cell_type": "code",
   "execution_count": 2,
   "id": "8c323238",
   "metadata": {},
   "outputs": [
    {
     "ename": "NameError",
     "evalue": "name 'train_test_split' is not defined",
     "output_type": "error",
     "traceback": [
      "\u001b[31m---------------------------------------------------------------------------\u001b[39m",
      "\u001b[31mNameError\u001b[39m                                 Traceback (most recent call last)",
      "\u001b[36mCell\u001b[39m\u001b[36m \u001b[39m\u001b[32mIn[2]\u001b[39m\u001b[32m, line 5\u001b[39m\n\u001b[32m      3\u001b[39m intervals = [\u001b[33m\"\u001b[39m\u001b[33m4h\u001b[39m\u001b[33m\"\u001b[39m, \u001b[33m\"\u001b[39m\u001b[33m1d\u001b[39m\u001b[33m\"\u001b[39m]\n\u001b[32m      4\u001b[39m \u001b[38;5;66;03m# Este es un diccionario\u001b[39;00m\n\u001b[32m----> \u001b[39m\u001b[32m5\u001b[39m data = \u001b[43mtts\u001b[49m\u001b[43m.\u001b[49m\u001b[43minterval_train_test_split\u001b[49m\u001b[43m(\u001b[49m\u001b[43mticker\u001b[49m\u001b[43m,\u001b[49m\u001b[43m \u001b[49m\u001b[43mintervals\u001b[49m\u001b[43m)\u001b[49m\n\u001b[32m      6\u001b[39m data.keys()\n",
      "\u001b[36mFile \u001b[39m\u001b[32mc:\\Users\\QuiquePCB\\Documents\\GitHub\\technical_analysis_project\\tech_analysis\\train_test_split.py:41\u001b[39m, in \u001b[36mTrainTestSets.interval_train_test_split\u001b[39m\u001b[34m(self, ticker, intervals)\u001b[39m\n\u001b[32m     38\u001b[39m all_data = {}\n\u001b[32m     40\u001b[39m \u001b[38;5;28;01mfor\u001b[39;00m interval \u001b[38;5;129;01min\u001b[39;00m intervals:\n\u001b[32m---> \u001b[39m\u001b[32m41\u001b[39m     data_from_split = \u001b[43mtrain_test_split\u001b[49m(\u001b[38;5;28mself\u001b[39m, ticker, interval)\n\u001b[32m     42\u001b[39m     all_data[\u001b[33mf\u001b[39m\u001b[33m\"\u001b[39m\u001b[38;5;132;01m{\u001b[39;00minterval\u001b[38;5;132;01m}\u001b[39;00m\u001b[33m_train\u001b[39m\u001b[33m\"\u001b[39m] = data_from_split[\u001b[32m0\u001b[39m]\n\u001b[32m     43\u001b[39m     all_data[\u001b[33mf\u001b[39m\u001b[33m\"\u001b[39m\u001b[38;5;132;01m{\u001b[39;00minterval\u001b[38;5;132;01m}\u001b[39;00m\u001b[33m_test\u001b[39m\u001b[33m\"\u001b[39m] = data_from_split[\u001b[32m1\u001b[39m]\n",
      "\u001b[31mNameError\u001b[39m: name 'train_test_split' is not defined"
     ]
    }
   ],
   "source": [
    "tts = TrainTestSets()\n",
    "ticker = 'BTC-USD'\n",
    "intervals = [\"4h\", \"1d\"]\n",
    "# Este es un diccionario\n",
    "data = tts.interval_train_test_split(ticker, intervals)\n",
    "data.keys()"
   ]
  },
  {
   "cell_type": "code",
   "execution_count": null,
   "id": "ff57aa55",
   "metadata": {},
   "outputs": [],
   "source": [
    "# Imporrtamos estrategias\n",
    "from tech_analysis.strategies import SmaCross\n"
   ]
  },
  {
   "cell_type": "code",
   "execution_count": null,
   "id": "4143c9ba",
   "metadata": {},
   "outputs": [],
   "source": [
    "# Optimizamos\n",
    "from tech_analysis.optimization import SMAOptTechAnalysis"
   ]
  },
  {
   "cell_type": "code",
   "execution_count": null,
   "id": "6ce8fbce",
   "metadata": {},
   "outputs": [],
   "source": [
    "n1 = range(5, 20)\n",
    "n2 = range(20, 60)\n",
    "optimizer = SMAOptTechAnalysis(SmaCross)\n",
    "optimizer.sma_strategy_optimization(all_data=data, n1=n1, n2=n2)"
   ]
  },
  {
   "cell_type": "code",
   "execution_count": null,
   "id": "b4e3a49a",
   "metadata": {},
   "outputs": [],
   "source": [
    "# Probamos la mejor estrategia con el dataset de test\n",
    "from backtesting import Backtest\n",
    "\n",
    "test_best_strategy = Backtest(data['1d_test'], SmaCross, cash=10_000_000, commission=0.002)"
   ]
  },
  {
   "cell_type": "code",
   "execution_count": null,
   "id": "cc771de4",
   "metadata": {},
   "outputs": [],
   "source": [
    "stats = test_best_strategy.run(n1=19, n2=57)\n",
    "stats"
   ]
  }
 ],
 "metadata": {
  "kernelspec": {
   "display_name": "venv",
   "language": "python",
   "name": "python3"
  },
  "language_info": {
   "codemirror_mode": {
    "name": "ipython",
    "version": 3
   },
   "file_extension": ".py",
   "mimetype": "text/x-python",
   "name": "python",
   "nbconvert_exporter": "python",
   "pygments_lexer": "ipython3",
   "version": "3.13.3"
  }
 },
 "nbformat": 4,
 "nbformat_minor": 5
}
